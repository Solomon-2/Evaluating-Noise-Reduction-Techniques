{
 "cells": [
  {
   "cell_type": "markdown",
   "id": "df8c1d0a",
   "metadata": {},
   "source": [
    "# Noise Reduction Techniques for Smartphone Sleep Audio\n",
    "\n",
    "This notebook demonstrates two classic noise reduction techniques—**Spectral Subtraction** and **Wiener Filtering**—applied to smartphone audio recorded for sleep analysis. We'll compare their effectiveness using a sample noisy audio file."
   ]
  },
  {
   "cell_type": "markdown",
   "id": "b22c637a",
   "metadata": {},
   "source": [
    "## 1. Setup and Imports\n",
    "\n",
    "We'll use `librosa` for audio processing, `numpy` for numerical operations, `soundfile` for saving audio, and `matplotlib` for visualization."
   ]
  },
  {
   "cell_type": "code",
   "execution_count": null,
   "id": "1bae3f41",
   "metadata": {},
   "outputs": [],
   "source": [
    "import librosa\n",
    "import numpy as np\n",
    "import soundfile as sf\n",
    "import matplotlib.pyplot as plt\n",
    "import IPython.display as ipd"
   ]
  },
  {
   "cell_type": "markdown",
   "id": "32ebdd39",
   "metadata": {},
   "source": [
    "## 2. Load Noisy Audio\n",
    "\n",
    "We'll load a sample noisy audio file (e.g., `sleep_demo/sleep_test_1.wav`). The sample rate is set to 16 kHz."
   ]
  },
  {
   "cell_type": "code",
   "execution_count": null,
   "id": "5690310d",
   "metadata": {},
   "outputs": [],
   "source": [
    "audio_path = 'sleep_demo/sleep_test_1.wav'\n",
    "target_sr = 16000\n",
    "y_noisy, sr = librosa.load(audio_path, sr=target_sr)\n",
    "print(f\"Loaded audio: {audio_path}, Duration: {len(y_noisy)/sr:.2f}s, Sample Rate: {sr}\")\n",
    "ipd.Audio(y_noisy, rate=sr)"
   ]
  },
  {
   "cell_type": "markdown",
   "id": "33093266",
   "metadata": {},
   "source": [
    "## 3. Spectral Subtraction\n",
    "\n",
    "We estimate the noise profile from the first 0.5 seconds of the audio and subtract it from the entire signal in the frequency domain."
   ]
  },
  {
   "cell_type": "code",
   "execution_count": null,
   "id": "29f1c427",
   "metadata": {},
   "outputs": [],
   "source": [
    "def spectral_subtraction_auto_noise(\n",
    "    y_mixed,\n",
    "    sr,\n",
    "    noise_duration_sec=0.5,\n",
    "    n_fft=2048,\n",
    "    hop_length=512,\n",
    "    subtraction_factor=3.0,\n",
    "    floor_factor=0.01,\n",
    "    verbose=False\n",
    "):\n",
    "    if verbose:\n",
    "        print(\"Starting Spectral Subtraction (Auto Noise Estimation)...\")\n",
    "    S_mixed_full = librosa.stft(y_mixed, n_fft=n_fft, hop_length=hop_length)\n",
    "    noise_frames_count = int(np.ceil((noise_duration_sec * sr) / hop_length))\n",
    "    noise_frames_count = min(noise_frames_count, S_mixed_full.shape[1])\n",
    "    if noise_frames_count == 0:\n",
    "        avg_power_noise_profile = np.zeros((S_mixed_full.shape[0], 1)) * 1e-10\n",
    "    else:\n",
    "        S_initial_noise_segment = S_mixed_full[:, :noise_frames_count]\n",
    "        power_initial_noise_segment = np.abs(S_initial_noise_segment)**2\n",
    "        avg_power_noise_profile = np.mean(power_initial_noise_segment, axis=1, keepdims=True)\n",
    "    magnitude_mixed_full, phase_mixed_full = librosa.magphase(S_mixed_full)\n",
    "    power_mixed_full = magnitude_mixed_full**2\n",
    "    power_cleaned_est = power_mixed_full - subtraction_factor * avg_power_noise_profile\n",
    "    spectral_floor = floor_factor * avg_power_noise_profile\n",
    "    power_cleaned = np.maximum(power_cleaned_est, spectral_floor)\n",
    "    magnitude_cleaned = np.sqrt(power_cleaned)\n",
    "    S_cleaned = magnitude_cleaned * phase_mixed_full\n",
    "    y_cleaned = librosa.istft(S_cleaned, hop_length=hop_length, length=len(y_mixed))\n",
    "    return y_cleaned"
   ]
  },
  {
   "cell_type": "code",
   "execution_count": null,
   "id": "daa32918",
   "metadata": {},
   "outputs": [],
   "source": [
    "y_cleaned_specsub = spectral_subtraction_auto_noise(\n",
    "    y_noisy, sr, noise_duration_sec=0.5, n_fft=2048, hop_length=512, subtraction_factor=3.0, floor_factor=0.01, verbose=True\n",
    ")\n",
    "sf.write(\"sleep_demo/cleaned_specsub.wav\", y_cleaned_specsub, sr)\n",
    "ipd.Audio(y_cleaned_specsub, rate=sr)"
   ]
  },
  {
   "cell_type": "markdown",
   "id": "dd127552",
   "metadata": {},
   "source": [
    "## 4. Wiener Filtering\n",
    "\n",
    "We apply a basic frequency-domain Wiener filter, again estimating the noise from the initial segment."
   ]
  },
  {
   "cell_type": "code",
   "execution_count": null,
   "id": "c8e3e0d1",
   "metadata": {},
   "outputs": [],
   "source": [
    "def wiener_filter_basic_auto_noise(\n",
    "    y_mixed,\n",
    "    sr,\n",
    "    noise_duration_sec=0.5,\n",
    "    n_fft=2048,\n",
    "    hop_length=512,\n",
    "    epsilon=1e-10,\n",
    "    verbose=False\n",
    "):\n",
    "    if verbose:\n",
    "        print(\"Starting Wiener Filter (Auto Noise Estimation)...\")\n",
    "    S_mixed_full = librosa.stft(y_mixed, n_fft=n_fft, hop_length=hop_length)\n",
    "    noise_frames_count = int(np.ceil((noise_duration_sec * sr) / hop_length))\n",
    "    noise_frames_count = min(noise_frames_count, S_mixed_full.shape[1])\n",
    "    if noise_frames_count <= 0:\n",
    "        avg_power_noise_profile = np.full((S_mixed_full.shape[0], 1), epsilon)\n",
    "    else:\n",
    "        S_initial_noise_segment = S_mixed_full[:, :noise_frames_count]\n",
    "        power_initial_noise_segment = np.abs(S_initial_noise_segment)**2\n",
    "        avg_power_noise_profile = np.mean(power_initial_noise_segment, axis=1, keepdims=True)\n",
    "        avg_power_noise_profile = np.maximum(avg_power_noise_profile, epsilon)\n",
    "    magnitude_mixed_full, phase_mixed_full = librosa.magphase(S_mixed_full)\n",
    "    power_mixed_full = magnitude_mixed_full**2\n",
    "    P_ss_estimated = power_mixed_full - avg_power_noise_profile\n",
    "    P_ss_estimated = np.maximum(P_ss_estimated, 0)\n",
    "    wiener_gain = P_ss_estimated / (P_ss_estimated + avg_power_noise_profile + epsilon)\n",
    "    magnitude_cleaned = wiener_gain * magnitude_mixed_full\n",
    "    S_cleaned = magnitude_cleaned * phase_mixed_full\n",
    "    y_cleaned = librosa.istft(S_cleaned, hop_length=hop_length, length=len(y_mixed))\n",
    "    return y_cleaned"
   ]
  },
  {
   "cell_type": "code",
   "execution_count": null,
   "id": "564af83d",
   "metadata": {},
   "outputs": [],
   "source": [
    "y_cleaned_wiener = wiener_filter_basic_auto_noise(\n",
    "    y_noisy, sr, noise_duration_sec=0.75, n_fft=2048, hop_length=512, epsilon=1e-10, verbose=True\n",
    ")\n",
    "sf.write(\"sleep_demo/cleaned_wiener.wav\", y_cleaned_wiener, sr)\n",
    "ipd.Audio(y_cleaned_wiener, rate=sr)"
   ]
  },
  {
   "cell_type": "markdown",
   "id": "920f4f74",
   "metadata": {},
   "source": [
    "## 5. Visual Comparison\n",
    "\n",
    "Let's visualize the spectrograms of the original noisy audio, the spectral subtraction result, and the Wiener filter result."
   ]
  },
  {
   "cell_type": "code",
   "execution_count": null,
   "id": "7d3d8cd9",
   "metadata": {},
   "outputs": [],
   "source": [
    "def plot_spectrograms(y_list, titles, sr, n_fft=2048, hop_length=512):\n",
    "    fig, ax = plt.subplots(nrows=len(y_list), sharex=True, sharey=True, figsize=(12, 3*len(y_list)))\n",
    "    if len(y_list) == 1:\n",
    "        ax = [ax]\n",
    "    for i, (y, title) in enumerate(zip(y_list, titles)):\n",
    "        S_db = librosa.amplitude_to_db(np.abs(librosa.stft(y, n_fft=n_fft, hop_length=hop_length)), ref=np.max)\n",
    "        librosa.display.specshow(S_db, y_axis='log', x_axis='time', sr=sr, ax=ax[i], hop_length=hop_length)\n",
    "        ax[i].set(title=title)\n",
    "        ax[i].label_outer()\n",
    "    plt.tight_layout()\n",
    "    plt.show()\n",
    "\n",
    "plot_spectrograms(\n",
    "    [y_noisy, y_cleaned_specsub, y_cleaned_wiener],\n",
    "    [\"Noisy Input\", \"Spectral Subtraction Output\", \"Wiener Filter Output\"],\n",
    "    sr\n",
    ")"
   ]
  },
  {
   "cell_type": "markdown",
   "id": "ba56e729",
   "metadata": {},
   "source": [
    "## 6. Listen and Compare\n",
    "\n",
    "You can listen to the original and processed audio below to compare the effectiveness of each noise reduction technique."
   ]
  },
  {
   "cell_type": "code",
   "execution_count": null,
   "id": "33099666",
   "metadata": {},
   "outputs": [],
   "source": [
    "print(\"Noisy Input:\")\n",
    "display(ipd.Audio(y_noisy, rate=sr))\n",
    "print(\"Spectral Subtraction Output:\")\n",
    "display(ipd.Audio(y_cleaned_specsub, rate=sr))\n",
    "print(\"Wiener Filter Output:\")\n",
    "display(ipd.Audio(y_cleaned_wiener, rate=sr))"
   ]
  },
  {
   "cell_type": "markdown",
   "id": "d2a60932",
   "metadata": {},
   "source": [
    "## 7. Conclusion\n",
    "\n",
    "Both spectral subtraction and Wiener filtering can reduce background noise in sleep audio recordings. Spectral subtraction is simple and effective for stationary noise, while Wiener filtering can provide smoother results but may require careful parameter tuning. For best results, experiment with noise estimation duration and other parameters based on your specific audio data."
   ]
  }
 ],
 "metadata": {
  "kernelspec": {
   "display_name": "venv",
   "language": "python",
   "name": "python3"
  },
  "language_info": {
   "name": "python",
   "version": "3.13.5"
  }
 },
 "nbformat": 4,
 "nbformat_minor": 5
}
