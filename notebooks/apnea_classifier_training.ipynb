{
 "cells": [
  {
   "cell_type": "markdown",
   "id": "b6dd5044",
   "metadata": {},
   "source": [
    "# Apnea Event Classifier Training Notebook\n",
    "\n",
    "This notebook guides you through training a machine learning model to detect apnea events from audio features."
   ]
  },
  {
   "cell_type": "code",
   "execution_count": null,
   "id": "5f48ed4c",
   "metadata": {},
   "outputs": [
    {
     "name": "stderr",
     "output_type": "stream",
     "text": [
      "c:\\Users\\solom\\Documents\\Evaluating-Noise-Reduction-Techniques\\venv\\Lib\\site-packages\\tqdm\\auto.py:21: TqdmWarning: IProgress not found. Please update jupyter and ipywidgets. See https://ipywidgets.readthedocs.io/en/stable/user_install.html\n",
      "  from .autonotebook import tqdm as notebook_tqdm\n"
     ]
    }
   ],
   "source": [
    "# Cell 1: Imports and Setup\n",
    "import pandas as pd\n",
    "import numpy as np\n",
    "import matplotlib.pyplot as plt\n",
    "import joblib # For saving/loading models\n",
    "\n",
    "from sklearn.model_selection import train_test_split, GroupKFold, GridSearchCV\n",
    "from sklearn.preprocessing import StandardScaler\n",
    "from sklearn.ensemble import RandomForestClassifier # Or import xgb.XGBClassifier if you prefer XGBoost\n",
    "from sklearn.metrics import (\n",
    "    accuracy_score, precision_score, recall_score, f1_score, roc_auc_score,\n",
    "    confusion_matrix, classification_report, ConfusionMatrixDisplay, RocCurveDisplay, PrecisionRecallDisplay\n",
    ")\n",
    "from imblearn.over_sampling import SMOTE # For handling class imbalance\n",
    "from imblearn.pipeline import Pipeline as ImbPipeline # Use imblearn's pipeline for SMOTE\n",
    "\n",
    "# Set a random seed for reproducibility\n",
    "np.random.seed(42)\n"
   ]
  },
  {
   "cell_type": "code",
   "execution_count": null,
   "id": "6b0372e4",
   "metadata": {},
   "outputs": [
    {
     "name": "stderr",
     "output_type": "stream",
     "text": [
      "<>:2: SyntaxWarning: invalid escape sequence '\\m'\n",
      "<>:2: SyntaxWarning: invalid escape sequence '\\m'\n",
      "C:\\Users\\solom\\AppData\\Local\\Temp\\ipykernel_1712\\159429153.py:2: SyntaxWarning: invalid escape sequence '\\m'\n",
      "  df = pd.read_csv('..\\master_apnea_dataset (1).csv')\n"
     ]
    }
   ],
   "source": [
    "# Cell 2: Load Data & Initial Inspection\n",
    "\n",
    "# --- IMPORTANT: Replace 'your_apnea_dataset.csv' with the actual path to your data ---\n",
    "data_path = '..\\master_apnea_dataset (1).csv'\n",
    "df = pd.read_csv(data_path)\n",
    "\n",
    "# Display initial data info\n",
    "print(\"--- Initial Data Information ---\")\n",
    "print(df.head())\n",
    "print(\"\\nData Info:\")\n",
    "df.info()\n",
    "print(\"\\nInitial Label Distribution:\")\n",
    "print(df['label'].value_counts())\n",
    "print(\"\\nInitial Label Distribution (Normalized):\")\n",
    "print(df['label'].value_counts(normalize=True))"
   ]
  },
  {
   "cell_type": "code",
   "execution_count": 28,
   "id": "b8df4c62",
   "metadata": {},
   "outputs": [
    {
     "name": "stdout",
     "output_type": "stream",
     "text": [
      "Kept 306,140 frames after removing silent ones.\n"
     ]
    }
   ],
   "source": [
    "# Clean Data and prep for training\n",
    "feature_cols = [c for c in df.columns\n",
    "                if c not in {'patient_id', 'frame_start', 'frame_end', 'label'}]\n",
    "\n",
    "# Build a boolean mask: True = keep this row\n",
    "mask = ~(df[feature_cols] == 0).all(axis=1)\n",
    "df = df.loc[mask].reset_index(drop=True)\n",
    "\n",
    "print(f'Kept {len(df):,} frames after removing silent ones.')\n",
    "\n"
   ]
  },
  {
   "cell_type": "code",
   "execution_count": 29,
   "id": "913f7490",
   "metadata": {},
   "outputs": [],
   "source": [
    "# ---------- 3. Rolling context features ----------\n",
    "WIN = 5  # ±2.5 s each side\n",
    "stats = ['mean', 'std', 'slope']\n",
    "new_cols = []\n",
    "\n",
    "for col in feature_cols:\n",
    "    s = df[col].rolling(window=WIN, center=True, min_periods=1)\n",
    "    df[f'{col}_mean']  = s.mean()\n",
    "    df[f'{col}_std']   = s.std()\n",
    "    # simple slope: (last - first)/(WIN-1)\n",
    "    df[f'{col}_slope'] = s.apply(lambda x: (x.iloc[-1] - x.iloc[0]) / (len(x) - 1)\n",
    "                                 if len(x) > 1 else 0.)\n",
    "    new_cols.extend([f'{col}_{s}' for s in stats])\n",
    "\n",
    "X_all = df[feature_cols + new_cols].values.astype('float32')\n",
    "y_all = df['label'].values\n",
    "groups = df['patient_id'].values"
   ]
  },
  {
   "cell_type": "code",
   "execution_count": 30,
   "id": "da6c1b7c",
   "metadata": {},
   "outputs": [],
   "source": [
    "# ---------- 4. Patient-wise 5-fold CV ----------\n",
    "gkf = GroupKFold(n_splits=5)\n",
    "folds = list(gkf.split(X_all, y_all, groups))"
   ]
  },
  {
   "cell_type": "code",
   "execution_count": 31,
   "id": "f1bdc1dc",
   "metadata": {},
   "outputs": [
    {
     "name": "stderr",
     "output_type": "stream",
     "text": [
      "[I 2025-07-22 00:23:14,763] A new study created in memory with name: no-name-b4d63349-4189-48bf-a256-fc96b047763f\n",
      "Best trial: 0. Best value: 0.293928:   2%|▎         | 1/40 [00:40<26:17, 40.46s/it]"
     ]
    },
    {
     "name": "stdout",
     "output_type": "stream",
     "text": [
      "[I 2025-07-22 00:23:55,219] Trial 0 finished with value: 0.29392843574622235 and parameters: {'scale_pos_weight': 37.316043526313265, 'max_depth': 5, 'eta': 0.11345812640212863, 'subsample': 0.8865984302649417, 'colsample_bytree': 0.5242531138721043, 'min_child_weight': 2}. Best is trial 0 with value: 0.29392843574622235.\n"
     ]
    },
    {
     "name": "stderr",
     "output_type": "stream",
     "text": [
      "Best trial: 0. Best value: 0.293928:   5%|▌         | 2/40 [01:45<34:57, 55.20s/it]"
     ]
    },
    {
     "name": "stdout",
     "output_type": "stream",
     "text": [
      "[I 2025-07-22 00:25:00,727] Trial 1 finished with value: 0.28871640775818014 and parameters: {'scale_pos_weight': 47.6579369823112, 'max_depth': 6, 'eta': 0.019663366179587125, 'subsample': 0.7971145374669981, 'colsample_bytree': 0.9878839848656579, 'min_child_weight': 8}. Best is trial 0 with value: 0.29392843574622235.\n"
     ]
    },
    {
     "name": "stderr",
     "output_type": "stream",
     "text": [
      "Best trial: 0. Best value: 0.293928:   8%|▊         | 3/40 [02:23<28:59, 47.02s/it]"
     ]
    },
    {
     "name": "stdout",
     "output_type": "stream",
     "text": [
      "[I 2025-07-22 00:25:38,031] Trial 2 finished with value: 0.2934980484626551 and parameters: {'scale_pos_weight': 41.41799042187072, 'max_depth': 3, 'eta': 0.07129260599476135, 'subsample': 0.9703980909164757, 'colsample_bytree': 0.6454468366752837, 'min_child_weight': 7}. Best is trial 0 with value: 0.29392843574622235.\n"
     ]
    },
    {
     "name": "stderr",
     "output_type": "stream",
     "text": [
      "Best trial: 0. Best value: 0.293928:  10%|█         | 4/40 [03:09<27:55, 46.54s/it]"
     ]
    },
    {
     "name": "stdout",
     "output_type": "stream",
     "text": [
      "[I 2025-07-22 00:26:23,841] Trial 3 finished with value: 0.28962419913120263 and parameters: {'scale_pos_weight': 25.513499688879033, 'max_depth': 5, 'eta': 0.10747710809720526, 'subsample': 0.9001281906944782, 'colsample_bytree': 0.6395379476415537, 'min_child_weight': 7}. Best is trial 0 with value: 0.29392843574622235.\n"
     ]
    },
    {
     "name": "stderr",
     "output_type": "stream",
     "text": [
      "Best trial: 0. Best value: 0.293928:  12%|█▎        | 5/40 [06:26<58:58, 101.10s/it]"
     ]
    },
    {
     "name": "stdout",
     "output_type": "stream",
     "text": [
      "[I 2025-07-22 00:29:41,680] Trial 4 finished with value: 0.2842070118625289 and parameters: {'scale_pos_weight': 43.20817685268065, 'max_depth': 10, 'eta': 0.039382778433431465, 'subsample': 0.931002887806756, 'colsample_bytree': 0.7252052403590041, 'min_child_weight': 3}. Best is trial 0 with value: 0.29392843574622235.\n"
     ]
    },
    {
     "name": "stderr",
     "output_type": "stream",
     "text": [
      "Best trial: 0. Best value: 0.293928:  15%|█▌        | 6/40 [07:37<51:20, 90.59s/it] "
     ]
    },
    {
     "name": "stdout",
     "output_type": "stream",
     "text": [
      "[I 2025-07-22 00:30:51,866] Trial 5 finished with value: 0.28504932608885397 and parameters: {'scale_pos_weight': 20.957247363524345, 'max_depth': 9, 'eta': 0.04140724911125586, 'subsample': 0.6824311326214038, 'colsample_bytree': 0.9242313396760727, 'min_child_weight': 1}. Best is trial 0 with value: 0.29392843574622235.\n"
     ]
    },
    {
     "name": "stderr",
     "output_type": "stream",
     "text": [
      "Best trial: 6. Best value: 0.298913:  18%|█▊        | 7/40 [08:11<39:39, 72.09s/it]"
     ]
    },
    {
     "name": "stdout",
     "output_type": "stream",
     "text": [
      "[I 2025-07-22 00:31:25,881] Trial 6 finished with value: 0.29891268809853677 and parameters: {'scale_pos_weight': 48.81425369074565, 'max_depth': 3, 'eta': 0.1675126773903939, 'subsample': 0.5437569466354994, 'colsample_bytree': 0.936693049263768, 'min_child_weight': 7}. Best is trial 6 with value: 0.29891268809853677.\n"
     ]
    },
    {
     "name": "stderr",
     "output_type": "stream",
     "text": [
      "Best trial: 6. Best value: 0.298913:  20%|██        | 8/40 [09:40<41:26, 77.69s/it]"
     ]
    },
    {
     "name": "stdout",
     "output_type": "stream",
     "text": [
      "[I 2025-07-22 00:32:55,555] Trial 7 finished with value: 0.27808606431199867 and parameters: {'scale_pos_weight': 48.376470065364366, 'max_depth': 8, 'eta': 0.20468447568762757, 'subsample': 0.7598972190844977, 'colsample_bytree': 0.620445864706811, 'min_child_weight': 2}. Best is trial 6 with value: 0.29891268809853677.\n"
     ]
    },
    {
     "name": "stderr",
     "output_type": "stream",
     "text": [
      "Best trial: 6. Best value: 0.298913:  22%|██▎       | 9/40 [10:31<35:46, 69.24s/it]"
     ]
    },
    {
     "name": "stdout",
     "output_type": "stream",
     "text": [
      "[I 2025-07-22 00:33:46,199] Trial 8 finished with value: 0.290550837901102 and parameters: {'scale_pos_weight': 20.93062400000148, 'max_depth': 7, 'eta': 0.03235419737886406, 'subsample': 0.8517514802230737, 'colsample_bytree': 0.6898898923675932, 'min_child_weight': 4}. Best is trial 6 with value: 0.29891268809853677.\n"
     ]
    },
    {
     "name": "stderr",
     "output_type": "stream",
     "text": [
      "Best trial: 6. Best value: 0.298913:  25%|██▌       | 10/40 [12:00<37:37, 75.27s/it]"
     ]
    },
    {
     "name": "stdout",
     "output_type": "stream",
     "text": [
      "[I 2025-07-22 00:35:14,973] Trial 9 finished with value: 0.2571869299904314 and parameters: {'scale_pos_weight': 30.205720265248928, 'max_depth': 10, 'eta': 0.27867289966335274, 'subsample': 0.99861303904932, 'colsample_bytree': 0.6407136040769723, 'min_child_weight': 10}. Best is trial 6 with value: 0.29891268809853677.\n"
     ]
    },
    {
     "name": "stderr",
     "output_type": "stream",
     "text": [
      "Best trial: 6. Best value: 0.298913:  28%|██▊       | 11/40 [12:59<34:00, 70.36s/it]"
     ]
    },
    {
     "name": "stdout",
     "output_type": "stream",
     "text": [
      "[I 2025-07-22 00:36:14,194] Trial 10 finished with value: 0.23430614111038356 and parameters: {'scale_pos_weight': 4.6191618049101955, 'max_depth': 3, 'eta': 0.013483331261453341, 'subsample': 0.5077540622098804, 'colsample_bytree': 0.8491279326528898, 'min_child_weight': 5}. Best is trial 6 with value: 0.29891268809853677.\n"
     ]
    },
    {
     "name": "stderr",
     "output_type": "stream",
     "text": [
      "Best trial: 6. Best value: 0.298913:  30%|███       | 12/40 [13:28<27:00, 57.87s/it]"
     ]
    },
    {
     "name": "stdout",
     "output_type": "stream",
     "text": [
      "[I 2025-07-22 00:36:43,506] Trial 11 finished with value: 0.29631383598534045 and parameters: {'scale_pos_weight': 35.43981686676376, 'max_depth': 4, 'eta': 0.13181009642401656, 'subsample': 0.6322374841838233, 'colsample_bytree': 0.5165192444269078, 'min_child_weight': 6}. Best is trial 6 with value: 0.29891268809853677.\n"
     ]
    },
    {
     "name": "stderr",
     "output_type": "stream",
     "text": [
      "Best trial: 6. Best value: 0.298913:  32%|███▎      | 13/40 [13:58<22:11, 49.30s/it]"
     ]
    },
    {
     "name": "stdout",
     "output_type": "stream",
     "text": [
      "[I 2025-07-22 00:37:13,096] Trial 12 finished with value: 0.29426658714826237 and parameters: {'scale_pos_weight': 34.2829180133661, 'max_depth': 4, 'eta': 0.15479022701297399, 'subsample': 0.595677182850372, 'colsample_bytree': 0.8218452669963616, 'min_child_weight': 6}. Best is trial 6 with value: 0.29891268809853677.\n"
     ]
    },
    {
     "name": "stderr",
     "output_type": "stream",
     "text": [
      "Best trial: 6. Best value: 0.298913:  35%|███▌      | 14/40 [14:32<19:19, 44.59s/it]"
     ]
    },
    {
     "name": "stdout",
     "output_type": "stream",
     "text": [
      "[I 2025-07-22 00:37:46,782] Trial 13 finished with value: 0.24035039333525457 and parameters: {'scale_pos_weight': 4.252995243111339, 'max_depth': 4, 'eta': 0.0792958559140901, 'subsample': 0.6360525674402145, 'colsample_bytree': 0.5111939197925697, 'min_child_weight': 9}. Best is trial 6 with value: 0.29891268809853677.\n"
     ]
    },
    {
     "name": "stderr",
     "output_type": "stream",
     "text": [
      "Best trial: 14. Best value: 0.299192:  38%|███▊      | 15/40 [15:21<19:15, 46.21s/it]"
     ]
    },
    {
     "name": "stdout",
     "output_type": "stream",
     "text": [
      "[I 2025-07-22 00:38:36,768] Trial 14 finished with value: 0.2991920678544472 and parameters: {'scale_pos_weight': 49.85534140389504, 'max_depth': 3, 'eta': 0.2783359128178407, 'subsample': 0.5435846143131988, 'colsample_bytree': 0.8089374562689096, 'min_child_weight': 5}. Best is trial 14 with value: 0.2991920678544472.\n"
     ]
    },
    {
     "name": "stderr",
     "output_type": "stream",
     "text": [
      "Best trial: 15. Best value: 0.299647:  40%|████      | 16/40 [15:58<17:18, 43.28s/it]"
     ]
    },
    {
     "name": "stdout",
     "output_type": "stream",
     "text": [
      "[I 2025-07-22 00:39:13,241] Trial 15 finished with value: 0.299646823197514 and parameters: {'scale_pos_weight': 48.14797251749909, 'max_depth': 3, 'eta': 0.25734597864960634, 'subsample': 0.5072986188820164, 'colsample_bytree': 0.8273830171588957, 'min_child_weight': 4}. Best is trial 15 with value: 0.299646823197514.\n"
     ]
    },
    {
     "name": "stderr",
     "output_type": "stream",
     "text": [
      "Best trial: 15. Best value: 0.299647:  42%|████▎     | 17/40 [16:58<18:31, 48.31s/it]"
     ]
    },
    {
     "name": "stdout",
     "output_type": "stream",
     "text": [
      "[I 2025-07-22 00:40:13,224] Trial 16 finished with value: 0.26527748309514204 and parameters: {'scale_pos_weight': 11.829358500049295, 'max_depth': 6, 'eta': 0.24601650014029658, 'subsample': 0.5581531887845101, 'colsample_bytree': 0.8172309922866862, 'min_child_weight': 4}. Best is trial 15 with value: 0.299646823197514.\n"
     ]
    },
    {
     "name": "stderr",
     "output_type": "stream",
     "text": [
      "Best trial: 15. Best value: 0.299647:  45%|████▌     | 18/40 [17:59<19:08, 52.20s/it]"
     ]
    },
    {
     "name": "stdout",
     "output_type": "stream",
     "text": [
      "[I 2025-07-22 00:41:14,492] Trial 17 finished with value: 0.28411539660608776 and parameters: {'scale_pos_weight': 43.484881406218356, 'max_depth': 5, 'eta': 0.29861243769254037, 'subsample': 0.6925948098190836, 'colsample_bytree': 0.771566552042394, 'min_child_weight': 4}. Best is trial 15 with value: 0.299646823197514.\n"
     ]
    },
    {
     "name": "stderr",
     "output_type": "stream",
     "text": [
      "Best trial: 15. Best value: 0.299647:  48%|████▊     | 19/40 [19:43<23:41, 67.71s/it]"
     ]
    },
    {
     "name": "stdout",
     "output_type": "stream",
     "text": [
      "[I 2025-07-22 00:42:58,334] Trial 18 finished with value: 0.2840827673407183 and parameters: {'scale_pos_weight': 39.565778881976435, 'max_depth': 7, 'eta': 0.2017159276082497, 'subsample': 0.5086236496313316, 'colsample_bytree': 0.8829045933236586, 'min_child_weight': 3}. Best is trial 15 with value: 0.299646823197514.\n"
     ]
    },
    {
     "name": "stderr",
     "output_type": "stream",
     "text": [
      "Best trial: 15. Best value: 0.299647:  50%|█████     | 20/40 [20:18<19:16, 57.84s/it]"
     ]
    },
    {
     "name": "stdout",
     "output_type": "stream",
     "text": [
      "[I 2025-07-22 00:43:33,167] Trial 19 finished with value: 0.29871892549850576 and parameters: {'scale_pos_weight': 28.66890462141376, 'max_depth': 3, 'eta': 0.08013297912714991, 'subsample': 0.601002158944683, 'colsample_bytree': 0.7867696488350012, 'min_child_weight': 5}. Best is trial 15 with value: 0.299646823197514.\n"
     ]
    },
    {
     "name": "stderr",
     "output_type": "stream",
     "text": [
      "Best trial: 15. Best value: 0.299647:  52%|█████▎    | 21/40 [20:51<15:55, 50.31s/it]"
     ]
    },
    {
     "name": "stdout",
     "output_type": "stream",
     "text": [
      "[I 2025-07-22 00:44:05,911] Trial 20 finished with value: 0.29004766153389105 and parameters: {'scale_pos_weight': 49.94114727797212, 'max_depth': 4, 'eta': 0.0260211527669267, 'subsample': 0.697600144383237, 'colsample_bytree': 0.8825328826297223, 'min_child_weight': 3}. Best is trial 15 with value: 0.299646823197514.\n"
     ]
    },
    {
     "name": "stderr",
     "output_type": "stream",
     "text": [
      "Best trial: 15. Best value: 0.299647:  55%|█████▌    | 22/40 [21:22<13:23, 44.65s/it]"
     ]
    },
    {
     "name": "stdout",
     "output_type": "stream",
     "text": [
      "[I 2025-07-22 00:44:37,368] Trial 21 finished with value: 0.2991909187774192 and parameters: {'scale_pos_weight': 44.682611268074744, 'max_depth': 3, 'eta': 0.16537870613012753, 'subsample': 0.5632678964733728, 'colsample_bytree': 0.9671717105199087, 'min_child_weight': 7}. Best is trial 15 with value: 0.299646823197514.\n"
     ]
    },
    {
     "name": "stderr",
     "output_type": "stream",
     "text": [
      "Best trial: 22. Best value: 0.301175:  57%|█████▊    | 23/40 [22:07<12:38, 44.63s/it]"
     ]
    },
    {
     "name": "stdout",
     "output_type": "stream",
     "text": [
      "[I 2025-07-22 00:45:21,964] Trial 22 finished with value: 0.3011752291012574 and parameters: {'scale_pos_weight': 44.57868314849694, 'max_depth': 3, 'eta': 0.19521292025116885, 'subsample': 0.5488350749975534, 'colsample_bytree': 0.9845107513730289, 'min_child_weight': 5}. Best is trial 22 with value: 0.3011752291012574.\n"
     ]
    },
    {
     "name": "stderr",
     "output_type": "stream",
     "text": [
      "Best trial: 22. Best value: 0.301175:  60%|██████    | 24/40 [23:03<12:49, 48.09s/it]"
     ]
    },
    {
     "name": "stdout",
     "output_type": "stream",
     "text": [
      "[I 2025-07-22 00:46:18,128] Trial 23 finished with value: 0.2968131644666836 and parameters: {'scale_pos_weight': 44.40479608572019, 'max_depth': 4, 'eta': 0.21386798705501306, 'subsample': 0.5016942144682524, 'colsample_bytree': 0.7309272406419908, 'min_child_weight': 5}. Best is trial 22 with value: 0.3011752291012574.\n"
     ]
    },
    {
     "name": "stderr",
     "output_type": "stream",
     "text": [
      "Best trial: 22. Best value: 0.301175:  62%|██████▎   | 25/40 [24:19<14:07, 56.47s/it]"
     ]
    },
    {
     "name": "stdout",
     "output_type": "stream",
     "text": [
      "[I 2025-07-22 00:47:34,149] Trial 24 finished with value: 0.2871936299226331 and parameters: {'scale_pos_weight': 40.26382424018128, 'max_depth': 5, 'eta': 0.2702009671288433, 'subsample': 0.5975782460875507, 'colsample_bytree': 0.8998604772176367, 'min_child_weight': 4}. Best is trial 22 with value: 0.3011752291012574.\n"
     ]
    },
    {
     "name": "stderr",
     "output_type": "stream",
     "text": [
      "Best trial: 22. Best value: 0.301175:  65%|██████▌   | 26/40 [24:55<11:44, 50.34s/it]"
     ]
    },
    {
     "name": "stdout",
     "output_type": "stream",
     "text": [
      "[I 2025-07-22 00:48:10,177] Trial 25 finished with value: 0.2996441554758285 and parameters: {'scale_pos_weight': 32.44502724569912, 'max_depth': 3, 'eta': 0.09838952514321327, 'subsample': 0.5448205272018889, 'colsample_bytree': 0.9974305995557149, 'min_child_weight': 6}. Best is trial 22 with value: 0.3011752291012574.\n"
     ]
    },
    {
     "name": "stderr",
     "output_type": "stream",
     "text": [
      "Best trial: 22. Best value: 0.301175:  68%|██████▊   | 27/40 [25:37<10:22, 47.90s/it]"
     ]
    },
    {
     "name": "stdout",
     "output_type": "stream",
     "text": [
      "[I 2025-07-22 00:48:52,402] Trial 26 finished with value: 0.2949727118277109 and parameters: {'scale_pos_weight': 32.716171940295766, 'max_depth': 4, 'eta': 0.058834305929473564, 'subsample': 0.64336216573727, 'colsample_bytree': 0.9931262224096704, 'min_child_weight': 6}. Best is trial 22 with value: 0.3011752291012574.\n"
     ]
    },
    {
     "name": "stderr",
     "output_type": "stream",
     "text": [
      "Best trial: 22. Best value: 0.301175:  70%|███████   | 28/40 [26:11<08:43, 43.66s/it]"
     ]
    },
    {
     "name": "stdout",
     "output_type": "stream",
     "text": [
      "[I 2025-07-22 00:49:26,170] Trial 27 finished with value: 0.29431114915405865 and parameters: {'scale_pos_weight': 19.65946109260358, 'max_depth': 3, 'eta': 0.10141453576028396, 'subsample': 0.5726655574111773, 'colsample_bytree': 0.9510152980055648, 'min_child_weight': 8}. Best is trial 22 with value: 0.3011752291012574.\n"
     ]
    },
    {
     "name": "stderr",
     "output_type": "stream",
     "text": [
      "Best trial: 22. Best value: 0.301175:  72%|███████▎  | 29/40 [28:20<12:41, 69.21s/it]"
     ]
    },
    {
     "name": "stdout",
     "output_type": "stream",
     "text": [
      "[I 2025-07-22 00:51:34,981] Trial 28 finished with value: 0.28662910131407254 and parameters: {'scale_pos_weight': 36.768496975220216, 'max_depth': 6, 'eta': 0.14512314167452925, 'subsample': 0.523045343989151, 'colsample_bytree': 0.9148622700670116, 'min_child_weight': 6}. Best is trial 22 with value: 0.3011752291012574.\n"
     ]
    },
    {
     "name": "stderr",
     "output_type": "stream",
     "text": [
      "Best trial: 22. Best value: 0.301175:  75%|███████▌  | 30/40 [28:46<09:24, 56.42s/it]"
     ]
    },
    {
     "name": "stdout",
     "output_type": "stream",
     "text": [
      "[I 2025-07-22 00:52:01,577] Trial 29 finished with value: 0.29476735345418187 and parameters: {'scale_pos_weight': 37.82052576502719, 'max_depth': 5, 'eta': 0.11473866531210569, 'subsample': 0.6636918779253974, 'colsample_bytree': 0.5732245653230701, 'min_child_weight': 2}. Best is trial 22 with value: 0.3011752291012574.\n"
     ]
    },
    {
     "name": "stderr",
     "output_type": "stream",
     "text": [
      "Best trial: 22. Best value: 0.301175:  78%|███████▊  | 31/40 [29:56<09:04, 60.54s/it]"
     ]
    },
    {
     "name": "stdout",
     "output_type": "stream",
     "text": [
      "[I 2025-07-22 00:53:11,708] Trial 30 finished with value: 0.2900006780615845 and parameters: {'scale_pos_weight': 30.91086334812799, 'max_depth': 5, 'eta': 0.09226629776246963, 'subsample': 0.7148387248652666, 'colsample_bytree': 0.8602749973045593, 'min_child_weight': 1}. Best is trial 22 with value: 0.3011752291012574.\n"
     ]
    },
    {
     "name": "stderr",
     "output_type": "stream",
     "text": [
      "Best trial: 22. Best value: 0.301175:  80%|████████  | 32/40 [30:41<07:25, 55.64s/it]"
     ]
    },
    {
     "name": "stdout",
     "output_type": "stream",
     "text": [
      "[I 2025-07-22 00:53:55,918] Trial 31 finished with value: 0.29858959863042656 and parameters: {'scale_pos_weight': 45.58791904767853, 'max_depth': 3, 'eta': 0.20186186782026005, 'subsample': 0.5460288243787728, 'colsample_bytree': 0.8104418792864693, 'min_child_weight': 5}. Best is trial 22 with value: 0.3011752291012574.\n"
     ]
    },
    {
     "name": "stderr",
     "output_type": "stream",
     "text": [
      "Best trial: 22. Best value: 0.301175:  82%|████████▎ | 33/40 [31:07<05:27, 46.80s/it]"
     ]
    },
    {
     "name": "stdout",
     "output_type": "stream",
     "text": [
      "[I 2025-07-22 00:54:22,082] Trial 32 finished with value: 0.29918091412216474 and parameters: {'scale_pos_weight': 47.243887079622404, 'max_depth': 3, 'eta': 0.19099356512903543, 'subsample': 0.5819320004338889, 'colsample_bytree': 0.9992705772464742, 'min_child_weight': 5}. Best is trial 22 with value: 0.3011752291012574.\n"
     ]
    },
    {
     "name": "stderr",
     "output_type": "stream",
     "text": [
      "Best trial: 22. Best value: 0.301175:  85%|████████▌ | 34/40 [31:32<04:01, 40.28s/it]"
     ]
    },
    {
     "name": "stdout",
     "output_type": "stream",
     "text": [
      "[I 2025-07-22 00:54:47,152] Trial 33 finished with value: 0.2942248594105611 and parameters: {'scale_pos_weight': 40.99482357101445, 'max_depth': 4, 'eta': 0.23969137947547117, 'subsample': 0.537095434177936, 'colsample_bytree': 0.9564168888450519, 'min_child_weight': 4}. Best is trial 22 with value: 0.3011752291012574.\n"
     ]
    },
    {
     "name": "stderr",
     "output_type": "stream",
     "text": [
      "Best trial: 22. Best value: 0.301175:  88%|████████▊ | 35/40 [32:00<03:02, 36.52s/it]"
     ]
    },
    {
     "name": "stdout",
     "output_type": "stream",
     "text": [
      "[I 2025-07-22 00:55:14,908] Trial 34 finished with value: 0.2965807772199296 and parameters: {'scale_pos_weight': 46.35989179388703, 'max_depth': 3, 'eta': 0.12368497988631018, 'subsample': 0.8052618407842497, 'colsample_bytree': 0.6914581829104212, 'min_child_weight': 8}. Best is trial 22 with value: 0.3011752291012574.\n"
     ]
    },
    {
     "name": "stderr",
     "output_type": "stream",
     "text": [
      "Best trial: 22. Best value: 0.301175:  90%|█████████ | 36/40 [32:40<02:31, 37.77s/it]"
     ]
    },
    {
     "name": "stdout",
     "output_type": "stream",
     "text": [
      "[I 2025-07-22 00:55:55,596] Trial 35 finished with value: 0.2915502405720267 and parameters: {'scale_pos_weight': 26.274887571052783, 'max_depth': 4, 'eta': 0.23075389317285638, 'subsample': 0.6168343014503747, 'colsample_bytree': 0.8498661426121848, 'min_child_weight': 6}. Best is trial 22 with value: 0.3011752291012574.\n"
     ]
    },
    {
     "name": "stderr",
     "output_type": "stream",
     "text": [
      "Best trial: 22. Best value: 0.301175:  92%|█████████▎| 37/40 [33:07<01:43, 34.43s/it]"
     ]
    },
    {
     "name": "stdout",
     "output_type": "stream",
     "text": [
      "[I 2025-07-22 00:56:22,217] Trial 36 finished with value: 0.29428418898195796 and parameters: {'scale_pos_weight': 39.330318323443954, 'max_depth': 3, 'eta': 0.0582966264350371, 'subsample': 0.5335890792467257, 'colsample_bytree': 0.9675648691228884, 'min_child_weight': 3}. Best is trial 22 with value: 0.3011752291012574.\n"
     ]
    },
    {
     "name": "stderr",
     "output_type": "stream",
     "text": [
      "Best trial: 22. Best value: 0.301175:  95%|█████████▌| 38/40 [34:51<01:50, 55.18s/it]"
     ]
    },
    {
     "name": "stdout",
     "output_type": "stream",
     "text": [
      "[I 2025-07-22 00:58:05,828] Trial 37 finished with value: 0.2762595553187789 and parameters: {'scale_pos_weight': 42.24709865718262, 'max_depth': 9, 'eta': 0.17344495128449441, 'subsample': 0.5808240592109569, 'colsample_bytree': 0.7805197882152313, 'min_child_weight': 5}. Best is trial 22 with value: 0.3011752291012574.\n"
     ]
    },
    {
     "name": "stderr",
     "output_type": "stream",
     "text": [
      "Best trial: 22. Best value: 0.301175:  98%|█████████▊| 39/40 [35:15<00:46, 46.07s/it]"
     ]
    },
    {
     "name": "stdout",
     "output_type": "stream",
     "text": [
      "[I 2025-07-22 00:58:30,637] Trial 38 finished with value: 0.2829158910170808 and parameters: {'scale_pos_weight': 18.178006166193654, 'max_depth': 3, 'eta': 0.29746596222636523, 'subsample': 0.7513749735914217, 'colsample_bytree': 0.9274503269680552, 'min_child_weight': 7}. Best is trial 22 with value: 0.3011752291012574.\n"
     ]
    },
    {
     "name": "stderr",
     "output_type": "stream",
     "text": [
      "Best trial: 22. Best value: 0.301175: 100%|██████████| 40/40 [35:59<00:00, 53.99s/it]"
     ]
    },
    {
     "name": "stdout",
     "output_type": "stream",
     "text": [
      "[I 2025-07-22 00:59:14,291] Trial 39 finished with value: 0.2939673689698681 and parameters: {'scale_pos_weight': 49.82492906211808, 'max_depth': 4, 'eta': 0.04576358714677485, 'subsample': 0.661907028730905, 'colsample_bytree': 0.5677429357675111, 'min_child_weight': 4}. Best is trial 22 with value: 0.3011752291012574.\n",
      "Best XGB params: {'scale_pos_weight': 44.57868314849694, 'max_depth': 3, 'eta': 0.19521292025116885, 'subsample': 0.5488350749975534, 'colsample_bytree': 0.9845107513730289, 'min_child_weight': 5}\n"
     ]
    },
    {
     "name": "stderr",
     "output_type": "stream",
     "text": [
      "\n"
     ]
    }
   ],
   "source": [
    "# ---------- 5. Objective for Optuna ----------\n",
    "def objective(trial):\n",
    "    params = {\n",
    "        'objective': 'binary:logistic',\n",
    "        'eval_metric': 'auc',\n",
    "        'scale_pos_weight': trial.suggest_float('scale_pos_weight', 1, 50),\n",
    "        'max_depth': trial.suggest_int('max_depth', 3, 10),\n",
    "        'eta': trial.suggest_float('eta', 0.01, 0.3, log=True),\n",
    "        'subsample': trial.suggest_float('subsample', 0.5, 1.0),\n",
    "        'colsample_bytree': trial.suggest_float('colsample_bytree', 0.5, 1.0),\n",
    "        'min_child_weight': trial.suggest_int('min_child_weight', 1, 10),\n",
    "        'tree_method': 'hist',\n",
    "        'verbosity': 0\n",
    "    }\n",
    "\n",
    "    # inner CV to avoid leakage\n",
    "    inner_scores = []\n",
    "    for train_idx, val_idx in folds:\n",
    "        dtrain = xgb.DMatrix(X_all[train_idx], label=y_all[train_idx])\n",
    "        dval   = xgb.DMatrix(X_all[val_idx],   label=y_all[val_idx])\n",
    "\n",
    "        bst = xgb.train(params, dtrain, num_boost_round=2000,\n",
    "                        evals=[(dval, 'val')],\n",
    "                        early_stopping_rounds=50, verbose_eval=False)\n",
    "\n",
    "        proba = bst.predict(dval)\n",
    "        preds = (proba >= 0.5).astype(int)\n",
    "        inner_scores.append(f1_score(y_all[val_idx], preds))\n",
    "\n",
    "    return np.mean(inner_scores)\n",
    "\n",
    "study = optuna.create_study(direction='maximize')\n",
    "study.optimize(objective, n_trials=40, show_progress_bar=True)\n",
    "print('Best XGB params:', study.best_params)\n"
   ]
  },
  {
   "cell_type": "code",
   "execution_count": 32,
   "id": "e03e0c08",
   "metadata": {},
   "outputs": [],
   "source": [
    "# ---------- 6. Retrain on full train / dev ----------\n",
    "# Use best params, but split off a real validation set for threshold tuning\n",
    "gss = GroupKFold(n_splits=5)\n",
    "train_idx, val_idx = next(gss.split(X_all, y_all, groups))\n",
    "\n",
    "dtrain = xgb.DMatrix(X_all[train_idx], label=y_all[train_idx])\n",
    "dval   = xgb.DMatrix(X_all[val_idx],   label=y_all[val_idx])\n",
    "dtest  = xgb.DMatrix(X_all[val_idx])   # same as val for this example\n",
    "\n",
    "params = study.best_params.copy()\n",
    "params.update({'objective': 'binary:logistic', 'eval_metric': 'auc'})\n",
    "bst = xgb.train(params, dtrain, num_boost_round=2000,\n",
    "                evals=[(dval, 'val')], early_stopping_rounds=50, verbose_eval=False)"
   ]
  },
  {
   "cell_type": "code",
   "execution_count": null,
   "id": "265ccfef",
   "metadata": {},
   "outputs": [
    {
     "ename": "ZeroDivisionError",
     "evalue": "float division by zero",
     "output_type": "error",
     "traceback": [
      "\u001b[31m---------------------------------------------------------------------------\u001b[39m",
      "\u001b[31mZeroDivisionError\u001b[39m                         Traceback (most recent call last)",
      "\u001b[36mCell\u001b[39m\u001b[36m \u001b[39m\u001b[32mIn[34]\u001b[39m\u001b[32m, line 12\u001b[39m\n\u001b[32m     10\u001b[39m best = {\u001b[33m'\u001b[39m\u001b[33mf1\u001b[39m\u001b[33m'\u001b[39m: \u001b[32m0\u001b[39m, \u001b[33m'\u001b[39m\u001b[33msigma\u001b[39m\u001b[33m'\u001b[39m: \u001b[32m1\u001b[39m, \u001b[33m'\u001b[39m\u001b[33mthr\u001b[39m\u001b[33m'\u001b[39m: \u001b[32m0.5\u001b[39m}\n\u001b[32m     11\u001b[39m \u001b[38;5;28;01mfor\u001b[39;00m sigma \u001b[38;5;129;01min\u001b[39;00m [\u001b[32m0\u001b[39m, \u001b[32m1\u001b[39m, \u001b[32m2\u001b[39m, \u001b[32m3\u001b[39m]:\n\u001b[32m---> \u001b[39m\u001b[32m12\u001b[39m     smoothed = \u001b[43msmooth\u001b[49m\u001b[43m(\u001b[49m\u001b[43mval_proba\u001b[49m\u001b[43m,\u001b[49m\u001b[43m \u001b[49m\u001b[43msigma\u001b[49m\u001b[43m)\u001b[49m\n\u001b[32m     13\u001b[39m     \u001b[38;5;28;01mfor\u001b[39;00m thr \u001b[38;5;129;01min\u001b[39;00m np.arange(\u001b[32m0.05\u001b[39m, \u001b[32m0.95\u001b[39m, \u001b[32m0.05\u001b[39m):\n\u001b[32m     14\u001b[39m         pred = (smoothed >= thr).astype(\u001b[38;5;28mint\u001b[39m)\n",
      "\u001b[36mCell\u001b[39m\u001b[36m \u001b[39m\u001b[32mIn[34]\u001b[39m\u001b[32m, line 8\u001b[39m, in \u001b[36msmooth\u001b[39m\u001b[34m(prob, sigma)\u001b[39m\n\u001b[32m      6\u001b[39m \u001b[38;5;28;01mdef\u001b[39;00m\u001b[38;5;250m \u001b[39m\u001b[34msmooth\u001b[39m(prob, sigma):\n\u001b[32m      7\u001b[39m     \u001b[38;5;28;01mfrom\u001b[39;00m\u001b[38;5;250m \u001b[39m\u001b[34;01mscipy\u001b[39;00m\u001b[34;01m.\u001b[39;00m\u001b[34;01mndimage\u001b[39;00m\u001b[38;5;250m \u001b[39m\u001b[38;5;28;01mimport\u001b[39;00m gaussian_filter1d\n\u001b[32m----> \u001b[39m\u001b[32m8\u001b[39m     \u001b[38;5;28;01mreturn\u001b[39;00m \u001b[43mgaussian_filter1d\u001b[49m\u001b[43m(\u001b[49m\u001b[43mprob\u001b[49m\u001b[43m,\u001b[49m\u001b[43m \u001b[49m\u001b[43msigma\u001b[49m\u001b[43m=\u001b[49m\u001b[43msigma\u001b[49m\u001b[43m,\u001b[49m\u001b[43m \u001b[49m\u001b[43mmode\u001b[49m\u001b[43m=\u001b[49m\u001b[33;43m'\u001b[39;49m\u001b[33;43mnearest\u001b[39;49m\u001b[33;43m'\u001b[39;49m\u001b[43m)\u001b[49m\n",
      "\u001b[36mFile \u001b[39m\u001b[32mc:\\Users\\solom\\Documents\\Evaluating-Noise-Reduction-Techniques\\venv\\Lib\\site-packages\\scipy\\ndimage\\_filters.py:750\u001b[39m, in \u001b[36mgaussian_filter1d\u001b[39m\u001b[34m(input, sigma, axis, order, output, mode, cval, truncate, radius)\u001b[39m\n\u001b[32m    748\u001b[39m     \u001b[38;5;28;01mraise\u001b[39;00m \u001b[38;5;167;01mValueError\u001b[39;00m(\u001b[33m'\u001b[39m\u001b[33mRadius must be a nonnegative integer.\u001b[39m\u001b[33m'\u001b[39m)\n\u001b[32m    749\u001b[39m \u001b[38;5;66;03m# Since we are calling correlate, not convolve, revert the kernel\u001b[39;00m\n\u001b[32m--> \u001b[39m\u001b[32m750\u001b[39m weights = \u001b[43m_gaussian_kernel1d\u001b[49m\u001b[43m(\u001b[49m\u001b[43msigma\u001b[49m\u001b[43m,\u001b[49m\u001b[43m \u001b[49m\u001b[43morder\u001b[49m\u001b[43m,\u001b[49m\u001b[43m \u001b[49m\u001b[43mlw\u001b[49m\u001b[43m)\u001b[49m[::-\u001b[32m1\u001b[39m]\n\u001b[32m    751\u001b[39m \u001b[38;5;28;01mreturn\u001b[39;00m correlate1d(\u001b[38;5;28minput\u001b[39m, weights, axis, output, mode, cval, \u001b[32m0\u001b[39m)\n",
      "\u001b[36mFile \u001b[39m\u001b[32mc:\\Users\\solom\\Documents\\Evaluating-Noise-Reduction-Techniques\\venv\\Lib\\site-packages\\scipy\\ndimage\\_filters.py:663\u001b[39m, in \u001b[36m_gaussian_kernel1d\u001b[39m\u001b[34m(sigma, order, radius)\u001b[39m\n\u001b[32m    661\u001b[39m sigma2 = sigma * sigma\n\u001b[32m    662\u001b[39m x = np.arange(-radius, radius+\u001b[32m1\u001b[39m)\n\u001b[32m--> \u001b[39m\u001b[32m663\u001b[39m phi_x = np.exp(\u001b[43m-\u001b[49m\u001b[32;43m0.5\u001b[39;49m\u001b[43m \u001b[49m\u001b[43m/\u001b[49m\u001b[43m \u001b[49m\u001b[43msigma2\u001b[49m * x ** \u001b[32m2\u001b[39m)\n\u001b[32m    664\u001b[39m phi_x = phi_x / phi_x.sum()\n\u001b[32m    666\u001b[39m \u001b[38;5;28;01mif\u001b[39;00m order == \u001b[32m0\u001b[39m:\n",
      "\u001b[31mZeroDivisionError\u001b[39m: float division by zero"
     ]
    }
   ],
   "source": [
    "# ---------- 7. Post-processing grid search ----------\n",
    "val_proba = bst.predict(dval)\n",
    "val_y = y_all[val_idx]\n",
    "\n"
   ]
  },
  {
   "cell_type": "code",
   "execution_count": 35,
   "id": "bce04b97",
   "metadata": {},
   "outputs": [
    {
     "ename": "ZeroDivisionError",
     "evalue": "float division by zero",
     "output_type": "error",
     "traceback": [
      "\u001b[31m---------------------------------------------------------------------------\u001b[39m",
      "\u001b[31mZeroDivisionError\u001b[39m                         Traceback (most recent call last)",
      "\u001b[36mCell\u001b[39m\u001b[36m \u001b[39m\u001b[32mIn[35]\u001b[39m\u001b[32m, line 15\u001b[39m\n\u001b[32m     13\u001b[39m     \u001b[38;5;28mprint\u001b[39m(\u001b[33m\"\u001b[39m\u001b[33mValidation fold has only one class; skipping.\u001b[39m\u001b[33m\"\u001b[39m)\n\u001b[32m     14\u001b[39m \u001b[38;5;28;01melse\u001b[39;00m:\n\u001b[32m---> \u001b[39m\u001b[32m15\u001b[39m     smoothed = \u001b[43msmooth\u001b[49m\u001b[43m(\u001b[49m\u001b[43mval_proba\u001b[49m\u001b[43m,\u001b[49m\u001b[43m \u001b[49m\u001b[43msigma\u001b[49m\u001b[43m)\u001b[49m\n\u001b[32m     16\u001b[39m     \u001b[38;5;28;01mfor\u001b[39;00m thr \u001b[38;5;129;01min\u001b[39;00m np.arange(\u001b[32m0.05\u001b[39m, \u001b[32m0.95\u001b[39m, \u001b[32m0.05\u001b[39m):\n\u001b[32m     17\u001b[39m         pred = (smoothed >= thr).astype(\u001b[38;5;28mint\u001b[39m)\n",
      "\u001b[36mCell\u001b[39m\u001b[36m \u001b[39m\u001b[32mIn[35]\u001b[39m\u001b[32m, line 4\u001b[39m, in \u001b[36msmooth\u001b[39m\u001b[34m(prob, sigma)\u001b[39m\n\u001b[32m      2\u001b[39m \u001b[38;5;28;01mdef\u001b[39;00m\u001b[38;5;250m \u001b[39m\u001b[34msmooth\u001b[39m(prob, sigma):\n\u001b[32m      3\u001b[39m     \u001b[38;5;28;01mfrom\u001b[39;00m\u001b[38;5;250m \u001b[39m\u001b[34;01mscipy\u001b[39;00m\u001b[34;01m.\u001b[39;00m\u001b[34;01mndimage\u001b[39;00m\u001b[38;5;250m \u001b[39m\u001b[38;5;28;01mimport\u001b[39;00m gaussian_filter1d\n\u001b[32m----> \u001b[39m\u001b[32m4\u001b[39m     \u001b[38;5;28;01mreturn\u001b[39;00m \u001b[43mgaussian_filter1d\u001b[49m\u001b[43m(\u001b[49m\u001b[43mprob\u001b[49m\u001b[43m,\u001b[49m\u001b[43m \u001b[49m\u001b[43msigma\u001b[49m\u001b[43m=\u001b[49m\u001b[43msigma\u001b[49m\u001b[43m,\u001b[49m\u001b[43m \u001b[49m\u001b[43mmode\u001b[49m\u001b[43m=\u001b[49m\u001b[33;43m'\u001b[39;49m\u001b[33;43mnearest\u001b[39;49m\u001b[33;43m'\u001b[39;49m\u001b[43m)\u001b[49m\n",
      "\u001b[36mFile \u001b[39m\u001b[32mc:\\Users\\solom\\Documents\\Evaluating-Noise-Reduction-Techniques\\venv\\Lib\\site-packages\\scipy\\ndimage\\_filters.py:750\u001b[39m, in \u001b[36mgaussian_filter1d\u001b[39m\u001b[34m(input, sigma, axis, order, output, mode, cval, truncate, radius)\u001b[39m\n\u001b[32m    748\u001b[39m     \u001b[38;5;28;01mraise\u001b[39;00m \u001b[38;5;167;01mValueError\u001b[39;00m(\u001b[33m'\u001b[39m\u001b[33mRadius must be a nonnegative integer.\u001b[39m\u001b[33m'\u001b[39m)\n\u001b[32m    749\u001b[39m \u001b[38;5;66;03m# Since we are calling correlate, not convolve, revert the kernel\u001b[39;00m\n\u001b[32m--> \u001b[39m\u001b[32m750\u001b[39m weights = \u001b[43m_gaussian_kernel1d\u001b[49m\u001b[43m(\u001b[49m\u001b[43msigma\u001b[49m\u001b[43m,\u001b[49m\u001b[43m \u001b[49m\u001b[43morder\u001b[49m\u001b[43m,\u001b[49m\u001b[43m \u001b[49m\u001b[43mlw\u001b[49m\u001b[43m)\u001b[49m[::-\u001b[32m1\u001b[39m]\n\u001b[32m    751\u001b[39m \u001b[38;5;28;01mreturn\u001b[39;00m correlate1d(\u001b[38;5;28minput\u001b[39m, weights, axis, output, mode, cval, \u001b[32m0\u001b[39m)\n",
      "\u001b[36mFile \u001b[39m\u001b[32mc:\\Users\\solom\\Documents\\Evaluating-Noise-Reduction-Techniques\\venv\\Lib\\site-packages\\scipy\\ndimage\\_filters.py:663\u001b[39m, in \u001b[36m_gaussian_kernel1d\u001b[39m\u001b[34m(sigma, order, radius)\u001b[39m\n\u001b[32m    661\u001b[39m sigma2 = sigma * sigma\n\u001b[32m    662\u001b[39m x = np.arange(-radius, radius+\u001b[32m1\u001b[39m)\n\u001b[32m--> \u001b[39m\u001b[32m663\u001b[39m phi_x = np.exp(\u001b[43m-\u001b[49m\u001b[32;43m0.5\u001b[39;49m\u001b[43m \u001b[49m\u001b[43m/\u001b[49m\u001b[43m \u001b[49m\u001b[43msigma2\u001b[49m * x ** \u001b[32m2\u001b[39m)\n\u001b[32m    664\u001b[39m phi_x = phi_x / phi_x.sum()\n\u001b[32m    666\u001b[39m \u001b[38;5;28;01mif\u001b[39;00m order == \u001b[32m0\u001b[39m:\n",
      "\u001b[31mZeroDivisionError\u001b[39m: float division by zero"
     ]
    }
   ],
   "source": [
    "# Gaussian smoothing helper\n",
    "def smooth(prob, sigma):\n",
    "    from scipy.ndimage import gaussian_filter1d\n",
    "    return gaussian_filter1d(prob, sigma=sigma, mode='nearest')\n",
    "\n",
    "best = {'f1': 0, 'sigma': 1, 'thr': 0.5}\n",
    "from sklearn.metrics import f1_score\n",
    "\n",
    "for sigma in [0, 1, 2, 3]:\n",
    "\n",
    "    if len(np.unique(val_y)) < 2:\n",
    "        best['f1'] = 0.0\n",
    "        print(\"Validation fold has only one class; skipping.\")\n",
    "    else:\n",
    "        smoothed = smooth(val_proba, sigma)\n",
    "        for thr in np.arange(0.05, 0.95, 0.05):\n",
    "            pred = (smoothed >= thr).astype(int)\n",
    "            f = f1_score(val_y, pred, zero_division=0)  # <- prevents crash\n",
    "            if f > best['f1']:\n",
    "                best.update({'f1': f, 'sigma': sigma, 'thr': thr})\n",
    "\n",
    "print('Best σ / thr on val:', best['sigma'], best['thr'], 'F1:', best['f1'])"
   ]
  },
  {
   "cell_type": "code",
   "execution_count": 24,
   "id": "635d1a3b",
   "metadata": {},
   "outputs": [],
   "source": [
    "# ---------- 8. Final metrics on validation (== test here) ----------\n",
    "test_pred = (smooth(val_proba, best['sigma']) >= best['thr']).astype(int)\n",
    "prec = precision_score(val_y, test_pred)\n",
    "rec  = recall_score(val_y, test_pred)\n",
    "f1   = f1_score(val_y, test_pred)\n",
    "\n",
    "print('\\n=== FINAL EVENT-LEVEL (15-s frames) ===')\n",
    "print(f'Precision: {prec:.4f}   Recall: {rec:.4f}   F1: {f1:.4f}')"
   ]
  }
 ],
 "metadata": {
  "kernelspec": {
   "display_name": "venv",
   "language": "python",
   "name": "python3"
  },
  "language_info": {
   "codemirror_mode": {
    "name": "ipython",
    "version": 3
   },
   "file_extension": ".py",
   "mimetype": "text/x-python",
   "name": "python",
   "nbconvert_exporter": "python",
   "pygments_lexer": "ipython3",
   "version": "3.13.5"
  }
 },
 "nbformat": 4,
 "nbformat_minor": 5
}
