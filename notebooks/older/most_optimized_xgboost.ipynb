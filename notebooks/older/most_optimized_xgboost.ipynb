{
  "cells": [
    {
      "cell_type": "markdown",
      "id": "74322164",
      "metadata": {
        "id": "74322164"
      },
      "source": [
        "# Apnea Audio Data Preparation Pipeline\n",
        "\n",
        "This notebook provides a complete and robust pipeline for preparing audio data for apnea event detection. It performs the following steps for each patient specified in the configuration:\n",
        "\n",
        "1.  **Downloads** EDF (audio) and RML (event annotation) files from provided URLs.\n",
        "2.  **Validates** that all of a patient's audio files have the same sample rate to prevent data corruption.\n",
        "3.  **Extracts** apnea event timestamps (`Obstructive`, `Central`, `Mixed`) from the RML file.\n",
        "4.  **Concatenates** the 'Mic' channel from all of a patient's EDF files into a single, continuous WAV file.\n",
        "5.  **Analyzes** the WAV file second-by-second, extracting a rich set of 23 audio features for each second.\n",
        "6.  **Labels** each second as `1` (apnea) or `0` (normal) based on the extracted event timestamps.\n",
        "7.  **Appends** the features and labels for each patient into a single master CSV file, ready for model training."
      ]
    },
    {
      "cell_type": "code",
      "source": [
        "!pip install mne soundfile"
      ],
      "metadata": {
        "colab": {
          "base_uri": "https://localhost:8080/"
        },
        "id": "dnMUZAx-Fgsp",
        "outputId": "ceb8fcbd-caa3-46e0-c83f-7c8602bde229"
      },
      "id": "dnMUZAx-Fgsp",
      "execution_count": 4,
      "outputs": [
        {
          "output_type": "stream",
          "name": "stdout",
          "text": [
            "Requirement already satisfied: mne in /usr/local/lib/python3.11/dist-packages (1.10.0)\n",
            "Requirement already satisfied: soundfile in /usr/local/lib/python3.11/dist-packages (0.13.1)\n",
            "Requirement already satisfied: decorator in /usr/local/lib/python3.11/dist-packages (from mne) (4.4.2)\n",
            "Requirement already satisfied: jinja2 in /usr/local/lib/python3.11/dist-packages (from mne) (3.1.6)\n",
            "Requirement already satisfied: lazy-loader>=0.3 in /usr/local/lib/python3.11/dist-packages (from mne) (0.4)\n",
            "Requirement already satisfied: matplotlib>=3.7 in /usr/local/lib/python3.11/dist-packages (from mne) (3.10.0)\n",
            "Requirement already satisfied: numpy<3,>=1.25 in /usr/local/lib/python3.11/dist-packages (from mne) (2.0.2)\n",
            "Requirement already satisfied: packaging in /usr/local/lib/python3.11/dist-packages (from mne) (24.2)\n",
            "Requirement already satisfied: pooch>=1.5 in /usr/local/lib/python3.11/dist-packages (from mne) (1.8.2)\n",
            "Requirement already satisfied: scipy>=1.11 in /usr/local/lib/python3.11/dist-packages (from mne) (1.15.3)\n",
            "Requirement already satisfied: tqdm in /usr/local/lib/python3.11/dist-packages (from mne) (4.67.1)\n",
            "Requirement already satisfied: cffi>=1.0 in /usr/local/lib/python3.11/dist-packages (from soundfile) (1.17.1)\n",
            "Requirement already satisfied: pycparser in /usr/local/lib/python3.11/dist-packages (from cffi>=1.0->soundfile) (2.22)\n",
            "Requirement already satisfied: contourpy>=1.0.1 in /usr/local/lib/python3.11/dist-packages (from matplotlib>=3.7->mne) (1.3.2)\n",
            "Requirement already satisfied: cycler>=0.10 in /usr/local/lib/python3.11/dist-packages (from matplotlib>=3.7->mne) (0.12.1)\n",
            "Requirement already satisfied: fonttools>=4.22.0 in /usr/local/lib/python3.11/dist-packages (from matplotlib>=3.7->mne) (4.58.5)\n",
            "Requirement already satisfied: kiwisolver>=1.3.1 in /usr/local/lib/python3.11/dist-packages (from matplotlib>=3.7->mne) (1.4.8)\n",
            "Requirement already satisfied: pillow>=8 in /usr/local/lib/python3.11/dist-packages (from matplotlib>=3.7->mne) (11.2.1)\n",
            "Requirement already satisfied: pyparsing>=2.3.1 in /usr/local/lib/python3.11/dist-packages (from matplotlib>=3.7->mne) (3.2.3)\n",
            "Requirement already satisfied: python-dateutil>=2.7 in /usr/local/lib/python3.11/dist-packages (from matplotlib>=3.7->mne) (2.9.0.post0)\n",
            "Requirement already satisfied: platformdirs>=2.5.0 in /usr/local/lib/python3.11/dist-packages (from pooch>=1.5->mne) (4.3.8)\n",
            "Requirement already satisfied: requests>=2.19.0 in /usr/local/lib/python3.11/dist-packages (from pooch>=1.5->mne) (2.32.3)\n",
            "Requirement already satisfied: MarkupSafe>=2.0 in /usr/local/lib/python3.11/dist-packages (from jinja2->mne) (3.0.2)\n",
            "Requirement already satisfied: six>=1.5 in /usr/local/lib/python3.11/dist-packages (from python-dateutil>=2.7->matplotlib>=3.7->mne) (1.17.0)\n",
            "Requirement already satisfied: charset-normalizer<4,>=2 in /usr/local/lib/python3.11/dist-packages (from requests>=2.19.0->pooch>=1.5->mne) (3.4.2)\n",
            "Requirement already satisfied: idna<4,>=2.5 in /usr/local/lib/python3.11/dist-packages (from requests>=2.19.0->pooch>=1.5->mne) (3.10)\n",
            "Requirement already satisfied: urllib3<3,>=1.21.1 in /usr/local/lib/python3.11/dist-packages (from requests>=2.19.0->pooch>=1.5->mne) (2.4.0)\n",
            "Requirement already satisfied: certifi>=2017.4.17 in /usr/local/lib/python3.11/dist-packages (from requests>=2.19.0->pooch>=1.5->mne) (2025.7.14)\n"
          ]
        }
      ]
    },
    {
      "cell_type": "code",
      "execution_count": 5,
      "id": "43fe456a",
      "metadata": {
        "id": "43fe456a"
      },
      "outputs": [],
      "source": [
        "# === 1. IMPORTS ===\n",
        "# --- Standard Libraries ---\n",
        "import os\n",
        "import csv\n",
        "import xml.etree.ElementTree as ET\n",
        "\n",
        "# --- Data and Signal Processing ---\n",
        "import numpy as np\n",
        "import scipy.stats\n",
        "import librosa\n",
        "import soundfile as sf\n",
        "import mne\n",
        "\n",
        "# --- File Downloading ---\n",
        "import requests"
      ]
    },
    {
      "cell_type": "code",
      "execution_count": 6,
      "id": "ea0de2fc",
      "metadata": {
        "id": "ea0de2fc"
      },
      "outputs": [],
      "source": [
        "# === 2. CONFIGURATION ===\n",
        "# --- Edit this section for your patients ---\n",
        "\n",
        "# List of patient data. Each dictionary represents one patient.\n",
        "# Add a new dictionary to this list for each new patient you want to process.\n",
        "patient_groups = [\n",
        "    {\n",
        "        \"rml_url\": \"https://china.scidb.cn/download?fileId=644b5b677869a339f571e4a6&traceId=0ec4c131-82e0-4d7c-8183-b572a57f0957\",\n",
        "        \"edf_urls\": [\"https://china.scidb.cn/download?fileId=61a0ca3f89f14b48842cf1ef&traceId=0ec4c131-82e0-4d7c-8183-b572a57f0957\", \"https://china.scidb.cn/download?fileId=61a0ca3f89f14b48842cf1ee&traceId=0ec4c131-82e0-4d7c-8183-b572a57f0957\",\"https://china.scidb.cn/download?fileId=61a0ca3f89f14b48842cf1ed&traceId=0ec4c131-82e0-4d7c-8183-b572a57f0957\"\n",
        "        ,\"https://china.scidb.cn/download?fileId=61a0ca3f89f14b48842cf1ec&traceId=0ec4c131-82e0-4d7c-8183-b572a57f0957\",\"https://china.scidb.cn/download?fileId=61a0ca3f89f14b48842cf1eb&traceId=0ec4c131-82e0-4d7c-8183-b572a57f0957\"]\n",
        "    },\n",
        "    {\n",
        "        \"rml_url\": \"https://china.scidb.cn/download?fileId=6437f9c27869a339f571d95b&traceId=0ec4c131-82e0-4d7c-8183-b572a57f0957\",\n",
        "        \"edf_urls\": [\"https://china.scidb.cn/download?fileId=61a0ca3f89f14b48842cf1ea&traceId=0ec4c131-82e0-4d7c-8183-b572a57f0957\", \"https://china.scidb.cn/download?fileId=61a0ca3f89f14b48842cf1e9&traceId=0ec4c131-82e0-4d7c-8183-b572a57f0957\",\n",
        "                     \"https://china.scidb.cn/download?fileId=61a0ca3f89f14b48842cf1e8&traceId=0ec4c131-82e0-4d7c-8183-b572a57f0957\",\"https://china.scidb.cn/download?fileId=61a0ca3f89f14b48842cf1e7&traceId=0ec4c131-82e0-4d7c-8183-b572a57f0957\",\n",
        "                     \"https://china.scidb.cn/download?fileId=61a0ca3f89f14b48842cf1e6&traceId=0ec4c131-82e0-4d7c-8183-b572a57f0957\"]\n",
        "    },\n",
        "    {\n",
        "        \"rml_url\": \"https://china.scidb.cn/download?fileId=644b5b677869a339f571e4a8&traceId=0ec4c131-82e0-4d7c-8183-b572a57f0957\",\n",
        "        \"edf_urls\": [\"https://china.scidb.cn/download?fileId=61a0ca3f89f14b48842cf367&traceId=0ec4c131-82e0-4d7c-8183-b572a57f0957\", \"https://china.scidb.cn/download?fileId=61a0ca3f89f14b48842cf369&traceId=0ec4c131-82e0-4d7c-8183-b572a57f0957\", \"https://china.scidb.cn/download?fileId=61a0ca3f89f14b48842cf366&traceId=0ec4c131-82e0-4d7c-8183-b572a57f0957\",\n",
        "                     \"https://china.scidb.cn/download?fileId=61a0ca3f89f14b48842cf36a&traceId=0ec4c131-82e0-4d7c-8183-b572a57f0957\",\"https://china.scidb.cn/download?fileId=61a0ca3f89f14b48842cf365&traceId=0ec4c131-82e0-4d7c-8183-b572a57f0957\"]\n",
        "    },\n",
        "     {\n",
        "        \"rml_url\": \"https://china.scidb.cn/download?fileId=644b5b677869a339f571e4a9&traceId=0ec4c131-82e0-4d7c-8183-b572a57f0957\",\n",
        "        \"edf_urls\": [\"https://china.scidb.cn/download?fileId=61a0ca3f89f14b48842cf1e0&traceId=0ec4c131-82e0-4d7c-8183-b572a57f0957\",\n",
        "                     \"https://china.scidb.cn/download?fileId=61a0ca3f89f14b48842cf1df&traceId=0ec4c131-82e0-4d7c-8183-b572a57f0957\",\n",
        "                     \"https://china.scidb.cn/download?fileId=61a0ca3f89f14b48842cf1de&traceId=0ec4c131-82e0-4d7c-8183-b572a57f0957\",\n",
        "                     \"https://china.scidb.cn/download?fileId=61a0ca3f89f14b48842cf1dd&traceId=0ec4c131-82e0-4d7c-8183-b572a57f0957\"]\n",
        "    },\n",
        "    {\n",
        "        \"rml_url\": \"https://china.scidb.cn/download?fileId=6437f9c39870236416bbf9be&traceId=0ec4c131-82e0-4d7c-8183-b572a57f0957\",\n",
        "        \"edf_urls\": [\"https://china.scidb.cn/download?fileId=61a0ca3f89f14b48842cf1dc&traceId=0ec4c131-82e0-4d7c-8183-b572a57f0957\",\n",
        "                     \"https://china.scidb.cn/download?fileId=61a0ca3f89f14b48842cf1db&traceId=0ec4c131-82e0-4d7c-8183-b572a57f0957\",\n",
        "                     \"https://china.scidb.cn/download?fileId=61a0ca3f89f14b48842cf1da&traceId=0ec4c131-82e0-4d7c-8183-b572a57f0957\"\n",
        "                     ,\"https://china.scidb.cn/download?fileId=61a0ca3f89f14b48842cf1d9&traceId=0ec4c131-82e0-4d7c-8183-b572a57f0957\",\n",
        "                     \"https://china.scidb.cn/download?fileId=61a0ca3f89f14b48842cf1d8&traceId=0ec4c131-82e0-4d7c-8183-b572a57f0957\"]\n",
        "    },\n",
        "    {\n",
        "        \"rml_url\": \"https://china.scidb.cn/download?fileId=6437f9c27869a339f571d95d&traceId=0ec4c131-82e0-4d7c-8183-b572a57f0957\",\n",
        "        \"edf_urls\": [\"https://china.scidb.cn/download?fileId=61a0ca3f89f14b48842cf1d7&traceId=0ec4c131-82e0-4d7c-8183-b572a57f0957\",\n",
        "                     \"https://china.scidb.cn/download?fileId=61a0ca3f89f14b48842cf1d6&traceId=0ec4c131-82e0-4d7c-8183-b572a57f0957\",\n",
        "                     \"https://china.scidb.cn/download?fileId=61a0ca3f89f14b48842cf1d5&traceId=0ec4c131-82e0-4d7c-8183-b572a57f0957\",\n",
        "                     \"https://china.scidb.cn/download?fileId=61a0ca3f89f14b48842cf1d4&traceId=0ec4c131-82e0-4d7c-8183-b572a57f0957\"]\n",
        "    },\n",
        "    {\n",
        "        \"rml_url\": \"https://china.scidb.cn/download?fileId=6436722e9870236416bbf69f&traceId=0ec4c131-82e0-4d7c-8183-b572a57f0957\",\n",
        "        \"edf_urls\": [\"https://china.scidb.cn/download?fileId=61a0ca3f89f14b48842cf1ce&traceId=0ec4c131-82e0-4d7c-8183-b572a57f0957\",\n",
        "                     \"https://china.scidb.cn/download?fileId=61a0ca3f89f14b48842cf1cd&traceId=0ec4c131-82e0-4d7c-8183-b572a57f0957\",\n",
        "                     \"https://china.scidb.cn/download?fileId=61a0ca3f89f14b48842cf1cc&traceId=0ec4c131-82e0-4d7c-8183-b572a57f0957\",\n",
        "                     \"https://china.scidb.cn/download?fileId=61a0ca3f89f14b48842cf1cb&traceId=0ec4c131-82e0-4d7c-8183-b572a57f0957\"]\n",
        "    },\n",
        "    {\n",
        "        \"rml_url\": \"https://china.scidb.cn/download?fileId=6437f9c39870236416bbf9bf&traceId=0ec4c131-82e0-4d7c-8183-b572a57f0957\",\n",
        "        \"edf_urls\": [\"https://china.scidb.cn/download?fileId=61a0ca3f89f14b48842cf1ca&traceId=0ec4c131-82e0-4d7c-8183-b572a57f0957\",\n",
        "                     \"https://china.scidb.cn/download?fileId=61a0ca3f89f14b48842cf1c9&traceId=0ec4c131-82e0-4d7c-8183-b572a57f0957\",\n",
        "                     \"https://china.scidb.cn/download?fileId=61a0ca3f89f14b48842cf1c8&traceId=0ec4c131-82e0-4d7c-8183-b572a57f0957\",\n",
        "                     \"https://china.scidb.cn/download?fileId=61a0ca3f89f14b48842cf1c7&traceId=0ec4c131-82e0-4d7c-8183-b572a57f0957\",\n",
        "                     \"https://china.scidb.cn/download?fileId=61a0ca3f89f14b48842cf1c6&traceId=0ec4c131-82e0-4d7c-8183-b572a57f0957\",\n",
        "                     \"https://china.scidb.cn/download?fileId=61a0ca3f89f14b48842cf1c5&traceId=0ec4c131-82e0-4d7c-8183-b572a57f0957\",\n",
        "                     \"https://china.scidb.cn/download?fileId=61a0ca3f89f14b48842cf1c4&traceId=0ec4c131-82e0-4d7c-8183-b572a57f0957\"]\n",
        "    },\n",
        "    {\n",
        "        \"rml_url\": \"https://china.scidb.cn/download?fileId=6436722e7869a339f571d63f&traceId=0ec4c131-82e0-4d7c-8183-b572a57f0957\",\n",
        "        \"edf_urls\": [\"https://china.scidb.cn/download?fileId=61a0ca3f89f14b48842cf1c3&traceId=0ec4c131-82e0-4d7c-8183-b572a57f0957\",\n",
        "                     \"https://china.scidb.cn/download?fileId=61a0ca3f89f14b48842cf1c2&traceId=0ec4c131-82e0-4d7c-8183-b572a57f0957\",\n",
        "                     \"https://china.scidb.cn/download?fileId=61a0ca3f89f14b48842cf1c1&traceId=0ec4c131-82e0-4d7c-8183-b572a57f0957\",\n",
        "                     \"https://china.scidb.cn/download?fileId=61a0ca3f89f14b48842cf1c0&traceId=0ec4c131-82e0-4d7c-8183-b572a57f0957\",\n",
        "                     \"https://china.scidb.cn/download?fileId=61a0ca3f89f14b48842cf1bf&traceId=0ec4c131-82e0-4d7c-8183-b572a57f0957\"]\n",
        "    },\n",
        "    {\n",
        "        \"rml_url\": \"https://china.scidb.cn/download?fileId=6436722f9870236416bbf6a2&traceId=0ec4c131-82e0-4d7c-8183-b572a57f0957\",\n",
        "        \"edf_urls\": [\"https://china.scidb.cn/download?fileId=61a0ca3f89f14b48842cf1be&traceId=0ec4c131-82e0-4d7c-8183-b572a57f0957\",\n",
        "                     \"https://china.scidb.cn/download?fileId=61a0ca3f89f14b48842cf1bd&traceId=0ec4c131-82e0-4d7c-8183-b572a57f0957\",\n",
        "                     \"https://china.scidb.cn/download?fileId=61a0ca3f89f14b48842cf1bc&traceId=0ec4c131-82e0-4d7c-8183-b572a57f0957\",\n",
        "                     \"https://china.scidb.cn/download?fileId=61a0ca3f89f14b48842cf1bb&traceId=0ec4c131-82e0-4d7c-8183-b572a57f0957\",\n",
        "                     \"https://china.scidb.cn/download?fileId=61a0ca3f89f14b48842cf1ba&traceId=0ec4c131-82e0-4d7c-8183-b572a57f0957\"]\n",
        "    },\n",
        "     {\n",
        "        \"rml_url\": \"https://china.scidb.cn/download?fileId=6436722e7869a339f571d641&traceId=0ec4c131-82e0-4d7c-8183-b572a57f0957\",\n",
        "        \"edf_urls\": [\"https://china.scidb.cn/download?fileId=61a0ca3f89f14b48842cf1b9&traceId=0ec4c131-82e0-4d7c-8183-b572a57f0957\",\n",
        "                     \"https://china.scidb.cn/download?fileId=61a0ca3f89f14b48842cf1b8&traceId=0ec4c131-82e0-4d7c-8183-b572a57f0957\",\n",
        "                     \"https://china.scidb.cn/download?fileId=61a0ca3f89f14b48842cf1b7&traceId=0ec4c131-82e0-4d7c-8183-b572a57f0957\",\n",
        "                     \"https://china.scidb.cn/download?fileId=61a0ca3f89f14b48842cf1b6&traceId=0ec4c131-82e0-4d7c-8183-b572a57f0957\",\n",
        "                     \"https://china.scidb.cn/download?fileId=61a0ca3f89f14b48842cf1b6&traceId=0ec4c131-82e0-4d7c-8183-b572a57f0957\"]\n",
        "    },\n",
        "     {\n",
        "        \"rml_url\": \"https://china.scidb.cn/download?fileId=6436722f9870236416bbf6a4&traceId=0ec4c131-82e0-4d7c-8183-b572a57f0957\",\n",
        "        \"edf_urls\": [\"https://china.scidb.cn/download?fileId=61a0ca3f89f14b48842cf1b4&traceId=0ec4c131-82e0-4d7c-8183-b572a57f0957\",\n",
        "                     \"https://china.scidb.cn/download?fileId=61a0ca3f89f14b48842cf1b3&traceId=0ec4c131-82e0-4d7c-8183-b572a57f0957\",\n",
        "                     \"https://china.scidb.cn/download?fileId=61a0ca3f89f14b48842cf1b2&traceId=0ec4c131-82e0-4d7c-8183-b572a57f0957\",\n",
        "                     \"https://china.scidb.cn/download?fileId=61a0ca3f89f14b48842cf1b1&traceId=0ec4c131-82e0-4d7c-8183-b572a57f0957\",\n",
        "                     \"https://china.scidb.cn/download?fileId=61a0ca3f89f14b48842cf1b0&traceId=0ec4c131-82e0-4d7c-8183-b572a57f0957\"]\n",
        "    },\n",
        "     {\n",
        "        \"rml_url\": \"https://china.scidb.cn/download?fileId=6436722f7869a339f571d643&traceId=0ec4c131-82e0-4d7c-8183-b572a57f0957\",\n",
        "        \"edf_urls\": [\"https://china.scidb.cn/download?fileId=61a0ca3f89f14b48842cf1af&traceId=0ec4c131-82e0-4d7c-8183-b572a57f0957\",\n",
        "                     \"https://china.scidb.cn/download?fileId=61a0ca3f89f14b48842cf1ae&traceId=0ec4c131-82e0-4d7c-8183-b572a57f0957\",\n",
        "                     \"https://china.scidb.cn/download?fileId=61a0ca3f89f14b48842cf1ad&traceId=0ec4c131-82e0-4d7c-8183-b572a57f0957\",\n",
        "                     \"https://china.scidb.cn/download?fileId=61a0ca3f89f14b48842cf1ac&traceId=0ec4c131-82e0-4d7c-8183-b572a57f0957\"]\n",
        "    },\n",
        "     {\n",
        "        \"rml_url\": \"https://china.scidb.cn/download?fileId=6436722f9870236416bbf6a6&traceId=0ec4c131-82e0-4d7c-8183-b572a57f0957\",\n",
        "        \"edf_urls\": [\"https://china.scidb.cn/download?fileId=61a0ca3f89f14b48842cf1a5&traceId=0ec4c131-82e0-4d7c-8183-b572a57f0957\",\n",
        "                     \"https://china.scidb.cn/download?fileId=61a0ca3f89f14b48842cf1a6&traceId=0ec4c131-82e0-4d7c-8183-b572a57f0957\",\n",
        "                     \"https://china.scidb.cn/download?fileId=61a0ca3f89f14b48842cf1a7&traceId=0ec4c131-82e0-4d7c-8183-b572a57f0957\",\n",
        "                     \"https://china.scidb.cn/download?fileId=61a0ca3f89f14b48842cf1a8&traceId=0ec4c131-82e0-4d7c-8183-b572a57f0957\",\n",
        "                     \"https://china.scidb.cn/download?fileId=61a0ca3f89f14b48842cf1a9&traceId=0ec4c131-82e0-4d7c-8183-b572a57f0957\",\n",
        "                     \"https://china.scidb.cn/download?fileId=61a0ca3f89f14b48842cf1aa&traceId=0ec4c131-82e0-4d7c-8183-b572a57f0957\",\n",
        "                     \"https://china.scidb.cn/download?fileId=61a0ca3f89f14b48842cf1ab&traceId=0ec4c131-82e0-4d7c-8183-b572a57f0957\"]\n",
        "    },\n",
        "     {\n",
        "        \"rml_url\": \"https://china.scidb.cn/download?fileId=6436722f7869a339f571d645&traceId=0ec4c131-82e0-4d7c-8183-b572a57f0957\",\n",
        "        \"edf_urls\": [\"https://china.scidb.cn/download?fileId=61a0ca3f89f14b48842cf199&traceId=0ec4c131-82e0-4d7c-8183-b572a57f0957\",\n",
        "                     \"https://china.scidb.cn/download?fileId=61a0ca3f89f14b48842cf198&traceId=0ec4c131-82e0-4d7c-8183-b572a57f0957\",\n",
        "                     \"https://china.scidb.cn/download?fileId=61a0ca3f89f14b48842cf197&traceId=0ec4c131-82e0-4d7c-8183-b572a57f0957\",\n",
        "                     \"https://china.scidb.cn/download?fileId=61a0ca3f89f14b48842cf196&traceId=0ec4c131-82e0-4d7c-8183-b572a57f0957\"]\n",
        "    },\n",
        "     {\n",
        "        \"rml_url\": \"https://china.scidb.cn/download?fileId=6436722f9870236416bbf6a8&traceId=0ec4c131-82e0-4d7c-8183-b572a57f0957\",\n",
        "        \"edf_urls\": [\"https://china.scidb.cn/download?fileId=61a0ca3f89f14b48842cf195&traceId=0ec4c131-82e0-4d7c-8183-b572a57f0957\",\n",
        "                     \"https://china.scidb.cn/download?fileId=61a0ca3f89f14b48842cf194&traceId=0ec4c131-82e0-4d7c-8183-b572a57f0957\",\n",
        "                     \"https://china.scidb.cn/download?fileId=61a0ca3f89f14b48842cf193&traceId=0ec4c131-82e0-4d7c-8183-b572a57f0957\",\n",
        "                     \"https://china.scidb.cn/download?fileId=61a0ca3f89f14b48842cf192&traceId=0ec4c131-82e0-4d7c-8183-b572a57f0957\"]\n",
        "    },\n",
        "     {\n",
        "        \"rml_url\": \"https://china.scidb.cn/download?fileId=6436722f7869a339f571d647&traceId=0ec4c131-82e0-4d7c-8183-b572a57f0957\",\n",
        "        \"edf_urls\": [\"https://china.scidb.cn/download?fileId=61a0ca3f89f14b48842cf191&traceId=0ec4c131-82e0-4d7c-8183-b572a57f0957\",\n",
        "                     \"https://china.scidb.cn/download?fileId=61a0ca3f89f14b48842cf190&traceId=0ec4c131-82e0-4d7c-8183-b572a57f0957\",\n",
        "                     \"https://china.scidb.cn/download?fileId=61a0ca3f89f14b48842cf18f&traceId=0ec4c131-82e0-4d7c-8183-b572a57f0957\",\n",
        "                     \"https://china.scidb.cn/download?fileId=61a0ca3f89f14b48842cf18e&traceId=0ec4c131-82e0-4d7c-8183-b572a57f0957\",\n",
        "                     \"https://china.scidb.cn/download?fileId=61a0ca3f89f14b48842cf18d&traceId=0ec4c131-82e0-4d7c-8183-b572a57f0957\"]\n",
        "    },\n",
        "     {\n",
        "        \"rml_url\": \"https://china.scidb.cn/download?fileId=643672309870236416bbf6aa&traceId=0ec4c131-82e0-4d7c-8183-b572a57f0957\",\n",
        "        \"edf_urls\": [\"https://china.scidb.cn/download?fileId=61a0ca3f89f14b48842cf18c&traceId=0ec4c131-82e0-4d7c-8183-b572a57f0957\",\n",
        "                     \"https://china.scidb.cn/download?fileId=61a0ca3f89f14b48842cf18b&traceId=0ec4c131-82e0-4d7c-8183-b572a57f0957\",\n",
        "                     \"https://china.scidb.cn/download?fileId=61a0ca3f89f14b48842cf18a&traceId=0ec4c131-82e0-4d7c-8183-b572a57f0957\",\n",
        "                     \"https://china.scidb.cn/download?fileId=61a0ca3f89f14b48842cf189&traceId=0ec4c131-82e0-4d7c-8183-b572a57f0957\",\n",
        "                     \"https://china.scidb.cn/download?fileId=61a0ca3f89f14b48842cf188&traceId=0ec4c131-82e0-4d7c-8183-b572a57f0957\"]\n",
        "    },\n",
        "     {\n",
        "        \"rml_url\": \"https://china.scidb.cn/download?fileId=6436722f7869a339f571d649&traceId=0ec4c131-82e0-4d7c-8183-b572a57f0957\",\n",
        "        \"edf_urls\": [\"https://china.scidb.cn/download?fileId=61a0ca3f89f14b48842cf187&traceId=0ec4c131-82e0-4d7c-8183-b572a57f0957\",\n",
        "                     \"https://china.scidb.cn/download?fileId=61a0ca3f89f14b48842cf186&traceId=0ec4c131-82e0-4d7c-8183-b572a57f0957\",\n",
        "                     \"https://china.scidb.cn/download?fileId=61a0ca3f89f14b48842cf185&traceId=0ec4c131-82e0-4d7c-8183-b572a57f0957\",\n",
        "                     \"https://china.scidb.cn/download?fileId=61a0ca3f89f14b48842cf184&traceId=0ec4c131-82e0-4d7c-8183-b572a57f0957\",\n",
        "                     \"https://china.scidb.cn/download?fileId=61a0ca3f89f14b48842cf183&traceId=0ec4c131-82e0-4d7c-8183-b572a57f0957\"]\n",
        "    },\n",
        "     {\n",
        "        \"rml_url\": \"https://china.scidb.cn/download?fileId=6437f9c27869a339f571d95e&traceId=0ec4c131-82e0-4d7c-8183-b572a57f0957\",\n",
        "        \"edf_urls\": [\"https://china.scidb.cn/download?fileId=61a0ca3f89f14b48842cf16b&traceId=0ec4c131-82e0-4d7c-8183-b572a57f0957\",\n",
        "                     \"https://china.scidb.cn/download?fileId=61a0ca3f89f14b48842cf16a&traceId=0ec4c131-82e0-4d7c-8183-b572a57f0957\",\n",
        "                     \"https://china.scidb.cn/download?fileId=61a0ca3f89f14b48842cf169&traceId=0ec4c131-82e0-4d7c-8183-b572a57f0957\",\n",
        "                     \"https://china.scidb.cn/download?fileId=61a0ca3f89f14b48842cf168&traceId=0ec4c131-82e0-4d7c-8183-b572a57f0957\"]\n",
        "    }\n",
        "\n",
        "    # Add more patient groups as needed\n",
        "]\n",
        "# --- Set the base directory for all downloaded and generated files ---\n",
        "base_dir = \"/content/apnea_data\"  # Using Colab's content directory\n",
        "TARGET_SAMPLE_RATE = 256 # Hz\n"
      ]
    },
    {
      "cell_type": "markdown",
      "id": "8878822b",
      "metadata": {
        "id": "8878822b"
      },
      "source": [
        "### Helper Functions\n",
        "These cells define all the functions used in the pipeline. There is no need to edit them."
      ]
    },
    {
      "cell_type": "code",
      "execution_count": 7,
      "id": "ab9d5aa9",
      "metadata": {
        "id": "ab9d5aa9"
      },
      "outputs": [],
      "source": [
        "# === 3. FUNCTION DEFINITIONS ===\n",
        "\n",
        "def download_file(url, out_path):\n",
        "    \"\"\"Downloads a file from a URL to a specified path using requests.\"\"\"\n",
        "    if not os.path.exists(out_path):\n",
        "        print(f\"Downloading {url}...\")\n",
        "        try:\n",
        "            response = requests.get(url, stream=True, timeout=30)\n",
        "            response.raise_for_status()  # Raise an exception for bad status codes\n",
        "            with open(out_path, 'wb') as f:\n",
        "                for chunk in response.iter_content(chunk_size=8192):\n",
        "                    f.write(chunk)\n",
        "            print(f\"Successfully downloaded to {out_path}\")\n",
        "        except requests.exceptions.RequestException as e:\n",
        "            print(f\"❌ Failed to download {url}. Error: {e}\")\n",
        "            return False\n",
        "    else:\n",
        "        print(f\"File already exists: {out_path}\")\n",
        "    return True\n",
        "\n",
        "def extract_apnea_events(xml_file_path):\n",
        "    \"\"\"Parses an RML file and extracts start and end times of apnea events.\"\"\"\n",
        "    tree = ET.parse(xml_file_path)\n",
        "    root = tree.getroot()\n",
        "    namespace = {'ns': 'http://www.respironics.com/PatientStudy.xsd'}\n",
        "    apnea_events = []\n",
        "    apnea_types = ['ObstructiveApnea', 'CentralApnea', 'MixedApnea']\n",
        "    for event in root.findall('.//ns:Event', namespace):\n",
        "        if event.get('Family') == 'Respiratory' and event.get('Type') in apnea_types:\n",
        "            start_time = float(event.get('Start'))\n",
        "            duration = float(event.get('Duration'))\n",
        "            end_time = start_time + duration\n",
        "            apnea_events.append({'start': start_time, 'end': end_time})\n",
        "    apnea_events.sort(key=lambda x: x['start'])\n",
        "    print(f\"Extracted {len(apnea_events)} apnea events from {os.path.basename(xml_file_path)}\")\n",
        "    return apnea_events\n",
        "\n",
        "def is_apnea(frame_start, frame_end, events):\n",
        "    \"\"\"Checks if a given time frame overlaps with any apnea event.\"\"\"\n",
        "    for event in events:\n",
        "        if frame_end > event['start'] and frame_start < event['end']:\n",
        "            return 1  # Apnea\n",
        "    return 0  # Normal\n",
        "\n",
        "def extract_features(frame, sr):\n",
        "    \"\"\"Calculates a rich set of audio features from a single audio frame.\"\"\"\n",
        "    if np.all(frame == 0):\n",
        "        return [0.0] * 23 # Return zeros for a silent frame\n",
        "\n",
        "    # Basic features\n",
        "    energy = np.mean(np.abs(frame))\n",
        "    zcr = np.mean(librosa.feature.zero_crossing_rate(y=frame)[0])\n",
        "    rms = np.mean(librosa.feature.rms(y=frame)[0])\n",
        "\n",
        "    # Spectral features\n",
        "    spectrum = np.abs(np.fft.rfft(frame))\n",
        "    freqs = np.fft.rfftfreq(len(frame), 1/sr)\n",
        "    centroid = librosa.feature.spectral_centroid(y=frame, sr=sr)[0, 0]\n",
        "    bandwidth = librosa.feature.spectral_bandwidth(y=frame, sr=sr)[0, 0]\n",
        "    rolloff = librosa.feature.spectral_rolloff(y=frame, sr=sr)[0, 0]\n",
        "    flatness = librosa.feature.spectral_flatness(y=frame)[0, 0]\n",
        "\n",
        "    # Advanced features\n",
        "    mfccs = librosa.feature.mfcc(y=frame, sr=sr, n_mfcc=13)\n",
        "    mfccs_mean = mfccs.mean(axis=1)\n",
        "    skew = scipy.stats.skew(frame)\n",
        "    kurt = scipy.stats.kurtosis(frame)\n",
        "\n",
        "    # Spectrogram entropy\n",
        "    power_spec = spectrum ** 2\n",
        "    ps_norm = power_spec / (np.sum(power_spec) + 1e-10)\n",
        "    entropy = -np.sum(ps_norm * np.log2(ps_norm + 1e-10))\n",
        "\n",
        "    # Aggregate all features into a single list\n",
        "    features = [energy, zcr, centroid, rms, bandwidth, rolloff, flatness, skew, kurt, entropy] + list(mfccs_mean)\n",
        "    return features"
      ]
    },
    {
      "cell_type": "code",
      "execution_count": 8,
      "id": "2a48a4f1",
      "metadata": {
        "id": "2a48a4f1"
      },
      "outputs": [],
      "source": [
        "# === 4. MASTER PROCESSING FUNCTION (UPDATED FOR DOWNSAMPLING) ===\n",
        "\n",
        "def process_patient(patient_id, patient_group, base_dir, master_csv_path):\n",
        "    \"\"\"Runs the full data preparation pipeline for a single patient.\"\"\"\n",
        "    print(f\"\\n{'='*20} Processing {patient_id} {'='*20}\")\n",
        "\n",
        "    # Create a dedicated directory for the patient's files\n",
        "    patient_dir = os.path.join(base_dir, patient_id)\n",
        "    os.makedirs(patient_dir, exist_ok=True)\n",
        "\n",
        "    # --- Step 1: Download all files for the patient ---\n",
        "    print(\"\\n--- Step 1: Downloading Files ---\")\n",
        "    rml_path = os.path.join(patient_dir, f\"{patient_id}.rml\")\n",
        "    if not download_file(patient_group[\"rml_url\"], rml_path):\n",
        "        print(f\"Skipping {patient_id} due to RML download failure.\")\n",
        "        return\n",
        "\n",
        "    edf_paths = []\n",
        "    for i, edf_url in enumerate(patient_group[\"edf_urls\"], 1):\n",
        "        edf_path = os.path.join(patient_dir, f\"{patient_id}_part_{i}.edf\")\n",
        "        if download_file(edf_url, edf_path):\n",
        "            edf_paths.append(edf_path)\n",
        "\n",
        "    # --- Step 2: Concatenate EDF 'Mic' channels with chunking AND DOWNSAMPLING ---\n",
        "    print(f\"\\n--- Step 2: Concatenating Audio to {TARGET_SAMPLE_RATE} Hz (Memory-Safe)---\")\n",
        "    output_wav = os.path.join(patient_dir, f\"{patient_id}_full_mic.wav\")\n",
        "\n",
        "    # Validation loop to check original sample rates for consistency\n",
        "    original_sfreq = None\n",
        "    valid_edf_paths = []\n",
        "    for edf_path in edf_paths:\n",
        "        try:\n",
        "            raw = mne.io.read_raw_edf(edf_path, preload=False, verbose=False)\n",
        "            if \"Mic\" in raw.ch_names:\n",
        "                current_sfreq = int(raw.info[\"sfreq\"])\n",
        "                if original_sfreq is None:\n",
        "                    original_sfreq = current_sfreq\n",
        "                elif original_sfreq != current_sfreq:\n",
        "                    print(f\"❌ CRITICAL ERROR: Sample rate mismatch in {os.path.basename(edf_path)}. Expected {original_sfreq}, found {current_sfreq}.\")\n",
        "                    return\n",
        "                valid_edf_paths.append(edf_path)\n",
        "            else:\n",
        "                print(f\"⚠️ WARNING: 'Mic' channel not found in {os.path.basename(edf_path)}. It will be skipped.\")\n",
        "        except Exception as e:\n",
        "            print(f\"❌ ERROR: Could not read {os.path.basename(edf_path)}. Error: {e}\")\n",
        "\n",
        "    if original_sfreq is None:\n",
        "        print(f\"❌ No valid EDF file with a 'Mic' channel found for {patient_id}. Skipping.\")\n",
        "        return\n",
        "\n",
        "    # Memory-safe concatenation and downsampling loop\n",
        "    with sf.SoundFile(output_wav, 'w', samplerate=TARGET_SAMPLE_RATE, channels=1, subtype='PCM_16') as out_f: # <-- CHANGE HERE\n",
        "        for edf_path in valid_edf_paths:\n",
        "            print(f\"Processing in chunks: {os.path.basename(edf_path)}\")\n",
        "            raw = mne.io.read_raw_edf(edf_path, preload=False, verbose=False)\n",
        "\n",
        "            n_samples = raw.n_times\n",
        "            chunk_size = original_sfreq * 600  # Read in 10-minute chunks based on ORIGINAL sample rate\n",
        "\n",
        "            for start in range(0, n_samples, chunk_size):\n",
        "                stop = min(start + chunk_size, n_samples)\n",
        "                mic_chunk = raw.get_data(picks=[\"Mic\"], start=start, stop=stop)[0].astype(np.float32)\n",
        "\n",
        "                # --- THIS IS THE NEW DOWNSAMPLING LOGIC ---\n",
        "                if original_sfreq != TARGET_SAMPLE_RATE:\n",
        "                    mic_chunk = librosa.resample(y=mic_chunk, orig_sr=original_sfreq, target_sr=TARGET_SAMPLE_RATE)\n",
        "                # --------------------------------------------\n",
        "\n",
        "                out_f.write(mic_chunk)\n",
        "\n",
        "    print(f\"✅ Successfully created downsampled WAV: {os.path.basename(output_wav)}\")\n",
        "\n",
        "    # --- Step 3: Extract Features (this part remains unchanged) ---\n",
        "    print(\"\\n--- Step 3: Extracting Features and Labels ---\")\n",
        "    # ... The rest of the function continues exactly as before ...\n",
        "    apnea_events = extract_apnea_events(rml_path)\n",
        "\n",
        "    header = ['patient_id', 'frame_start', 'frame_end', 'energy', 'zcr', 'centroid', 'rms', 'bandwidth', 'rolloff', 'flatness', 'skew', 'kurt', 'entropy'] + [f'mfcc_{i+1}' for i in range(13)] + ['label']\n",
        "    write_header = not os.path.exists(master_csv_path) or os.stat(master_csv_path).st_size == 0\n",
        "\n",
        "    try:\n",
        "        with sf.SoundFile(output_wav, 'r') as f_in:\n",
        "            sr = f_in.samplerate # This will now be your TARGET_SAMPLE_RATE\n",
        "            frame_sec = 1\n",
        "            frame_len = int(sr * frame_sec)\n",
        "            n_frames = int(np.floor(len(f_in) / frame_len))\n",
        "\n",
        "            with open(master_csv_path, 'a', newline='') as f_out:\n",
        "                writer = csv.writer(f_out)\n",
        "                if write_header:\n",
        "                    writer.writerow(header)\n",
        "\n",
        "                for i in range(n_frames):\n",
        "                    frame = f_in.read(frames=frame_len, dtype='float32')\n",
        "                    if len(frame) < frame_len:\n",
        "                        break\n",
        "\n",
        "                    frame_start_sec = i * frame_sec\n",
        "                    frame_end_sec = frame_start_sec + frame_sec\n",
        "\n",
        "                    features = extract_features(frame, sr)\n",
        "                    label = is_apnea(frame_start_sec, frame_end_sec, apnea_events)\n",
        "\n",
        "                    writer.writerow([patient_id, frame_start_sec, frame_end_sec] + features + [label])\n",
        "        print(f\"✅ Appended {n_frames} frames from {patient_id} to master CSV.\")\n",
        "    except Exception as e:\n",
        "        print(f\"❌ ERROR during feature extraction for {patient_id}. Error: {e}\")"
      ]
    },
    {
      "cell_type": "code",
      "execution_count": 9,
      "id": "0dfe9ac7",
      "metadata": {
        "colab": {
          "base_uri": "https://localhost:8080/"
        },
        "id": "0dfe9ac7",
        "outputId": "2c1fae10-ab36-4810-bac3-ad68a8322dcf"
      },
      "outputs": [
        {
          "output_type": "stream",
          "name": "stdout",
          "text": [
            "\n",
            "==================== Processing patient_1 ====================\n",
            "\n",
            "--- Step 1: Downloading Files ---\n",
            "Downloading https://china.scidb.cn/download?fileId=644b5b677869a339f571e4a6&traceId=0ec4c131-82e0-4d7c-8183-b572a57f0957...\n",
            "Successfully downloaded to /content/apnea_data/patient_1/patient_1.rml\n",
            "Downloading https://china.scidb.cn/download?fileId=61a0ca3f89f14b48842cf1ef&traceId=0ec4c131-82e0-4d7c-8183-b572a57f0957...\n",
            "Successfully downloaded to /content/apnea_data/patient_1/patient_1_part_1.edf\n",
            "Downloading https://china.scidb.cn/download?fileId=61a0ca3f89f14b48842cf1ee&traceId=0ec4c131-82e0-4d7c-8183-b572a57f0957...\n",
            "Successfully downloaded to /content/apnea_data/patient_1/patient_1_part_2.edf\n",
            "Downloading https://china.scidb.cn/download?fileId=61a0ca3f89f14b48842cf1ed&traceId=0ec4c131-82e0-4d7c-8183-b572a57f0957...\n",
            "Successfully downloaded to /content/apnea_data/patient_1/patient_1_part_3.edf\n",
            "Downloading https://china.scidb.cn/download?fileId=61a0ca3f89f14b48842cf1ec&traceId=0ec4c131-82e0-4d7c-8183-b572a57f0957...\n",
            "Successfully downloaded to /content/apnea_data/patient_1/patient_1_part_4.edf\n",
            "Downloading https://china.scidb.cn/download?fileId=61a0ca3f89f14b48842cf1eb&traceId=0ec4c131-82e0-4d7c-8183-b572a57f0957...\n",
            "Successfully downloaded to /content/apnea_data/patient_1/patient_1_part_5.edf\n",
            "\n",
            "--- Step 2: Concatenating Audio to 256 Hz (Memory-Safe)---\n"
          ]
        },
        {
          "output_type": "stream",
          "name": "stderr",
          "text": [
            "/tmp/ipython-input-8-1077296292.py:33: RuntimeWarning: Channel names are not unique, found duplicates for: {'Flow Patient'}. Applying running numbers for duplicates.\n",
            "  raw = mne.io.read_raw_edf(edf_path, preload=False, verbose=False)\n",
            "/tmp/ipython-input-8-1077296292.py:33: RuntimeWarning: Channels contain different highpass filters. Highest filter setting will be stored.\n",
            "  raw = mne.io.read_raw_edf(edf_path, preload=False, verbose=False)\n",
            "/tmp/ipython-input-8-1077296292.py:33: RuntimeWarning: Channels contain different lowpass filters. Lowest filter setting will be stored.\n",
            "  raw = mne.io.read_raw_edf(edf_path, preload=False, verbose=False)\n",
            "/tmp/ipython-input-8-1077296292.py:33: RuntimeWarning: Channel names are not unique, found duplicates for: {'Flow Patient'}. Applying running numbers for duplicates.\n",
            "  raw = mne.io.read_raw_edf(edf_path, preload=False, verbose=False)\n",
            "/tmp/ipython-input-8-1077296292.py:33: RuntimeWarning: Channels contain different highpass filters. Highest filter setting will be stored.\n",
            "  raw = mne.io.read_raw_edf(edf_path, preload=False, verbose=False)\n",
            "/tmp/ipython-input-8-1077296292.py:33: RuntimeWarning: Channels contain different lowpass filters. Lowest filter setting will be stored.\n",
            "  raw = mne.io.read_raw_edf(edf_path, preload=False, verbose=False)\n",
            "/tmp/ipython-input-8-1077296292.py:33: RuntimeWarning: Channel names are not unique, found duplicates for: {'Flow Patient'}. Applying running numbers for duplicates.\n",
            "  raw = mne.io.read_raw_edf(edf_path, preload=False, verbose=False)\n",
            "/tmp/ipython-input-8-1077296292.py:33: RuntimeWarning: Channels contain different highpass filters. Highest filter setting will be stored.\n",
            "  raw = mne.io.read_raw_edf(edf_path, preload=False, verbose=False)\n",
            "/tmp/ipython-input-8-1077296292.py:33: RuntimeWarning: Channels contain different lowpass filters. Lowest filter setting will be stored.\n",
            "  raw = mne.io.read_raw_edf(edf_path, preload=False, verbose=False)\n",
            "/tmp/ipython-input-8-1077296292.py:33: RuntimeWarning: Channel names are not unique, found duplicates for: {'Flow Patient'}. Applying running numbers for duplicates.\n",
            "  raw = mne.io.read_raw_edf(edf_path, preload=False, verbose=False)\n",
            "/tmp/ipython-input-8-1077296292.py:33: RuntimeWarning: Channels contain different highpass filters. Highest filter setting will be stored.\n",
            "  raw = mne.io.read_raw_edf(edf_path, preload=False, verbose=False)\n",
            "/tmp/ipython-input-8-1077296292.py:33: RuntimeWarning: Channels contain different lowpass filters. Lowest filter setting will be stored.\n",
            "  raw = mne.io.read_raw_edf(edf_path, preload=False, verbose=False)\n",
            "/tmp/ipython-input-8-1077296292.py:33: RuntimeWarning: Channel names are not unique, found duplicates for: {'Flow Patient'}. Applying running numbers for duplicates.\n",
            "  raw = mne.io.read_raw_edf(edf_path, preload=False, verbose=False)\n",
            "/tmp/ipython-input-8-1077296292.py:33: RuntimeWarning: Channels contain different highpass filters. Highest filter setting will be stored.\n",
            "  raw = mne.io.read_raw_edf(edf_path, preload=False, verbose=False)\n",
            "/tmp/ipython-input-8-1077296292.py:33: RuntimeWarning: Channels contain different lowpass filters. Lowest filter setting will be stored.\n",
            "  raw = mne.io.read_raw_edf(edf_path, preload=False, verbose=False)\n",
            "/tmp/ipython-input-8-1077296292.py:55: RuntimeWarning: Channel names are not unique, found duplicates for: {'Flow Patient'}. Applying running numbers for duplicates.\n",
            "  raw = mne.io.read_raw_edf(edf_path, preload=False, verbose=False)\n",
            "/tmp/ipython-input-8-1077296292.py:55: RuntimeWarning: Channels contain different highpass filters. Highest filter setting will be stored.\n",
            "  raw = mne.io.read_raw_edf(edf_path, preload=False, verbose=False)\n",
            "/tmp/ipython-input-8-1077296292.py:55: RuntimeWarning: Channels contain different lowpass filters. Lowest filter setting will be stored.\n",
            "  raw = mne.io.read_raw_edf(edf_path, preload=False, verbose=False)\n"
          ]
        },
        {
          "output_type": "stream",
          "name": "stdout",
          "text": [
            "Processing in chunks: patient_1_part_1.edf\n",
            "Processing in chunks: patient_1_part_2.edf\n"
          ]
        },
        {
          "output_type": "stream",
          "name": "stderr",
          "text": [
            "/tmp/ipython-input-8-1077296292.py:55: RuntimeWarning: Channel names are not unique, found duplicates for: {'Flow Patient'}. Applying running numbers for duplicates.\n",
            "  raw = mne.io.read_raw_edf(edf_path, preload=False, verbose=False)\n",
            "/tmp/ipython-input-8-1077296292.py:55: RuntimeWarning: Channels contain different highpass filters. Highest filter setting will be stored.\n",
            "  raw = mne.io.read_raw_edf(edf_path, preload=False, verbose=False)\n",
            "/tmp/ipython-input-8-1077296292.py:55: RuntimeWarning: Channels contain different lowpass filters. Lowest filter setting will be stored.\n",
            "  raw = mne.io.read_raw_edf(edf_path, preload=False, verbose=False)\n"
          ]
        },
        {
          "output_type": "stream",
          "name": "stdout",
          "text": [
            "Processing in chunks: patient_1_part_3.edf\n"
          ]
        },
        {
          "output_type": "stream",
          "name": "stderr",
          "text": [
            "/tmp/ipython-input-8-1077296292.py:55: RuntimeWarning: Channel names are not unique, found duplicates for: {'Flow Patient'}. Applying running numbers for duplicates.\n",
            "  raw = mne.io.read_raw_edf(edf_path, preload=False, verbose=False)\n",
            "/tmp/ipython-input-8-1077296292.py:55: RuntimeWarning: Channels contain different highpass filters. Highest filter setting will be stored.\n",
            "  raw = mne.io.read_raw_edf(edf_path, preload=False, verbose=False)\n",
            "/tmp/ipython-input-8-1077296292.py:55: RuntimeWarning: Channels contain different lowpass filters. Lowest filter setting will be stored.\n",
            "  raw = mne.io.read_raw_edf(edf_path, preload=False, verbose=False)\n"
          ]
        },
        {
          "output_type": "stream",
          "name": "stdout",
          "text": [
            "Processing in chunks: patient_1_part_4.edf\n"
          ]
        },
        {
          "output_type": "stream",
          "name": "stderr",
          "text": [
            "/tmp/ipython-input-8-1077296292.py:55: RuntimeWarning: Channel names are not unique, found duplicates for: {'Flow Patient'}. Applying running numbers for duplicates.\n",
            "  raw = mne.io.read_raw_edf(edf_path, preload=False, verbose=False)\n",
            "/tmp/ipython-input-8-1077296292.py:55: RuntimeWarning: Channels contain different highpass filters. Highest filter setting will be stored.\n",
            "  raw = mne.io.read_raw_edf(edf_path, preload=False, verbose=False)\n",
            "/tmp/ipython-input-8-1077296292.py:55: RuntimeWarning: Channels contain different lowpass filters. Lowest filter setting will be stored.\n",
            "  raw = mne.io.read_raw_edf(edf_path, preload=False, verbose=False)\n"
          ]
        },
        {
          "output_type": "stream",
          "name": "stdout",
          "text": [
            "Processing in chunks: patient_1_part_5.edf\n"
          ]
        },
        {
          "output_type": "stream",
          "name": "stderr",
          "text": [
            "/tmp/ipython-input-8-1077296292.py:55: RuntimeWarning: Channel names are not unique, found duplicates for: {'Flow Patient'}. Applying running numbers for duplicates.\n",
            "  raw = mne.io.read_raw_edf(edf_path, preload=False, verbose=False)\n",
            "/tmp/ipython-input-8-1077296292.py:55: RuntimeWarning: Channels contain different highpass filters. Highest filter setting will be stored.\n",
            "  raw = mne.io.read_raw_edf(edf_path, preload=False, verbose=False)\n",
            "/tmp/ipython-input-8-1077296292.py:55: RuntimeWarning: Channels contain different lowpass filters. Lowest filter setting will be stored.\n",
            "  raw = mne.io.read_raw_edf(edf_path, preload=False, verbose=False)\n"
          ]
        },
        {
          "output_type": "stream",
          "name": "stdout",
          "text": [
            "✅ Successfully created downsampled WAV: patient_1_full_mic.wav\n",
            "\n",
            "--- Step 3: Extracting Features and Labels ---\n",
            "Extracted 81 apnea events from patient_1.rml\n"
          ]
        },
        {
          "output_type": "stream",
          "name": "stderr",
          "text": [
            "/usr/local/lib/python3.11/dist-packages/librosa/core/spectrum.py:266: UserWarning: n_fft=2048 is too large for input signal of length=256\n",
            "  warnings.warn(\n"
          ]
        },
        {
          "output_type": "stream",
          "name": "stdout",
          "text": [
            "✅ Appended 17891 frames from patient_1 to master CSV.\n",
            "\n",
            "==================== Processing patient_2 ====================\n",
            "\n",
            "--- Step 1: Downloading Files ---\n",
            "Downloading https://china.scidb.cn/download?fileId=6437f9c27869a339f571d95b&traceId=0ec4c131-82e0-4d7c-8183-b572a57f0957...\n",
            "Successfully downloaded to /content/apnea_data/patient_2/patient_2.rml\n",
            "Downloading https://china.scidb.cn/download?fileId=61a0ca3f89f14b48842cf1ea&traceId=0ec4c131-82e0-4d7c-8183-b572a57f0957...\n",
            "Successfully downloaded to /content/apnea_data/patient_2/patient_2_part_1.edf\n",
            "Downloading https://china.scidb.cn/download?fileId=61a0ca3f89f14b48842cf1e9&traceId=0ec4c131-82e0-4d7c-8183-b572a57f0957...\n",
            "Successfully downloaded to /content/apnea_data/patient_2/patient_2_part_2.edf\n",
            "Downloading https://china.scidb.cn/download?fileId=61a0ca3f89f14b48842cf1e8&traceId=0ec4c131-82e0-4d7c-8183-b572a57f0957...\n",
            "Successfully downloaded to /content/apnea_data/patient_2/patient_2_part_3.edf\n",
            "Downloading https://china.scidb.cn/download?fileId=61a0ca3f89f14b48842cf1e7&traceId=0ec4c131-82e0-4d7c-8183-b572a57f0957...\n",
            "Successfully downloaded to /content/apnea_data/patient_2/patient_2_part_4.edf\n",
            "Downloading https://china.scidb.cn/download?fileId=61a0ca3f89f14b48842cf1e6&traceId=0ec4c131-82e0-4d7c-8183-b572a57f0957...\n",
            "Successfully downloaded to /content/apnea_data/patient_2/patient_2_part_5.edf\n",
            "\n",
            "--- Step 2: Concatenating Audio to 256 Hz (Memory-Safe)---\n",
            "Processing in chunks: patient_2_part_1.edf\n"
          ]
        },
        {
          "output_type": "stream",
          "name": "stderr",
          "text": [
            "/tmp/ipython-input-8-1077296292.py:33: RuntimeWarning: Channel names are not unique, found duplicates for: {'Flow Patient'}. Applying running numbers for duplicates.\n",
            "  raw = mne.io.read_raw_edf(edf_path, preload=False, verbose=False)\n",
            "/tmp/ipython-input-8-1077296292.py:33: RuntimeWarning: Channels contain different highpass filters. Highest filter setting will be stored.\n",
            "  raw = mne.io.read_raw_edf(edf_path, preload=False, verbose=False)\n",
            "/tmp/ipython-input-8-1077296292.py:33: RuntimeWarning: Channels contain different lowpass filters. Lowest filter setting will be stored.\n",
            "  raw = mne.io.read_raw_edf(edf_path, preload=False, verbose=False)\n",
            "/tmp/ipython-input-8-1077296292.py:33: RuntimeWarning: Channel names are not unique, found duplicates for: {'Flow Patient'}. Applying running numbers for duplicates.\n",
            "  raw = mne.io.read_raw_edf(edf_path, preload=False, verbose=False)\n",
            "/tmp/ipython-input-8-1077296292.py:33: RuntimeWarning: Channels contain different highpass filters. Highest filter setting will be stored.\n",
            "  raw = mne.io.read_raw_edf(edf_path, preload=False, verbose=False)\n",
            "/tmp/ipython-input-8-1077296292.py:33: RuntimeWarning: Channels contain different lowpass filters. Lowest filter setting will be stored.\n",
            "  raw = mne.io.read_raw_edf(edf_path, preload=False, verbose=False)\n",
            "/tmp/ipython-input-8-1077296292.py:33: RuntimeWarning: Channel names are not unique, found duplicates for: {'Flow Patient'}. Applying running numbers for duplicates.\n",
            "  raw = mne.io.read_raw_edf(edf_path, preload=False, verbose=False)\n",
            "/tmp/ipython-input-8-1077296292.py:33: RuntimeWarning: Channels contain different highpass filters. Highest filter setting will be stored.\n",
            "  raw = mne.io.read_raw_edf(edf_path, preload=False, verbose=False)\n",
            "/tmp/ipython-input-8-1077296292.py:33: RuntimeWarning: Channels contain different lowpass filters. Lowest filter setting will be stored.\n",
            "  raw = mne.io.read_raw_edf(edf_path, preload=False, verbose=False)\n",
            "/tmp/ipython-input-8-1077296292.py:33: RuntimeWarning: Channel names are not unique, found duplicates for: {'Flow Patient'}. Applying running numbers for duplicates.\n",
            "  raw = mne.io.read_raw_edf(edf_path, preload=False, verbose=False)\n",
            "/tmp/ipython-input-8-1077296292.py:33: RuntimeWarning: Channels contain different highpass filters. Highest filter setting will be stored.\n",
            "  raw = mne.io.read_raw_edf(edf_path, preload=False, verbose=False)\n",
            "/tmp/ipython-input-8-1077296292.py:33: RuntimeWarning: Channels contain different lowpass filters. Lowest filter setting will be stored.\n",
            "  raw = mne.io.read_raw_edf(edf_path, preload=False, verbose=False)\n",
            "/tmp/ipython-input-8-1077296292.py:33: RuntimeWarning: Channel names are not unique, found duplicates for: {'Flow Patient'}. Applying running numbers for duplicates.\n",
            "  raw = mne.io.read_raw_edf(edf_path, preload=False, verbose=False)\n",
            "/tmp/ipython-input-8-1077296292.py:33: RuntimeWarning: Channels contain different highpass filters. Highest filter setting will be stored.\n",
            "  raw = mne.io.read_raw_edf(edf_path, preload=False, verbose=False)\n",
            "/tmp/ipython-input-8-1077296292.py:33: RuntimeWarning: Channels contain different lowpass filters. Lowest filter setting will be stored.\n",
            "  raw = mne.io.read_raw_edf(edf_path, preload=False, verbose=False)\n",
            "/tmp/ipython-input-8-1077296292.py:55: RuntimeWarning: Channel names are not unique, found duplicates for: {'Flow Patient'}. Applying running numbers for duplicates.\n",
            "  raw = mne.io.read_raw_edf(edf_path, preload=False, verbose=False)\n",
            "/tmp/ipython-input-8-1077296292.py:55: RuntimeWarning: Channels contain different highpass filters. Highest filter setting will be stored.\n",
            "  raw = mne.io.read_raw_edf(edf_path, preload=False, verbose=False)\n",
            "/tmp/ipython-input-8-1077296292.py:55: RuntimeWarning: Channels contain different lowpass filters. Lowest filter setting will be stored.\n",
            "  raw = mne.io.read_raw_edf(edf_path, preload=False, verbose=False)\n"
          ]
        },
        {
          "output_type": "stream",
          "name": "stdout",
          "text": [
            "Processing in chunks: patient_2_part_2.edf\n"
          ]
        },
        {
          "output_type": "stream",
          "name": "stderr",
          "text": [
            "/tmp/ipython-input-8-1077296292.py:55: RuntimeWarning: Channel names are not unique, found duplicates for: {'Flow Patient'}. Applying running numbers for duplicates.\n",
            "  raw = mne.io.read_raw_edf(edf_path, preload=False, verbose=False)\n",
            "/tmp/ipython-input-8-1077296292.py:55: RuntimeWarning: Channels contain different highpass filters. Highest filter setting will be stored.\n",
            "  raw = mne.io.read_raw_edf(edf_path, preload=False, verbose=False)\n",
            "/tmp/ipython-input-8-1077296292.py:55: RuntimeWarning: Channels contain different lowpass filters. Lowest filter setting will be stored.\n",
            "  raw = mne.io.read_raw_edf(edf_path, preload=False, verbose=False)\n"
          ]
        },
        {
          "output_type": "stream",
          "name": "stdout",
          "text": [
            "Processing in chunks: patient_2_part_3.edf\n"
          ]
        },
        {
          "output_type": "stream",
          "name": "stderr",
          "text": [
            "/tmp/ipython-input-8-1077296292.py:55: RuntimeWarning: Channel names are not unique, found duplicates for: {'Flow Patient'}. Applying running numbers for duplicates.\n",
            "  raw = mne.io.read_raw_edf(edf_path, preload=False, verbose=False)\n",
            "/tmp/ipython-input-8-1077296292.py:55: RuntimeWarning: Channels contain different highpass filters. Highest filter setting will be stored.\n",
            "  raw = mne.io.read_raw_edf(edf_path, preload=False, verbose=False)\n",
            "/tmp/ipython-input-8-1077296292.py:55: RuntimeWarning: Channels contain different lowpass filters. Lowest filter setting will be stored.\n",
            "  raw = mne.io.read_raw_edf(edf_path, preload=False, verbose=False)\n"
          ]
        },
        {
          "output_type": "stream",
          "name": "stdout",
          "text": [
            "Processing in chunks: patient_2_part_4.edf\n"
          ]
        },
        {
          "output_type": "stream",
          "name": "stderr",
          "text": [
            "/tmp/ipython-input-8-1077296292.py:55: RuntimeWarning: Channel names are not unique, found duplicates for: {'Flow Patient'}. Applying running numbers for duplicates.\n",
            "  raw = mne.io.read_raw_edf(edf_path, preload=False, verbose=False)\n",
            "/tmp/ipython-input-8-1077296292.py:55: RuntimeWarning: Channels contain different highpass filters. Highest filter setting will be stored.\n",
            "  raw = mne.io.read_raw_edf(edf_path, preload=False, verbose=False)\n",
            "/tmp/ipython-input-8-1077296292.py:55: RuntimeWarning: Channels contain different lowpass filters. Lowest filter setting will be stored.\n",
            "  raw = mne.io.read_raw_edf(edf_path, preload=False, verbose=False)\n"
          ]
        },
        {
          "output_type": "stream",
          "name": "stdout",
          "text": [
            "Processing in chunks: patient_2_part_5.edf\n"
          ]
        },
        {
          "output_type": "stream",
          "name": "stderr",
          "text": [
            "/tmp/ipython-input-8-1077296292.py:55: RuntimeWarning: Channel names are not unique, found duplicates for: {'Flow Patient'}. Applying running numbers for duplicates.\n",
            "  raw = mne.io.read_raw_edf(edf_path, preload=False, verbose=False)\n",
            "/tmp/ipython-input-8-1077296292.py:55: RuntimeWarning: Channels contain different highpass filters. Highest filter setting will be stored.\n",
            "  raw = mne.io.read_raw_edf(edf_path, preload=False, verbose=False)\n",
            "/tmp/ipython-input-8-1077296292.py:55: RuntimeWarning: Channels contain different lowpass filters. Lowest filter setting will be stored.\n",
            "  raw = mne.io.read_raw_edf(edf_path, preload=False, verbose=False)\n"
          ]
        },
        {
          "output_type": "stream",
          "name": "stdout",
          "text": [
            "✅ Successfully created downsampled WAV: patient_2_full_mic.wav\n",
            "\n",
            "--- Step 3: Extracting Features and Labels ---\n",
            "Extracted 157 apnea events from patient_2.rml\n",
            "✅ Appended 14901 frames from patient_2 to master CSV.\n",
            "\n",
            "==================== Processing patient_3 ====================\n",
            "\n",
            "--- Step 1: Downloading Files ---\n",
            "Downloading https://china.scidb.cn/download?fileId=644b5b677869a339f571e4a8&traceId=0ec4c131-82e0-4d7c-8183-b572a57f0957...\n",
            "Successfully downloaded to /content/apnea_data/patient_3/patient_3.rml\n",
            "Downloading https://china.scidb.cn/download?fileId=61a0ca3f89f14b48842cf367&traceId=0ec4c131-82e0-4d7c-8183-b572a57f0957...\n",
            "Successfully downloaded to /content/apnea_data/patient_3/patient_3_part_1.edf\n",
            "Downloading https://china.scidb.cn/download?fileId=61a0ca3f89f14b48842cf369&traceId=0ec4c131-82e0-4d7c-8183-b572a57f0957...\n",
            "Successfully downloaded to /content/apnea_data/patient_3/patient_3_part_2.edf\n",
            "Downloading https://china.scidb.cn/download?fileId=61a0ca3f89f14b48842cf366&traceId=0ec4c131-82e0-4d7c-8183-b572a57f0957...\n",
            "Successfully downloaded to /content/apnea_data/patient_3/patient_3_part_3.edf\n",
            "Downloading https://china.scidb.cn/download?fileId=61a0ca3f89f14b48842cf36a&traceId=0ec4c131-82e0-4d7c-8183-b572a57f0957...\n",
            "Successfully downloaded to /content/apnea_data/patient_3/patient_3_part_4.edf\n",
            "Downloading https://china.scidb.cn/download?fileId=61a0ca3f89f14b48842cf365&traceId=0ec4c131-82e0-4d7c-8183-b572a57f0957...\n",
            "Successfully downloaded to /content/apnea_data/patient_3/patient_3_part_5.edf\n",
            "\n",
            "--- Step 2: Concatenating Audio to 256 Hz (Memory-Safe)---\n",
            "Processing in chunks: patient_3_part_1.edf\n"
          ]
        },
        {
          "output_type": "stream",
          "name": "stderr",
          "text": [
            "/tmp/ipython-input-8-1077296292.py:33: RuntimeWarning: Channel names are not unique, found duplicates for: {'Flow Patient'}. Applying running numbers for duplicates.\n",
            "  raw = mne.io.read_raw_edf(edf_path, preload=False, verbose=False)\n",
            "/tmp/ipython-input-8-1077296292.py:33: RuntimeWarning: Channels contain different highpass filters. Highest filter setting will be stored.\n",
            "  raw = mne.io.read_raw_edf(edf_path, preload=False, verbose=False)\n",
            "/tmp/ipython-input-8-1077296292.py:33: RuntimeWarning: Channels contain different lowpass filters. Lowest filter setting will be stored.\n",
            "  raw = mne.io.read_raw_edf(edf_path, preload=False, verbose=False)\n",
            "/tmp/ipython-input-8-1077296292.py:33: RuntimeWarning: Channel names are not unique, found duplicates for: {'Flow Patient'}. Applying running numbers for duplicates.\n",
            "  raw = mne.io.read_raw_edf(edf_path, preload=False, verbose=False)\n",
            "/tmp/ipython-input-8-1077296292.py:33: RuntimeWarning: Channels contain different highpass filters. Highest filter setting will be stored.\n",
            "  raw = mne.io.read_raw_edf(edf_path, preload=False, verbose=False)\n",
            "/tmp/ipython-input-8-1077296292.py:33: RuntimeWarning: Channels contain different lowpass filters. Lowest filter setting will be stored.\n",
            "  raw = mne.io.read_raw_edf(edf_path, preload=False, verbose=False)\n",
            "/tmp/ipython-input-8-1077296292.py:33: RuntimeWarning: Channel names are not unique, found duplicates for: {'Flow Patient'}. Applying running numbers for duplicates.\n",
            "  raw = mne.io.read_raw_edf(edf_path, preload=False, verbose=False)\n",
            "/tmp/ipython-input-8-1077296292.py:33: RuntimeWarning: Channels contain different highpass filters. Highest filter setting will be stored.\n",
            "  raw = mne.io.read_raw_edf(edf_path, preload=False, verbose=False)\n",
            "/tmp/ipython-input-8-1077296292.py:33: RuntimeWarning: Channels contain different lowpass filters. Lowest filter setting will be stored.\n",
            "  raw = mne.io.read_raw_edf(edf_path, preload=False, verbose=False)\n",
            "/tmp/ipython-input-8-1077296292.py:33: RuntimeWarning: Channel names are not unique, found duplicates for: {'Flow Patient'}. Applying running numbers for duplicates.\n",
            "  raw = mne.io.read_raw_edf(edf_path, preload=False, verbose=False)\n",
            "/tmp/ipython-input-8-1077296292.py:33: RuntimeWarning: Channels contain different highpass filters. Highest filter setting will be stored.\n",
            "  raw = mne.io.read_raw_edf(edf_path, preload=False, verbose=False)\n",
            "/tmp/ipython-input-8-1077296292.py:33: RuntimeWarning: Channels contain different lowpass filters. Lowest filter setting will be stored.\n",
            "  raw = mne.io.read_raw_edf(edf_path, preload=False, verbose=False)\n",
            "/tmp/ipython-input-8-1077296292.py:33: RuntimeWarning: Channel names are not unique, found duplicates for: {'Flow Patient'}. Applying running numbers for duplicates.\n",
            "  raw = mne.io.read_raw_edf(edf_path, preload=False, verbose=False)\n",
            "/tmp/ipython-input-8-1077296292.py:33: RuntimeWarning: Channels contain different highpass filters. Highest filter setting will be stored.\n",
            "  raw = mne.io.read_raw_edf(edf_path, preload=False, verbose=False)\n",
            "/tmp/ipython-input-8-1077296292.py:33: RuntimeWarning: Channels contain different lowpass filters. Lowest filter setting will be stored.\n",
            "  raw = mne.io.read_raw_edf(edf_path, preload=False, verbose=False)\n",
            "/tmp/ipython-input-8-1077296292.py:55: RuntimeWarning: Channel names are not unique, found duplicates for: {'Flow Patient'}. Applying running numbers for duplicates.\n",
            "  raw = mne.io.read_raw_edf(edf_path, preload=False, verbose=False)\n",
            "/tmp/ipython-input-8-1077296292.py:55: RuntimeWarning: Channels contain different highpass filters. Highest filter setting will be stored.\n",
            "  raw = mne.io.read_raw_edf(edf_path, preload=False, verbose=False)\n",
            "/tmp/ipython-input-8-1077296292.py:55: RuntimeWarning: Channels contain different lowpass filters. Lowest filter setting will be stored.\n",
            "  raw = mne.io.read_raw_edf(edf_path, preload=False, verbose=False)\n"
          ]
        },
        {
          "output_type": "stream",
          "name": "stdout",
          "text": [
            "Processing in chunks: patient_3_part_2.edf\n"
          ]
        },
        {
          "output_type": "stream",
          "name": "stderr",
          "text": [
            "/tmp/ipython-input-8-1077296292.py:55: RuntimeWarning: Channel names are not unique, found duplicates for: {'Flow Patient'}. Applying running numbers for duplicates.\n",
            "  raw = mne.io.read_raw_edf(edf_path, preload=False, verbose=False)\n",
            "/tmp/ipython-input-8-1077296292.py:55: RuntimeWarning: Channels contain different highpass filters. Highest filter setting will be stored.\n",
            "  raw = mne.io.read_raw_edf(edf_path, preload=False, verbose=False)\n",
            "/tmp/ipython-input-8-1077296292.py:55: RuntimeWarning: Channels contain different lowpass filters. Lowest filter setting will be stored.\n",
            "  raw = mne.io.read_raw_edf(edf_path, preload=False, verbose=False)\n"
          ]
        },
        {
          "output_type": "stream",
          "name": "stdout",
          "text": [
            "Processing in chunks: patient_3_part_3.edf\n"
          ]
        },
        {
          "output_type": "stream",
          "name": "stderr",
          "text": [
            "/tmp/ipython-input-8-1077296292.py:55: RuntimeWarning: Channel names are not unique, found duplicates for: {'Flow Patient'}. Applying running numbers for duplicates.\n",
            "  raw = mne.io.read_raw_edf(edf_path, preload=False, verbose=False)\n",
            "/tmp/ipython-input-8-1077296292.py:55: RuntimeWarning: Channels contain different highpass filters. Highest filter setting will be stored.\n",
            "  raw = mne.io.read_raw_edf(edf_path, preload=False, verbose=False)\n",
            "/tmp/ipython-input-8-1077296292.py:55: RuntimeWarning: Channels contain different lowpass filters. Lowest filter setting will be stored.\n",
            "  raw = mne.io.read_raw_edf(edf_path, preload=False, verbose=False)\n"
          ]
        },
        {
          "output_type": "stream",
          "name": "stdout",
          "text": [
            "Processing in chunks: patient_3_part_4.edf\n"
          ]
        },
        {
          "output_type": "stream",
          "name": "stderr",
          "text": [
            "/tmp/ipython-input-8-1077296292.py:55: RuntimeWarning: Channel names are not unique, found duplicates for: {'Flow Patient'}. Applying running numbers for duplicates.\n",
            "  raw = mne.io.read_raw_edf(edf_path, preload=False, verbose=False)\n",
            "/tmp/ipython-input-8-1077296292.py:55: RuntimeWarning: Channels contain different highpass filters. Highest filter setting will be stored.\n",
            "  raw = mne.io.read_raw_edf(edf_path, preload=False, verbose=False)\n",
            "/tmp/ipython-input-8-1077296292.py:55: RuntimeWarning: Channels contain different lowpass filters. Lowest filter setting will be stored.\n",
            "  raw = mne.io.read_raw_edf(edf_path, preload=False, verbose=False)\n"
          ]
        },
        {
          "output_type": "stream",
          "name": "stdout",
          "text": [
            "Processing in chunks: patient_3_part_5.edf\n"
          ]
        },
        {
          "output_type": "stream",
          "name": "stderr",
          "text": [
            "/tmp/ipython-input-8-1077296292.py:55: RuntimeWarning: Channel names are not unique, found duplicates for: {'Flow Patient'}. Applying running numbers for duplicates.\n",
            "  raw = mne.io.read_raw_edf(edf_path, preload=False, verbose=False)\n",
            "/tmp/ipython-input-8-1077296292.py:55: RuntimeWarning: Channels contain different highpass filters. Highest filter setting will be stored.\n",
            "  raw = mne.io.read_raw_edf(edf_path, preload=False, verbose=False)\n",
            "/tmp/ipython-input-8-1077296292.py:55: RuntimeWarning: Channels contain different lowpass filters. Lowest filter setting will be stored.\n",
            "  raw = mne.io.read_raw_edf(edf_path, preload=False, verbose=False)\n"
          ]
        },
        {
          "output_type": "stream",
          "name": "stdout",
          "text": [
            "✅ Successfully created downsampled WAV: patient_3_full_mic.wav\n",
            "\n",
            "--- Step 3: Extracting Features and Labels ---\n",
            "Extracted 130 apnea events from patient_3.rml\n",
            "✅ Appended 14900 frames from patient_3 to master CSV.\n",
            "\n",
            "==================== Processing patient_4 ====================\n",
            "\n",
            "--- Step 1: Downloading Files ---\n",
            "Downloading https://china.scidb.cn/download?fileId=644b5b677869a339f571e4a9&traceId=0ec4c131-82e0-4d7c-8183-b572a57f0957...\n",
            "Successfully downloaded to /content/apnea_data/patient_4/patient_4.rml\n",
            "Downloading https://china.scidb.cn/download?fileId=61a0ca3f89f14b48842cf1e0&traceId=0ec4c131-82e0-4d7c-8183-b572a57f0957...\n",
            "Successfully downloaded to /content/apnea_data/patient_4/patient_4_part_1.edf\n",
            "Downloading https://china.scidb.cn/download?fileId=61a0ca3f89f14b48842cf1df&traceId=0ec4c131-82e0-4d7c-8183-b572a57f0957...\n",
            "Successfully downloaded to /content/apnea_data/patient_4/patient_4_part_2.edf\n",
            "Downloading https://china.scidb.cn/download?fileId=61a0ca3f89f14b48842cf1de&traceId=0ec4c131-82e0-4d7c-8183-b572a57f0957...\n",
            "Successfully downloaded to /content/apnea_data/patient_4/patient_4_part_3.edf\n",
            "Downloading https://china.scidb.cn/download?fileId=61a0ca3f89f14b48842cf1dd&traceId=0ec4c131-82e0-4d7c-8183-b572a57f0957...\n",
            "Successfully downloaded to /content/apnea_data/patient_4/patient_4_part_4.edf\n",
            "\n",
            "--- Step 2: Concatenating Audio to 256 Hz (Memory-Safe)---\n",
            "Processing in chunks: patient_4_part_1.edf\n"
          ]
        },
        {
          "output_type": "stream",
          "name": "stderr",
          "text": [
            "/tmp/ipython-input-8-1077296292.py:33: RuntimeWarning: Channel names are not unique, found duplicates for: {'Flow Patient'}. Applying running numbers for duplicates.\n",
            "  raw = mne.io.read_raw_edf(edf_path, preload=False, verbose=False)\n",
            "/tmp/ipython-input-8-1077296292.py:33: RuntimeWarning: Channels contain different highpass filters. Highest filter setting will be stored.\n",
            "  raw = mne.io.read_raw_edf(edf_path, preload=False, verbose=False)\n",
            "/tmp/ipython-input-8-1077296292.py:33: RuntimeWarning: Channels contain different lowpass filters. Lowest filter setting will be stored.\n",
            "  raw = mne.io.read_raw_edf(edf_path, preload=False, verbose=False)\n",
            "/tmp/ipython-input-8-1077296292.py:33: RuntimeWarning: Channel names are not unique, found duplicates for: {'Flow Patient'}. Applying running numbers for duplicates.\n",
            "  raw = mne.io.read_raw_edf(edf_path, preload=False, verbose=False)\n",
            "/tmp/ipython-input-8-1077296292.py:33: RuntimeWarning: Channels contain different highpass filters. Highest filter setting will be stored.\n",
            "  raw = mne.io.read_raw_edf(edf_path, preload=False, verbose=False)\n",
            "/tmp/ipython-input-8-1077296292.py:33: RuntimeWarning: Channels contain different lowpass filters. Lowest filter setting will be stored.\n",
            "  raw = mne.io.read_raw_edf(edf_path, preload=False, verbose=False)\n",
            "/tmp/ipython-input-8-1077296292.py:33: RuntimeWarning: Channel names are not unique, found duplicates for: {'Flow Patient'}. Applying running numbers for duplicates.\n",
            "  raw = mne.io.read_raw_edf(edf_path, preload=False, verbose=False)\n",
            "/tmp/ipython-input-8-1077296292.py:33: RuntimeWarning: Channels contain different highpass filters. Highest filter setting will be stored.\n",
            "  raw = mne.io.read_raw_edf(edf_path, preload=False, verbose=False)\n",
            "/tmp/ipython-input-8-1077296292.py:33: RuntimeWarning: Channels contain different lowpass filters. Lowest filter setting will be stored.\n",
            "  raw = mne.io.read_raw_edf(edf_path, preload=False, verbose=False)\n",
            "/tmp/ipython-input-8-1077296292.py:33: RuntimeWarning: Channel names are not unique, found duplicates for: {'Flow Patient'}. Applying running numbers for duplicates.\n",
            "  raw = mne.io.read_raw_edf(edf_path, preload=False, verbose=False)\n",
            "/tmp/ipython-input-8-1077296292.py:33: RuntimeWarning: Channels contain different highpass filters. Highest filter setting will be stored.\n",
            "  raw = mne.io.read_raw_edf(edf_path, preload=False, verbose=False)\n",
            "/tmp/ipython-input-8-1077296292.py:33: RuntimeWarning: Channels contain different lowpass filters. Lowest filter setting will be stored.\n",
            "  raw = mne.io.read_raw_edf(edf_path, preload=False, verbose=False)\n",
            "/tmp/ipython-input-8-1077296292.py:55: RuntimeWarning: Channel names are not unique, found duplicates for: {'Flow Patient'}. Applying running numbers for duplicates.\n",
            "  raw = mne.io.read_raw_edf(edf_path, preload=False, verbose=False)\n",
            "/tmp/ipython-input-8-1077296292.py:55: RuntimeWarning: Channels contain different highpass filters. Highest filter setting will be stored.\n",
            "  raw = mne.io.read_raw_edf(edf_path, preload=False, verbose=False)\n",
            "/tmp/ipython-input-8-1077296292.py:55: RuntimeWarning: Channels contain different lowpass filters. Lowest filter setting will be stored.\n",
            "  raw = mne.io.read_raw_edf(edf_path, preload=False, verbose=False)\n"
          ]
        },
        {
          "output_type": "stream",
          "name": "stdout",
          "text": [
            "Processing in chunks: patient_4_part_2.edf\n"
          ]
        },
        {
          "output_type": "stream",
          "name": "stderr",
          "text": [
            "/tmp/ipython-input-8-1077296292.py:55: RuntimeWarning: Channel names are not unique, found duplicates for: {'Flow Patient'}. Applying running numbers for duplicates.\n",
            "  raw = mne.io.read_raw_edf(edf_path, preload=False, verbose=False)\n",
            "/tmp/ipython-input-8-1077296292.py:55: RuntimeWarning: Channels contain different highpass filters. Highest filter setting will be stored.\n",
            "  raw = mne.io.read_raw_edf(edf_path, preload=False, verbose=False)\n",
            "/tmp/ipython-input-8-1077296292.py:55: RuntimeWarning: Channels contain different lowpass filters. Lowest filter setting will be stored.\n",
            "  raw = mne.io.read_raw_edf(edf_path, preload=False, verbose=False)\n"
          ]
        },
        {
          "output_type": "stream",
          "name": "stdout",
          "text": [
            "Processing in chunks: patient_4_part_3.edf\n"
          ]
        },
        {
          "output_type": "stream",
          "name": "stderr",
          "text": [
            "/tmp/ipython-input-8-1077296292.py:55: RuntimeWarning: Channel names are not unique, found duplicates for: {'Flow Patient'}. Applying running numbers for duplicates.\n",
            "  raw = mne.io.read_raw_edf(edf_path, preload=False, verbose=False)\n",
            "/tmp/ipython-input-8-1077296292.py:55: RuntimeWarning: Channels contain different highpass filters. Highest filter setting will be stored.\n",
            "  raw = mne.io.read_raw_edf(edf_path, preload=False, verbose=False)\n",
            "/tmp/ipython-input-8-1077296292.py:55: RuntimeWarning: Channels contain different lowpass filters. Lowest filter setting will be stored.\n",
            "  raw = mne.io.read_raw_edf(edf_path, preload=False, verbose=False)\n"
          ]
        },
        {
          "output_type": "stream",
          "name": "stdout",
          "text": [
            "Processing in chunks: patient_4_part_4.edf\n"
          ]
        },
        {
          "output_type": "stream",
          "name": "stderr",
          "text": [
            "/tmp/ipython-input-8-1077296292.py:55: RuntimeWarning: Channel names are not unique, found duplicates for: {'Flow Patient'}. Applying running numbers for duplicates.\n",
            "  raw = mne.io.read_raw_edf(edf_path, preload=False, verbose=False)\n",
            "/tmp/ipython-input-8-1077296292.py:55: RuntimeWarning: Channels contain different highpass filters. Highest filter setting will be stored.\n",
            "  raw = mne.io.read_raw_edf(edf_path, preload=False, verbose=False)\n",
            "/tmp/ipython-input-8-1077296292.py:55: RuntimeWarning: Channels contain different lowpass filters. Lowest filter setting will be stored.\n",
            "  raw = mne.io.read_raw_edf(edf_path, preload=False, verbose=False)\n"
          ]
        },
        {
          "output_type": "stream",
          "name": "stdout",
          "text": [
            "✅ Successfully created downsampled WAV: patient_4_full_mic.wav\n",
            "\n",
            "--- Step 3: Extracting Features and Labels ---\n",
            "Extracted 123 apnea events from patient_4.rml\n",
            "✅ Appended 14315 frames from patient_4 to master CSV.\n",
            "\n",
            "==================== Processing patient_5 ====================\n",
            "\n",
            "--- Step 1: Downloading Files ---\n",
            "Downloading https://china.scidb.cn/download?fileId=6437f9c39870236416bbf9be&traceId=0ec4c131-82e0-4d7c-8183-b572a57f0957...\n",
            "Successfully downloaded to /content/apnea_data/patient_5/patient_5.rml\n",
            "Downloading https://china.scidb.cn/download?fileId=61a0ca3f89f14b48842cf1dc&traceId=0ec4c131-82e0-4d7c-8183-b572a57f0957...\n",
            "Successfully downloaded to /content/apnea_data/patient_5/patient_5_part_1.edf\n",
            "Downloading https://china.scidb.cn/download?fileId=61a0ca3f89f14b48842cf1db&traceId=0ec4c131-82e0-4d7c-8183-b572a57f0957...\n",
            "Successfully downloaded to /content/apnea_data/patient_5/patient_5_part_2.edf\n",
            "Downloading https://china.scidb.cn/download?fileId=61a0ca3f89f14b48842cf1da&traceId=0ec4c131-82e0-4d7c-8183-b572a57f0957...\n",
            "Successfully downloaded to /content/apnea_data/patient_5/patient_5_part_3.edf\n",
            "Downloading https://china.scidb.cn/download?fileId=61a0ca3f89f14b48842cf1d9&traceId=0ec4c131-82e0-4d7c-8183-b572a57f0957...\n",
            "Successfully downloaded to /content/apnea_data/patient_5/patient_5_part_4.edf\n",
            "Downloading https://china.scidb.cn/download?fileId=61a0ca3f89f14b48842cf1d8&traceId=0ec4c131-82e0-4d7c-8183-b572a57f0957...\n",
            "Successfully downloaded to /content/apnea_data/patient_5/patient_5_part_5.edf\n",
            "\n",
            "--- Step 2: Concatenating Audio to 256 Hz (Memory-Safe)---\n",
            "Processing in chunks: patient_5_part_1.edf\n"
          ]
        },
        {
          "output_type": "stream",
          "name": "stderr",
          "text": [
            "/tmp/ipython-input-8-1077296292.py:33: RuntimeWarning: Channel names are not unique, found duplicates for: {'Flow Patient'}. Applying running numbers for duplicates.\n",
            "  raw = mne.io.read_raw_edf(edf_path, preload=False, verbose=False)\n",
            "/tmp/ipython-input-8-1077296292.py:33: RuntimeWarning: Channels contain different highpass filters. Highest filter setting will be stored.\n",
            "  raw = mne.io.read_raw_edf(edf_path, preload=False, verbose=False)\n",
            "/tmp/ipython-input-8-1077296292.py:33: RuntimeWarning: Channels contain different lowpass filters. Lowest filter setting will be stored.\n",
            "  raw = mne.io.read_raw_edf(edf_path, preload=False, verbose=False)\n",
            "/tmp/ipython-input-8-1077296292.py:33: RuntimeWarning: Channel names are not unique, found duplicates for: {'Flow Patient'}. Applying running numbers for duplicates.\n",
            "  raw = mne.io.read_raw_edf(edf_path, preload=False, verbose=False)\n",
            "/tmp/ipython-input-8-1077296292.py:33: RuntimeWarning: Channels contain different highpass filters. Highest filter setting will be stored.\n",
            "  raw = mne.io.read_raw_edf(edf_path, preload=False, verbose=False)\n",
            "/tmp/ipython-input-8-1077296292.py:33: RuntimeWarning: Channels contain different lowpass filters. Lowest filter setting will be stored.\n",
            "  raw = mne.io.read_raw_edf(edf_path, preload=False, verbose=False)\n",
            "/tmp/ipython-input-8-1077296292.py:33: RuntimeWarning: Channel names are not unique, found duplicates for: {'Flow Patient'}. Applying running numbers for duplicates.\n",
            "  raw = mne.io.read_raw_edf(edf_path, preload=False, verbose=False)\n",
            "/tmp/ipython-input-8-1077296292.py:33: RuntimeWarning: Channels contain different highpass filters. Highest filter setting will be stored.\n",
            "  raw = mne.io.read_raw_edf(edf_path, preload=False, verbose=False)\n",
            "/tmp/ipython-input-8-1077296292.py:33: RuntimeWarning: Channels contain different lowpass filters. Lowest filter setting will be stored.\n",
            "  raw = mne.io.read_raw_edf(edf_path, preload=False, verbose=False)\n",
            "/tmp/ipython-input-8-1077296292.py:33: RuntimeWarning: Channel names are not unique, found duplicates for: {'Flow Patient'}. Applying running numbers for duplicates.\n",
            "  raw = mne.io.read_raw_edf(edf_path, preload=False, verbose=False)\n",
            "/tmp/ipython-input-8-1077296292.py:33: RuntimeWarning: Channels contain different highpass filters. Highest filter setting will be stored.\n",
            "  raw = mne.io.read_raw_edf(edf_path, preload=False, verbose=False)\n",
            "/tmp/ipython-input-8-1077296292.py:33: RuntimeWarning: Channels contain different lowpass filters. Lowest filter setting will be stored.\n",
            "  raw = mne.io.read_raw_edf(edf_path, preload=False, verbose=False)\n",
            "/tmp/ipython-input-8-1077296292.py:33: RuntimeWarning: Channel names are not unique, found duplicates for: {'Flow Patient'}. Applying running numbers for duplicates.\n",
            "  raw = mne.io.read_raw_edf(edf_path, preload=False, verbose=False)\n",
            "/tmp/ipython-input-8-1077296292.py:33: RuntimeWarning: Channels contain different highpass filters. Highest filter setting will be stored.\n",
            "  raw = mne.io.read_raw_edf(edf_path, preload=False, verbose=False)\n",
            "/tmp/ipython-input-8-1077296292.py:33: RuntimeWarning: Channels contain different lowpass filters. Lowest filter setting will be stored.\n",
            "  raw = mne.io.read_raw_edf(edf_path, preload=False, verbose=False)\n",
            "/tmp/ipython-input-8-1077296292.py:55: RuntimeWarning: Channel names are not unique, found duplicates for: {'Flow Patient'}. Applying running numbers for duplicates.\n",
            "  raw = mne.io.read_raw_edf(edf_path, preload=False, verbose=False)\n",
            "/tmp/ipython-input-8-1077296292.py:55: RuntimeWarning: Channels contain different highpass filters. Highest filter setting will be stored.\n",
            "  raw = mne.io.read_raw_edf(edf_path, preload=False, verbose=False)\n",
            "/tmp/ipython-input-8-1077296292.py:55: RuntimeWarning: Channels contain different lowpass filters. Lowest filter setting will be stored.\n",
            "  raw = mne.io.read_raw_edf(edf_path, preload=False, verbose=False)\n"
          ]
        },
        {
          "output_type": "stream",
          "name": "stdout",
          "text": [
            "Processing in chunks: patient_5_part_2.edf\n"
          ]
        },
        {
          "output_type": "stream",
          "name": "stderr",
          "text": [
            "/tmp/ipython-input-8-1077296292.py:55: RuntimeWarning: Channel names are not unique, found duplicates for: {'Flow Patient'}. Applying running numbers for duplicates.\n",
            "  raw = mne.io.read_raw_edf(edf_path, preload=False, verbose=False)\n",
            "/tmp/ipython-input-8-1077296292.py:55: RuntimeWarning: Channels contain different highpass filters. Highest filter setting will be stored.\n",
            "  raw = mne.io.read_raw_edf(edf_path, preload=False, verbose=False)\n",
            "/tmp/ipython-input-8-1077296292.py:55: RuntimeWarning: Channels contain different lowpass filters. Lowest filter setting will be stored.\n",
            "  raw = mne.io.read_raw_edf(edf_path, preload=False, verbose=False)\n"
          ]
        },
        {
          "output_type": "stream",
          "name": "stdout",
          "text": [
            "Processing in chunks: patient_5_part_3.edf\n"
          ]
        },
        {
          "output_type": "stream",
          "name": "stderr",
          "text": [
            "/tmp/ipython-input-8-1077296292.py:55: RuntimeWarning: Channel names are not unique, found duplicates for: {'Flow Patient'}. Applying running numbers for duplicates.\n",
            "  raw = mne.io.read_raw_edf(edf_path, preload=False, verbose=False)\n",
            "/tmp/ipython-input-8-1077296292.py:55: RuntimeWarning: Channels contain different highpass filters. Highest filter setting will be stored.\n",
            "  raw = mne.io.read_raw_edf(edf_path, preload=False, verbose=False)\n",
            "/tmp/ipython-input-8-1077296292.py:55: RuntimeWarning: Channels contain different lowpass filters. Lowest filter setting will be stored.\n",
            "  raw = mne.io.read_raw_edf(edf_path, preload=False, verbose=False)\n"
          ]
        },
        {
          "output_type": "stream",
          "name": "stdout",
          "text": [
            "Processing in chunks: patient_5_part_4.edf\n"
          ]
        },
        {
          "output_type": "stream",
          "name": "stderr",
          "text": [
            "/tmp/ipython-input-8-1077296292.py:55: RuntimeWarning: Channel names are not unique, found duplicates for: {'Flow Patient'}. Applying running numbers for duplicates.\n",
            "  raw = mne.io.read_raw_edf(edf_path, preload=False, verbose=False)\n",
            "/tmp/ipython-input-8-1077296292.py:55: RuntimeWarning: Channels contain different highpass filters. Highest filter setting will be stored.\n",
            "  raw = mne.io.read_raw_edf(edf_path, preload=False, verbose=False)\n",
            "/tmp/ipython-input-8-1077296292.py:55: RuntimeWarning: Channels contain different lowpass filters. Lowest filter setting will be stored.\n",
            "  raw = mne.io.read_raw_edf(edf_path, preload=False, verbose=False)\n"
          ]
        },
        {
          "output_type": "stream",
          "name": "stdout",
          "text": [
            "Processing in chunks: patient_5_part_5.edf\n"
          ]
        },
        {
          "output_type": "stream",
          "name": "stderr",
          "text": [
            "/tmp/ipython-input-8-1077296292.py:55: RuntimeWarning: Channel names are not unique, found duplicates for: {'Flow Patient'}. Applying running numbers for duplicates.\n",
            "  raw = mne.io.read_raw_edf(edf_path, preload=False, verbose=False)\n",
            "/tmp/ipython-input-8-1077296292.py:55: RuntimeWarning: Channels contain different highpass filters. Highest filter setting will be stored.\n",
            "  raw = mne.io.read_raw_edf(edf_path, preload=False, verbose=False)\n",
            "/tmp/ipython-input-8-1077296292.py:55: RuntimeWarning: Channels contain different lowpass filters. Lowest filter setting will be stored.\n",
            "  raw = mne.io.read_raw_edf(edf_path, preload=False, verbose=False)\n"
          ]
        },
        {
          "output_type": "stream",
          "name": "stdout",
          "text": [
            "✅ Successfully created downsampled WAV: patient_5_full_mic.wav\n",
            "\n",
            "--- Step 3: Extracting Features and Labels ---\n",
            "Extracted 99 apnea events from patient_5.rml\n",
            "✅ Appended 15137 frames from patient_5 to master CSV.\n",
            "\n",
            "==================== Processing patient_6 ====================\n",
            "\n",
            "--- Step 1: Downloading Files ---\n",
            "Downloading https://china.scidb.cn/download?fileId=6437f9c27869a339f571d95d&traceId=0ec4c131-82e0-4d7c-8183-b572a57f0957...\n",
            "Successfully downloaded to /content/apnea_data/patient_6/patient_6.rml\n",
            "Downloading https://china.scidb.cn/download?fileId=61a0ca3f89f14b48842cf1d7&traceId=0ec4c131-82e0-4d7c-8183-b572a57f0957...\n",
            "Successfully downloaded to /content/apnea_data/patient_6/patient_6_part_1.edf\n",
            "Downloading https://china.scidb.cn/download?fileId=61a0ca3f89f14b48842cf1d6&traceId=0ec4c131-82e0-4d7c-8183-b572a57f0957...\n",
            "Successfully downloaded to /content/apnea_data/patient_6/patient_6_part_2.edf\n",
            "Downloading https://china.scidb.cn/download?fileId=61a0ca3f89f14b48842cf1d5&traceId=0ec4c131-82e0-4d7c-8183-b572a57f0957...\n",
            "Successfully downloaded to /content/apnea_data/patient_6/patient_6_part_3.edf\n",
            "Downloading https://china.scidb.cn/download?fileId=61a0ca3f89f14b48842cf1d4&traceId=0ec4c131-82e0-4d7c-8183-b572a57f0957...\n",
            "Successfully downloaded to /content/apnea_data/patient_6/patient_6_part_4.edf\n",
            "\n",
            "--- Step 2: Concatenating Audio to 256 Hz (Memory-Safe)---\n",
            "Processing in chunks: patient_6_part_1.edf\n"
          ]
        },
        {
          "output_type": "stream",
          "name": "stderr",
          "text": [
            "/tmp/ipython-input-8-1077296292.py:33: RuntimeWarning: Channel names are not unique, found duplicates for: {'Flow Patient'}. Applying running numbers for duplicates.\n",
            "  raw = mne.io.read_raw_edf(edf_path, preload=False, verbose=False)\n",
            "/tmp/ipython-input-8-1077296292.py:33: RuntimeWarning: Channels contain different highpass filters. Highest filter setting will be stored.\n",
            "  raw = mne.io.read_raw_edf(edf_path, preload=False, verbose=False)\n",
            "/tmp/ipython-input-8-1077296292.py:33: RuntimeWarning: Channels contain different lowpass filters. Lowest filter setting will be stored.\n",
            "  raw = mne.io.read_raw_edf(edf_path, preload=False, verbose=False)\n",
            "/tmp/ipython-input-8-1077296292.py:33: RuntimeWarning: Channel names are not unique, found duplicates for: {'Flow Patient'}. Applying running numbers for duplicates.\n",
            "  raw = mne.io.read_raw_edf(edf_path, preload=False, verbose=False)\n",
            "/tmp/ipython-input-8-1077296292.py:33: RuntimeWarning: Channels contain different highpass filters. Highest filter setting will be stored.\n",
            "  raw = mne.io.read_raw_edf(edf_path, preload=False, verbose=False)\n",
            "/tmp/ipython-input-8-1077296292.py:33: RuntimeWarning: Channels contain different lowpass filters. Lowest filter setting will be stored.\n",
            "  raw = mne.io.read_raw_edf(edf_path, preload=False, verbose=False)\n",
            "/tmp/ipython-input-8-1077296292.py:33: RuntimeWarning: Channel names are not unique, found duplicates for: {'Flow Patient'}. Applying running numbers for duplicates.\n",
            "  raw = mne.io.read_raw_edf(edf_path, preload=False, verbose=False)\n",
            "/tmp/ipython-input-8-1077296292.py:33: RuntimeWarning: Channels contain different highpass filters. Highest filter setting will be stored.\n",
            "  raw = mne.io.read_raw_edf(edf_path, preload=False, verbose=False)\n",
            "/tmp/ipython-input-8-1077296292.py:33: RuntimeWarning: Channels contain different lowpass filters. Lowest filter setting will be stored.\n",
            "  raw = mne.io.read_raw_edf(edf_path, preload=False, verbose=False)\n",
            "/tmp/ipython-input-8-1077296292.py:33: RuntimeWarning: Channel names are not unique, found duplicates for: {'Flow Patient'}. Applying running numbers for duplicates.\n",
            "  raw = mne.io.read_raw_edf(edf_path, preload=False, verbose=False)\n",
            "/tmp/ipython-input-8-1077296292.py:33: RuntimeWarning: Channels contain different highpass filters. Highest filter setting will be stored.\n",
            "  raw = mne.io.read_raw_edf(edf_path, preload=False, verbose=False)\n",
            "/tmp/ipython-input-8-1077296292.py:33: RuntimeWarning: Channels contain different lowpass filters. Lowest filter setting will be stored.\n",
            "  raw = mne.io.read_raw_edf(edf_path, preload=False, verbose=False)\n",
            "/tmp/ipython-input-8-1077296292.py:55: RuntimeWarning: Channel names are not unique, found duplicates for: {'Flow Patient'}. Applying running numbers for duplicates.\n",
            "  raw = mne.io.read_raw_edf(edf_path, preload=False, verbose=False)\n",
            "/tmp/ipython-input-8-1077296292.py:55: RuntimeWarning: Channels contain different highpass filters. Highest filter setting will be stored.\n",
            "  raw = mne.io.read_raw_edf(edf_path, preload=False, verbose=False)\n",
            "/tmp/ipython-input-8-1077296292.py:55: RuntimeWarning: Channels contain different lowpass filters. Lowest filter setting will be stored.\n",
            "  raw = mne.io.read_raw_edf(edf_path, preload=False, verbose=False)\n"
          ]
        },
        {
          "output_type": "stream",
          "name": "stdout",
          "text": [
            "Processing in chunks: patient_6_part_2.edf\n"
          ]
        },
        {
          "output_type": "stream",
          "name": "stderr",
          "text": [
            "/tmp/ipython-input-8-1077296292.py:55: RuntimeWarning: Channel names are not unique, found duplicates for: {'Flow Patient'}. Applying running numbers for duplicates.\n",
            "  raw = mne.io.read_raw_edf(edf_path, preload=False, verbose=False)\n",
            "/tmp/ipython-input-8-1077296292.py:55: RuntimeWarning: Channels contain different highpass filters. Highest filter setting will be stored.\n",
            "  raw = mne.io.read_raw_edf(edf_path, preload=False, verbose=False)\n",
            "/tmp/ipython-input-8-1077296292.py:55: RuntimeWarning: Channels contain different lowpass filters. Lowest filter setting will be stored.\n",
            "  raw = mne.io.read_raw_edf(edf_path, preload=False, verbose=False)\n"
          ]
        },
        {
          "output_type": "stream",
          "name": "stdout",
          "text": [
            "Processing in chunks: patient_6_part_3.edf\n"
          ]
        },
        {
          "output_type": "stream",
          "name": "stderr",
          "text": [
            "/tmp/ipython-input-8-1077296292.py:55: RuntimeWarning: Channel names are not unique, found duplicates for: {'Flow Patient'}. Applying running numbers for duplicates.\n",
            "  raw = mne.io.read_raw_edf(edf_path, preload=False, verbose=False)\n",
            "/tmp/ipython-input-8-1077296292.py:55: RuntimeWarning: Channels contain different highpass filters. Highest filter setting will be stored.\n",
            "  raw = mne.io.read_raw_edf(edf_path, preload=False, verbose=False)\n",
            "/tmp/ipython-input-8-1077296292.py:55: RuntimeWarning: Channels contain different lowpass filters. Lowest filter setting will be stored.\n",
            "  raw = mne.io.read_raw_edf(edf_path, preload=False, verbose=False)\n"
          ]
        },
        {
          "output_type": "stream",
          "name": "stdout",
          "text": [
            "Processing in chunks: patient_6_part_4.edf\n"
          ]
        },
        {
          "output_type": "stream",
          "name": "stderr",
          "text": [
            "/tmp/ipython-input-8-1077296292.py:55: RuntimeWarning: Channel names are not unique, found duplicates for: {'Flow Patient'}. Applying running numbers for duplicates.\n",
            "  raw = mne.io.read_raw_edf(edf_path, preload=False, verbose=False)\n",
            "/tmp/ipython-input-8-1077296292.py:55: RuntimeWarning: Channels contain different highpass filters. Highest filter setting will be stored.\n",
            "  raw = mne.io.read_raw_edf(edf_path, preload=False, verbose=False)\n",
            "/tmp/ipython-input-8-1077296292.py:55: RuntimeWarning: Channels contain different lowpass filters. Lowest filter setting will be stored.\n",
            "  raw = mne.io.read_raw_edf(edf_path, preload=False, verbose=False)\n"
          ]
        },
        {
          "output_type": "stream",
          "name": "stdout",
          "text": [
            "✅ Successfully created downsampled WAV: patient_6_full_mic.wav\n",
            "\n",
            "--- Step 3: Extracting Features and Labels ---\n",
            "Extracted 254 apnea events from patient_6.rml\n",
            "✅ Appended 13242 frames from patient_6 to master CSV.\n",
            "\n",
            "==================== Processing patient_7 ====================\n",
            "\n",
            "--- Step 1: Downloading Files ---\n",
            "Downloading https://china.scidb.cn/download?fileId=6436722e9870236416bbf69f&traceId=0ec4c131-82e0-4d7c-8183-b572a57f0957...\n",
            "Successfully downloaded to /content/apnea_data/patient_7/patient_7.rml\n",
            "Downloading https://china.scidb.cn/download?fileId=61a0ca3f89f14b48842cf1ce&traceId=0ec4c131-82e0-4d7c-8183-b572a57f0957...\n",
            "Successfully downloaded to /content/apnea_data/patient_7/patient_7_part_1.edf\n",
            "Downloading https://china.scidb.cn/download?fileId=61a0ca3f89f14b48842cf1cd&traceId=0ec4c131-82e0-4d7c-8183-b572a57f0957...\n",
            "Successfully downloaded to /content/apnea_data/patient_7/patient_7_part_2.edf\n",
            "Downloading https://china.scidb.cn/download?fileId=61a0ca3f89f14b48842cf1cc&traceId=0ec4c131-82e0-4d7c-8183-b572a57f0957...\n",
            "Successfully downloaded to /content/apnea_data/patient_7/patient_7_part_3.edf\n",
            "Downloading https://china.scidb.cn/download?fileId=61a0ca3f89f14b48842cf1cb&traceId=0ec4c131-82e0-4d7c-8183-b572a57f0957...\n",
            "Successfully downloaded to /content/apnea_data/patient_7/patient_7_part_4.edf\n",
            "\n",
            "--- Step 2: Concatenating Audio to 256 Hz (Memory-Safe)---\n",
            "Processing in chunks: patient_7_part_1.edf\n"
          ]
        },
        {
          "output_type": "stream",
          "name": "stderr",
          "text": [
            "/tmp/ipython-input-8-1077296292.py:33: RuntimeWarning: Channel names are not unique, found duplicates for: {'Flow Patient'}. Applying running numbers for duplicates.\n",
            "  raw = mne.io.read_raw_edf(edf_path, preload=False, verbose=False)\n",
            "/tmp/ipython-input-8-1077296292.py:33: RuntimeWarning: Channels contain different highpass filters. Highest filter setting will be stored.\n",
            "  raw = mne.io.read_raw_edf(edf_path, preload=False, verbose=False)\n",
            "/tmp/ipython-input-8-1077296292.py:33: RuntimeWarning: Channels contain different lowpass filters. Lowest filter setting will be stored.\n",
            "  raw = mne.io.read_raw_edf(edf_path, preload=False, verbose=False)\n",
            "/tmp/ipython-input-8-1077296292.py:33: RuntimeWarning: Channel names are not unique, found duplicates for: {'Flow Patient'}. Applying running numbers for duplicates.\n",
            "  raw = mne.io.read_raw_edf(edf_path, preload=False, verbose=False)\n",
            "/tmp/ipython-input-8-1077296292.py:33: RuntimeWarning: Channels contain different highpass filters. Highest filter setting will be stored.\n",
            "  raw = mne.io.read_raw_edf(edf_path, preload=False, verbose=False)\n",
            "/tmp/ipython-input-8-1077296292.py:33: RuntimeWarning: Channels contain different lowpass filters. Lowest filter setting will be stored.\n",
            "  raw = mne.io.read_raw_edf(edf_path, preload=False, verbose=False)\n",
            "/tmp/ipython-input-8-1077296292.py:33: RuntimeWarning: Channel names are not unique, found duplicates for: {'Flow Patient'}. Applying running numbers for duplicates.\n",
            "  raw = mne.io.read_raw_edf(edf_path, preload=False, verbose=False)\n",
            "/tmp/ipython-input-8-1077296292.py:33: RuntimeWarning: Channels contain different highpass filters. Highest filter setting will be stored.\n",
            "  raw = mne.io.read_raw_edf(edf_path, preload=False, verbose=False)\n",
            "/tmp/ipython-input-8-1077296292.py:33: RuntimeWarning: Channels contain different lowpass filters. Lowest filter setting will be stored.\n",
            "  raw = mne.io.read_raw_edf(edf_path, preload=False, verbose=False)\n",
            "/tmp/ipython-input-8-1077296292.py:33: RuntimeWarning: Channel names are not unique, found duplicates for: {'Flow Patient'}. Applying running numbers for duplicates.\n",
            "  raw = mne.io.read_raw_edf(edf_path, preload=False, verbose=False)\n",
            "/tmp/ipython-input-8-1077296292.py:33: RuntimeWarning: Channels contain different highpass filters. Highest filter setting will be stored.\n",
            "  raw = mne.io.read_raw_edf(edf_path, preload=False, verbose=False)\n",
            "/tmp/ipython-input-8-1077296292.py:33: RuntimeWarning: Channels contain different lowpass filters. Lowest filter setting will be stored.\n",
            "  raw = mne.io.read_raw_edf(edf_path, preload=False, verbose=False)\n",
            "/tmp/ipython-input-8-1077296292.py:55: RuntimeWarning: Channel names are not unique, found duplicates for: {'Flow Patient'}. Applying running numbers for duplicates.\n",
            "  raw = mne.io.read_raw_edf(edf_path, preload=False, verbose=False)\n",
            "/tmp/ipython-input-8-1077296292.py:55: RuntimeWarning: Channels contain different highpass filters. Highest filter setting will be stored.\n",
            "  raw = mne.io.read_raw_edf(edf_path, preload=False, verbose=False)\n",
            "/tmp/ipython-input-8-1077296292.py:55: RuntimeWarning: Channels contain different lowpass filters. Lowest filter setting will be stored.\n",
            "  raw = mne.io.read_raw_edf(edf_path, preload=False, verbose=False)\n"
          ]
        },
        {
          "output_type": "stream",
          "name": "stdout",
          "text": [
            "Processing in chunks: patient_7_part_2.edf\n"
          ]
        },
        {
          "output_type": "stream",
          "name": "stderr",
          "text": [
            "/tmp/ipython-input-8-1077296292.py:55: RuntimeWarning: Channel names are not unique, found duplicates for: {'Flow Patient'}. Applying running numbers for duplicates.\n",
            "  raw = mne.io.read_raw_edf(edf_path, preload=False, verbose=False)\n",
            "/tmp/ipython-input-8-1077296292.py:55: RuntimeWarning: Channels contain different highpass filters. Highest filter setting will be stored.\n",
            "  raw = mne.io.read_raw_edf(edf_path, preload=False, verbose=False)\n",
            "/tmp/ipython-input-8-1077296292.py:55: RuntimeWarning: Channels contain different lowpass filters. Lowest filter setting will be stored.\n",
            "  raw = mne.io.read_raw_edf(edf_path, preload=False, verbose=False)\n"
          ]
        },
        {
          "output_type": "stream",
          "name": "stdout",
          "text": [
            "Processing in chunks: patient_7_part_3.edf\n"
          ]
        },
        {
          "output_type": "stream",
          "name": "stderr",
          "text": [
            "/tmp/ipython-input-8-1077296292.py:55: RuntimeWarning: Channel names are not unique, found duplicates for: {'Flow Patient'}. Applying running numbers for duplicates.\n",
            "  raw = mne.io.read_raw_edf(edf_path, preload=False, verbose=False)\n",
            "/tmp/ipython-input-8-1077296292.py:55: RuntimeWarning: Channels contain different highpass filters. Highest filter setting will be stored.\n",
            "  raw = mne.io.read_raw_edf(edf_path, preload=False, verbose=False)\n",
            "/tmp/ipython-input-8-1077296292.py:55: RuntimeWarning: Channels contain different lowpass filters. Lowest filter setting will be stored.\n",
            "  raw = mne.io.read_raw_edf(edf_path, preload=False, verbose=False)\n"
          ]
        },
        {
          "output_type": "stream",
          "name": "stdout",
          "text": [
            "Processing in chunks: patient_7_part_4.edf\n"
          ]
        },
        {
          "output_type": "stream",
          "name": "stderr",
          "text": [
            "/tmp/ipython-input-8-1077296292.py:55: RuntimeWarning: Channel names are not unique, found duplicates for: {'Flow Patient'}. Applying running numbers for duplicates.\n",
            "  raw = mne.io.read_raw_edf(edf_path, preload=False, verbose=False)\n",
            "/tmp/ipython-input-8-1077296292.py:55: RuntimeWarning: Channels contain different highpass filters. Highest filter setting will be stored.\n",
            "  raw = mne.io.read_raw_edf(edf_path, preload=False, verbose=False)\n",
            "/tmp/ipython-input-8-1077296292.py:55: RuntimeWarning: Channels contain different lowpass filters. Lowest filter setting will be stored.\n",
            "  raw = mne.io.read_raw_edf(edf_path, preload=False, verbose=False)\n"
          ]
        },
        {
          "output_type": "stream",
          "name": "stdout",
          "text": [
            "✅ Successfully created downsampled WAV: patient_7_full_mic.wav\n",
            "\n",
            "--- Step 3: Extracting Features and Labels ---\n",
            "Extracted 180 apnea events from patient_7.rml\n",
            "✅ Appended 13068 frames from patient_7 to master CSV.\n",
            "\n",
            "==================== Processing patient_8 ====================\n",
            "\n",
            "--- Step 1: Downloading Files ---\n",
            "Downloading https://china.scidb.cn/download?fileId=6437f9c39870236416bbf9bf&traceId=0ec4c131-82e0-4d7c-8183-b572a57f0957...\n",
            "Successfully downloaded to /content/apnea_data/patient_8/patient_8.rml\n",
            "Downloading https://china.scidb.cn/download?fileId=61a0ca3f89f14b48842cf1ca&traceId=0ec4c131-82e0-4d7c-8183-b572a57f0957...\n",
            "Successfully downloaded to /content/apnea_data/patient_8/patient_8_part_1.edf\n",
            "Downloading https://china.scidb.cn/download?fileId=61a0ca3f89f14b48842cf1c9&traceId=0ec4c131-82e0-4d7c-8183-b572a57f0957...\n",
            "Successfully downloaded to /content/apnea_data/patient_8/patient_8_part_2.edf\n",
            "Downloading https://china.scidb.cn/download?fileId=61a0ca3f89f14b48842cf1c8&traceId=0ec4c131-82e0-4d7c-8183-b572a57f0957...\n",
            "Successfully downloaded to /content/apnea_data/patient_8/patient_8_part_3.edf\n",
            "Downloading https://china.scidb.cn/download?fileId=61a0ca3f89f14b48842cf1c7&traceId=0ec4c131-82e0-4d7c-8183-b572a57f0957...\n",
            "Successfully downloaded to /content/apnea_data/patient_8/patient_8_part_4.edf\n",
            "Downloading https://china.scidb.cn/download?fileId=61a0ca3f89f14b48842cf1c6&traceId=0ec4c131-82e0-4d7c-8183-b572a57f0957...\n",
            "Successfully downloaded to /content/apnea_data/patient_8/patient_8_part_5.edf\n",
            "Downloading https://china.scidb.cn/download?fileId=61a0ca3f89f14b48842cf1c5&traceId=0ec4c131-82e0-4d7c-8183-b572a57f0957...\n",
            "Successfully downloaded to /content/apnea_data/patient_8/patient_8_part_6.edf\n",
            "Downloading https://china.scidb.cn/download?fileId=61a0ca3f89f14b48842cf1c4&traceId=0ec4c131-82e0-4d7c-8183-b572a57f0957...\n",
            "Successfully downloaded to /content/apnea_data/patient_8/patient_8_part_7.edf\n",
            "\n",
            "--- Step 2: Concatenating Audio to 256 Hz (Memory-Safe)---\n",
            "Processing in chunks: patient_8_part_1.edf\n"
          ]
        },
        {
          "output_type": "stream",
          "name": "stderr",
          "text": [
            "/tmp/ipython-input-8-1077296292.py:33: RuntimeWarning: Channel names are not unique, found duplicates for: {'Flow Patient'}. Applying running numbers for duplicates.\n",
            "  raw = mne.io.read_raw_edf(edf_path, preload=False, verbose=False)\n",
            "/tmp/ipython-input-8-1077296292.py:33: RuntimeWarning: Channels contain different highpass filters. Highest filter setting will be stored.\n",
            "  raw = mne.io.read_raw_edf(edf_path, preload=False, verbose=False)\n",
            "/tmp/ipython-input-8-1077296292.py:33: RuntimeWarning: Channels contain different lowpass filters. Lowest filter setting will be stored.\n",
            "  raw = mne.io.read_raw_edf(edf_path, preload=False, verbose=False)\n",
            "/tmp/ipython-input-8-1077296292.py:33: RuntimeWarning: Channel names are not unique, found duplicates for: {'Flow Patient'}. Applying running numbers for duplicates.\n",
            "  raw = mne.io.read_raw_edf(edf_path, preload=False, verbose=False)\n",
            "/tmp/ipython-input-8-1077296292.py:33: RuntimeWarning: Channels contain different highpass filters. Highest filter setting will be stored.\n",
            "  raw = mne.io.read_raw_edf(edf_path, preload=False, verbose=False)\n",
            "/tmp/ipython-input-8-1077296292.py:33: RuntimeWarning: Channels contain different lowpass filters. Lowest filter setting will be stored.\n",
            "  raw = mne.io.read_raw_edf(edf_path, preload=False, verbose=False)\n",
            "/tmp/ipython-input-8-1077296292.py:33: RuntimeWarning: Channel names are not unique, found duplicates for: {'Flow Patient'}. Applying running numbers for duplicates.\n",
            "  raw = mne.io.read_raw_edf(edf_path, preload=False, verbose=False)\n",
            "/tmp/ipython-input-8-1077296292.py:33: RuntimeWarning: Channels contain different highpass filters. Highest filter setting will be stored.\n",
            "  raw = mne.io.read_raw_edf(edf_path, preload=False, verbose=False)\n",
            "/tmp/ipython-input-8-1077296292.py:33: RuntimeWarning: Channels contain different lowpass filters. Lowest filter setting will be stored.\n",
            "  raw = mne.io.read_raw_edf(edf_path, preload=False, verbose=False)\n",
            "/tmp/ipython-input-8-1077296292.py:33: RuntimeWarning: Channel names are not unique, found duplicates for: {'Flow Patient'}. Applying running numbers for duplicates.\n",
            "  raw = mne.io.read_raw_edf(edf_path, preload=False, verbose=False)\n",
            "/tmp/ipython-input-8-1077296292.py:33: RuntimeWarning: Channels contain different highpass filters. Highest filter setting will be stored.\n",
            "  raw = mne.io.read_raw_edf(edf_path, preload=False, verbose=False)\n",
            "/tmp/ipython-input-8-1077296292.py:33: RuntimeWarning: Channels contain different lowpass filters. Lowest filter setting will be stored.\n",
            "  raw = mne.io.read_raw_edf(edf_path, preload=False, verbose=False)\n",
            "/tmp/ipython-input-8-1077296292.py:33: RuntimeWarning: Channel names are not unique, found duplicates for: {'Flow Patient'}. Applying running numbers for duplicates.\n",
            "  raw = mne.io.read_raw_edf(edf_path, preload=False, verbose=False)\n",
            "/tmp/ipython-input-8-1077296292.py:33: RuntimeWarning: Channels contain different highpass filters. Highest filter setting will be stored.\n",
            "  raw = mne.io.read_raw_edf(edf_path, preload=False, verbose=False)\n",
            "/tmp/ipython-input-8-1077296292.py:33: RuntimeWarning: Channels contain different lowpass filters. Lowest filter setting will be stored.\n",
            "  raw = mne.io.read_raw_edf(edf_path, preload=False, verbose=False)\n",
            "/tmp/ipython-input-8-1077296292.py:33: RuntimeWarning: Channel names are not unique, found duplicates for: {'Flow Patient'}. Applying running numbers for duplicates.\n",
            "  raw = mne.io.read_raw_edf(edf_path, preload=False, verbose=False)\n",
            "/tmp/ipython-input-8-1077296292.py:33: RuntimeWarning: Channels contain different highpass filters. Highest filter setting will be stored.\n",
            "  raw = mne.io.read_raw_edf(edf_path, preload=False, verbose=False)\n",
            "/tmp/ipython-input-8-1077296292.py:33: RuntimeWarning: Channels contain different lowpass filters. Lowest filter setting will be stored.\n",
            "  raw = mne.io.read_raw_edf(edf_path, preload=False, verbose=False)\n",
            "/tmp/ipython-input-8-1077296292.py:33: RuntimeWarning: Channel names are not unique, found duplicates for: {'Flow Patient'}. Applying running numbers for duplicates.\n",
            "  raw = mne.io.read_raw_edf(edf_path, preload=False, verbose=False)\n",
            "/tmp/ipython-input-8-1077296292.py:33: RuntimeWarning: Channels contain different highpass filters. Highest filter setting will be stored.\n",
            "  raw = mne.io.read_raw_edf(edf_path, preload=False, verbose=False)\n",
            "/tmp/ipython-input-8-1077296292.py:33: RuntimeWarning: Channels contain different lowpass filters. Lowest filter setting will be stored.\n",
            "  raw = mne.io.read_raw_edf(edf_path, preload=False, verbose=False)\n",
            "/tmp/ipython-input-8-1077296292.py:55: RuntimeWarning: Channel names are not unique, found duplicates for: {'Flow Patient'}. Applying running numbers for duplicates.\n",
            "  raw = mne.io.read_raw_edf(edf_path, preload=False, verbose=False)\n",
            "/tmp/ipython-input-8-1077296292.py:55: RuntimeWarning: Channels contain different highpass filters. Highest filter setting will be stored.\n",
            "  raw = mne.io.read_raw_edf(edf_path, preload=False, verbose=False)\n",
            "/tmp/ipython-input-8-1077296292.py:55: RuntimeWarning: Channels contain different lowpass filters. Lowest filter setting will be stored.\n",
            "  raw = mne.io.read_raw_edf(edf_path, preload=False, verbose=False)\n"
          ]
        },
        {
          "output_type": "stream",
          "name": "stdout",
          "text": [
            "Processing in chunks: patient_8_part_2.edf\n"
          ]
        },
        {
          "output_type": "stream",
          "name": "stderr",
          "text": [
            "/tmp/ipython-input-8-1077296292.py:55: RuntimeWarning: Channel names are not unique, found duplicates for: {'Flow Patient'}. Applying running numbers for duplicates.\n",
            "  raw = mne.io.read_raw_edf(edf_path, preload=False, verbose=False)\n",
            "/tmp/ipython-input-8-1077296292.py:55: RuntimeWarning: Channels contain different highpass filters. Highest filter setting will be stored.\n",
            "  raw = mne.io.read_raw_edf(edf_path, preload=False, verbose=False)\n",
            "/tmp/ipython-input-8-1077296292.py:55: RuntimeWarning: Channels contain different lowpass filters. Lowest filter setting will be stored.\n",
            "  raw = mne.io.read_raw_edf(edf_path, preload=False, verbose=False)\n"
          ]
        },
        {
          "output_type": "stream",
          "name": "stdout",
          "text": [
            "Processing in chunks: patient_8_part_3.edf\n"
          ]
        },
        {
          "output_type": "stream",
          "name": "stderr",
          "text": [
            "/tmp/ipython-input-8-1077296292.py:55: RuntimeWarning: Channel names are not unique, found duplicates for: {'Flow Patient'}. Applying running numbers for duplicates.\n",
            "  raw = mne.io.read_raw_edf(edf_path, preload=False, verbose=False)\n",
            "/tmp/ipython-input-8-1077296292.py:55: RuntimeWarning: Channels contain different highpass filters. Highest filter setting will be stored.\n",
            "  raw = mne.io.read_raw_edf(edf_path, preload=False, verbose=False)\n",
            "/tmp/ipython-input-8-1077296292.py:55: RuntimeWarning: Channels contain different lowpass filters. Lowest filter setting will be stored.\n",
            "  raw = mne.io.read_raw_edf(edf_path, preload=False, verbose=False)\n"
          ]
        },
        {
          "output_type": "stream",
          "name": "stdout",
          "text": [
            "Processing in chunks: patient_8_part_4.edf\n"
          ]
        },
        {
          "output_type": "stream",
          "name": "stderr",
          "text": [
            "/tmp/ipython-input-8-1077296292.py:55: RuntimeWarning: Channel names are not unique, found duplicates for: {'Flow Patient'}. Applying running numbers for duplicates.\n",
            "  raw = mne.io.read_raw_edf(edf_path, preload=False, verbose=False)\n",
            "/tmp/ipython-input-8-1077296292.py:55: RuntimeWarning: Channels contain different highpass filters. Highest filter setting will be stored.\n",
            "  raw = mne.io.read_raw_edf(edf_path, preload=False, verbose=False)\n",
            "/tmp/ipython-input-8-1077296292.py:55: RuntimeWarning: Channels contain different lowpass filters. Lowest filter setting will be stored.\n",
            "  raw = mne.io.read_raw_edf(edf_path, preload=False, verbose=False)\n"
          ]
        },
        {
          "output_type": "stream",
          "name": "stdout",
          "text": [
            "Processing in chunks: patient_8_part_5.edf\n"
          ]
        },
        {
          "output_type": "stream",
          "name": "stderr",
          "text": [
            "/tmp/ipython-input-8-1077296292.py:55: RuntimeWarning: Channel names are not unique, found duplicates for: {'Flow Patient'}. Applying running numbers for duplicates.\n",
            "  raw = mne.io.read_raw_edf(edf_path, preload=False, verbose=False)\n",
            "/tmp/ipython-input-8-1077296292.py:55: RuntimeWarning: Channels contain different highpass filters. Highest filter setting will be stored.\n",
            "  raw = mne.io.read_raw_edf(edf_path, preload=False, verbose=False)\n",
            "/tmp/ipython-input-8-1077296292.py:55: RuntimeWarning: Channels contain different lowpass filters. Lowest filter setting will be stored.\n",
            "  raw = mne.io.read_raw_edf(edf_path, preload=False, verbose=False)\n"
          ]
        },
        {
          "output_type": "stream",
          "name": "stdout",
          "text": [
            "Processing in chunks: patient_8_part_6.edf\n"
          ]
        },
        {
          "output_type": "stream",
          "name": "stderr",
          "text": [
            "/tmp/ipython-input-8-1077296292.py:55: RuntimeWarning: Channel names are not unique, found duplicates for: {'Flow Patient'}. Applying running numbers for duplicates.\n",
            "  raw = mne.io.read_raw_edf(edf_path, preload=False, verbose=False)\n",
            "/tmp/ipython-input-8-1077296292.py:55: RuntimeWarning: Channels contain different highpass filters. Highest filter setting will be stored.\n",
            "  raw = mne.io.read_raw_edf(edf_path, preload=False, verbose=False)\n",
            "/tmp/ipython-input-8-1077296292.py:55: RuntimeWarning: Channels contain different lowpass filters. Lowest filter setting will be stored.\n",
            "  raw = mne.io.read_raw_edf(edf_path, preload=False, verbose=False)\n"
          ]
        },
        {
          "output_type": "stream",
          "name": "stdout",
          "text": [
            "Processing in chunks: patient_8_part_7.edf\n"
          ]
        },
        {
          "output_type": "stream",
          "name": "stderr",
          "text": [
            "/tmp/ipython-input-8-1077296292.py:55: RuntimeWarning: Channel names are not unique, found duplicates for: {'Flow Patient'}. Applying running numbers for duplicates.\n",
            "  raw = mne.io.read_raw_edf(edf_path, preload=False, verbose=False)\n",
            "/tmp/ipython-input-8-1077296292.py:55: RuntimeWarning: Channels contain different highpass filters. Highest filter setting will be stored.\n",
            "  raw = mne.io.read_raw_edf(edf_path, preload=False, verbose=False)\n",
            "/tmp/ipython-input-8-1077296292.py:55: RuntimeWarning: Channels contain different lowpass filters. Lowest filter setting will be stored.\n",
            "  raw = mne.io.read_raw_edf(edf_path, preload=False, verbose=False)\n"
          ]
        },
        {
          "output_type": "stream",
          "name": "stdout",
          "text": [
            "✅ Successfully created downsampled WAV: patient_8_full_mic.wav\n",
            "\n",
            "--- Step 3: Extracting Features and Labels ---\n",
            "Extracted 40 apnea events from patient_8.rml\n",
            "✅ Appended 21844 frames from patient_8 to master CSV.\n",
            "\n",
            "==================== Processing patient_9 ====================\n",
            "\n",
            "--- Step 1: Downloading Files ---\n",
            "Downloading https://china.scidb.cn/download?fileId=6436722e7869a339f571d63f&traceId=0ec4c131-82e0-4d7c-8183-b572a57f0957...\n",
            "Successfully downloaded to /content/apnea_data/patient_9/patient_9.rml\n",
            "Downloading https://china.scidb.cn/download?fileId=61a0ca3f89f14b48842cf1c3&traceId=0ec4c131-82e0-4d7c-8183-b572a57f0957...\n",
            "Successfully downloaded to /content/apnea_data/patient_9/patient_9_part_1.edf\n",
            "Downloading https://china.scidb.cn/download?fileId=61a0ca3f89f14b48842cf1c2&traceId=0ec4c131-82e0-4d7c-8183-b572a57f0957...\n",
            "Successfully downloaded to /content/apnea_data/patient_9/patient_9_part_2.edf\n",
            "Downloading https://china.scidb.cn/download?fileId=61a0ca3f89f14b48842cf1c1&traceId=0ec4c131-82e0-4d7c-8183-b572a57f0957...\n",
            "Successfully downloaded to /content/apnea_data/patient_9/patient_9_part_3.edf\n",
            "Downloading https://china.scidb.cn/download?fileId=61a0ca3f89f14b48842cf1c0&traceId=0ec4c131-82e0-4d7c-8183-b572a57f0957...\n",
            "Successfully downloaded to /content/apnea_data/patient_9/patient_9_part_4.edf\n",
            "Downloading https://china.scidb.cn/download?fileId=61a0ca3f89f14b48842cf1bf&traceId=0ec4c131-82e0-4d7c-8183-b572a57f0957...\n",
            "Successfully downloaded to /content/apnea_data/patient_9/patient_9_part_5.edf\n",
            "\n",
            "--- Step 2: Concatenating Audio to 256 Hz (Memory-Safe)---\n",
            "Processing in chunks: patient_9_part_1.edf\n"
          ]
        },
        {
          "output_type": "stream",
          "name": "stderr",
          "text": [
            "/tmp/ipython-input-8-1077296292.py:33: RuntimeWarning: Channel names are not unique, found duplicates for: {'Flow Patient'}. Applying running numbers for duplicates.\n",
            "  raw = mne.io.read_raw_edf(edf_path, preload=False, verbose=False)\n",
            "/tmp/ipython-input-8-1077296292.py:33: RuntimeWarning: Channels contain different highpass filters. Highest filter setting will be stored.\n",
            "  raw = mne.io.read_raw_edf(edf_path, preload=False, verbose=False)\n",
            "/tmp/ipython-input-8-1077296292.py:33: RuntimeWarning: Channels contain different lowpass filters. Lowest filter setting will be stored.\n",
            "  raw = mne.io.read_raw_edf(edf_path, preload=False, verbose=False)\n",
            "/tmp/ipython-input-8-1077296292.py:33: RuntimeWarning: Channel names are not unique, found duplicates for: {'Flow Patient'}. Applying running numbers for duplicates.\n",
            "  raw = mne.io.read_raw_edf(edf_path, preload=False, verbose=False)\n",
            "/tmp/ipython-input-8-1077296292.py:33: RuntimeWarning: Channels contain different highpass filters. Highest filter setting will be stored.\n",
            "  raw = mne.io.read_raw_edf(edf_path, preload=False, verbose=False)\n",
            "/tmp/ipython-input-8-1077296292.py:33: RuntimeWarning: Channels contain different lowpass filters. Lowest filter setting will be stored.\n",
            "  raw = mne.io.read_raw_edf(edf_path, preload=False, verbose=False)\n",
            "/tmp/ipython-input-8-1077296292.py:33: RuntimeWarning: Channel names are not unique, found duplicates for: {'Flow Patient'}. Applying running numbers for duplicates.\n",
            "  raw = mne.io.read_raw_edf(edf_path, preload=False, verbose=False)\n",
            "/tmp/ipython-input-8-1077296292.py:33: RuntimeWarning: Channels contain different highpass filters. Highest filter setting will be stored.\n",
            "  raw = mne.io.read_raw_edf(edf_path, preload=False, verbose=False)\n",
            "/tmp/ipython-input-8-1077296292.py:33: RuntimeWarning: Channels contain different lowpass filters. Lowest filter setting will be stored.\n",
            "  raw = mne.io.read_raw_edf(edf_path, preload=False, verbose=False)\n",
            "/tmp/ipython-input-8-1077296292.py:33: RuntimeWarning: Channel names are not unique, found duplicates for: {'Flow Patient'}. Applying running numbers for duplicates.\n",
            "  raw = mne.io.read_raw_edf(edf_path, preload=False, verbose=False)\n",
            "/tmp/ipython-input-8-1077296292.py:33: RuntimeWarning: Channels contain different highpass filters. Highest filter setting will be stored.\n",
            "  raw = mne.io.read_raw_edf(edf_path, preload=False, verbose=False)\n",
            "/tmp/ipython-input-8-1077296292.py:33: RuntimeWarning: Channels contain different lowpass filters. Lowest filter setting will be stored.\n",
            "  raw = mne.io.read_raw_edf(edf_path, preload=False, verbose=False)\n",
            "/tmp/ipython-input-8-1077296292.py:33: RuntimeWarning: Channel names are not unique, found duplicates for: {'Flow Patient'}. Applying running numbers for duplicates.\n",
            "  raw = mne.io.read_raw_edf(edf_path, preload=False, verbose=False)\n",
            "/tmp/ipython-input-8-1077296292.py:33: RuntimeWarning: Channels contain different highpass filters. Highest filter setting will be stored.\n",
            "  raw = mne.io.read_raw_edf(edf_path, preload=False, verbose=False)\n",
            "/tmp/ipython-input-8-1077296292.py:33: RuntimeWarning: Channels contain different lowpass filters. Lowest filter setting will be stored.\n",
            "  raw = mne.io.read_raw_edf(edf_path, preload=False, verbose=False)\n",
            "/tmp/ipython-input-8-1077296292.py:55: RuntimeWarning: Channel names are not unique, found duplicates for: {'Flow Patient'}. Applying running numbers for duplicates.\n",
            "  raw = mne.io.read_raw_edf(edf_path, preload=False, verbose=False)\n",
            "/tmp/ipython-input-8-1077296292.py:55: RuntimeWarning: Channels contain different highpass filters. Highest filter setting will be stored.\n",
            "  raw = mne.io.read_raw_edf(edf_path, preload=False, verbose=False)\n",
            "/tmp/ipython-input-8-1077296292.py:55: RuntimeWarning: Channels contain different lowpass filters. Lowest filter setting will be stored.\n",
            "  raw = mne.io.read_raw_edf(edf_path, preload=False, verbose=False)\n"
          ]
        },
        {
          "output_type": "stream",
          "name": "stdout",
          "text": [
            "Processing in chunks: patient_9_part_2.edf\n"
          ]
        },
        {
          "output_type": "stream",
          "name": "stderr",
          "text": [
            "/tmp/ipython-input-8-1077296292.py:55: RuntimeWarning: Channel names are not unique, found duplicates for: {'Flow Patient'}. Applying running numbers for duplicates.\n",
            "  raw = mne.io.read_raw_edf(edf_path, preload=False, verbose=False)\n",
            "/tmp/ipython-input-8-1077296292.py:55: RuntimeWarning: Channels contain different highpass filters. Highest filter setting will be stored.\n",
            "  raw = mne.io.read_raw_edf(edf_path, preload=False, verbose=False)\n",
            "/tmp/ipython-input-8-1077296292.py:55: RuntimeWarning: Channels contain different lowpass filters. Lowest filter setting will be stored.\n",
            "  raw = mne.io.read_raw_edf(edf_path, preload=False, verbose=False)\n"
          ]
        },
        {
          "output_type": "stream",
          "name": "stdout",
          "text": [
            "Processing in chunks: patient_9_part_3.edf\n"
          ]
        },
        {
          "output_type": "stream",
          "name": "stderr",
          "text": [
            "/tmp/ipython-input-8-1077296292.py:55: RuntimeWarning: Channel names are not unique, found duplicates for: {'Flow Patient'}. Applying running numbers for duplicates.\n",
            "  raw = mne.io.read_raw_edf(edf_path, preload=False, verbose=False)\n",
            "/tmp/ipython-input-8-1077296292.py:55: RuntimeWarning: Channels contain different highpass filters. Highest filter setting will be stored.\n",
            "  raw = mne.io.read_raw_edf(edf_path, preload=False, verbose=False)\n",
            "/tmp/ipython-input-8-1077296292.py:55: RuntimeWarning: Channels contain different lowpass filters. Lowest filter setting will be stored.\n",
            "  raw = mne.io.read_raw_edf(edf_path, preload=False, verbose=False)\n"
          ]
        },
        {
          "output_type": "stream",
          "name": "stdout",
          "text": [
            "Processing in chunks: patient_9_part_4.edf\n"
          ]
        },
        {
          "output_type": "stream",
          "name": "stderr",
          "text": [
            "/tmp/ipython-input-8-1077296292.py:55: RuntimeWarning: Channel names are not unique, found duplicates for: {'Flow Patient'}. Applying running numbers for duplicates.\n",
            "  raw = mne.io.read_raw_edf(edf_path, preload=False, verbose=False)\n",
            "/tmp/ipython-input-8-1077296292.py:55: RuntimeWarning: Channels contain different highpass filters. Highest filter setting will be stored.\n",
            "  raw = mne.io.read_raw_edf(edf_path, preload=False, verbose=False)\n",
            "/tmp/ipython-input-8-1077296292.py:55: RuntimeWarning: Channels contain different lowpass filters. Lowest filter setting will be stored.\n",
            "  raw = mne.io.read_raw_edf(edf_path, preload=False, verbose=False)\n"
          ]
        },
        {
          "output_type": "stream",
          "name": "stdout",
          "text": [
            "Processing in chunks: patient_9_part_5.edf\n"
          ]
        },
        {
          "output_type": "stream",
          "name": "stderr",
          "text": [
            "/tmp/ipython-input-8-1077296292.py:55: RuntimeWarning: Channel names are not unique, found duplicates for: {'Flow Patient'}. Applying running numbers for duplicates.\n",
            "  raw = mne.io.read_raw_edf(edf_path, preload=False, verbose=False)\n",
            "/tmp/ipython-input-8-1077296292.py:55: RuntimeWarning: Channels contain different highpass filters. Highest filter setting will be stored.\n",
            "  raw = mne.io.read_raw_edf(edf_path, preload=False, verbose=False)\n",
            "/tmp/ipython-input-8-1077296292.py:55: RuntimeWarning: Channels contain different lowpass filters. Lowest filter setting will be stored.\n",
            "  raw = mne.io.read_raw_edf(edf_path, preload=False, verbose=False)\n"
          ]
        },
        {
          "output_type": "stream",
          "name": "stdout",
          "text": [
            "✅ Successfully created downsampled WAV: patient_9_full_mic.wav\n",
            "\n",
            "--- Step 3: Extracting Features and Labels ---\n",
            "Extracted 38 apnea events from patient_9.rml\n",
            "✅ Appended 15269 frames from patient_9 to master CSV.\n",
            "\n",
            "==================== Processing patient_10 ====================\n",
            "\n",
            "--- Step 1: Downloading Files ---\n",
            "Downloading https://china.scidb.cn/download?fileId=6436722f9870236416bbf6a2&traceId=0ec4c131-82e0-4d7c-8183-b572a57f0957...\n",
            "Successfully downloaded to /content/apnea_data/patient_10/patient_10.rml\n",
            "Downloading https://china.scidb.cn/download?fileId=61a0ca3f89f14b48842cf1be&traceId=0ec4c131-82e0-4d7c-8183-b572a57f0957...\n",
            "Successfully downloaded to /content/apnea_data/patient_10/patient_10_part_1.edf\n",
            "Downloading https://china.scidb.cn/download?fileId=61a0ca3f89f14b48842cf1bd&traceId=0ec4c131-82e0-4d7c-8183-b572a57f0957...\n",
            "Successfully downloaded to /content/apnea_data/patient_10/patient_10_part_2.edf\n",
            "Downloading https://china.scidb.cn/download?fileId=61a0ca3f89f14b48842cf1bc&traceId=0ec4c131-82e0-4d7c-8183-b572a57f0957...\n",
            "Successfully downloaded to /content/apnea_data/patient_10/patient_10_part_3.edf\n",
            "Downloading https://china.scidb.cn/download?fileId=61a0ca3f89f14b48842cf1bb&traceId=0ec4c131-82e0-4d7c-8183-b572a57f0957...\n",
            "Successfully downloaded to /content/apnea_data/patient_10/patient_10_part_4.edf\n",
            "Downloading https://china.scidb.cn/download?fileId=61a0ca3f89f14b48842cf1ba&traceId=0ec4c131-82e0-4d7c-8183-b572a57f0957...\n",
            "Successfully downloaded to /content/apnea_data/patient_10/patient_10_part_5.edf\n",
            "\n",
            "--- Step 2: Concatenating Audio to 256 Hz (Memory-Safe)---\n",
            "Processing in chunks: patient_10_part_1.edf\n"
          ]
        },
        {
          "output_type": "stream",
          "name": "stderr",
          "text": [
            "/tmp/ipython-input-8-1077296292.py:33: RuntimeWarning: Channel names are not unique, found duplicates for: {'Flow Patient'}. Applying running numbers for duplicates.\n",
            "  raw = mne.io.read_raw_edf(edf_path, preload=False, verbose=False)\n",
            "/tmp/ipython-input-8-1077296292.py:33: RuntimeWarning: Channels contain different highpass filters. Highest filter setting will be stored.\n",
            "  raw = mne.io.read_raw_edf(edf_path, preload=False, verbose=False)\n",
            "/tmp/ipython-input-8-1077296292.py:33: RuntimeWarning: Channels contain different lowpass filters. Lowest filter setting will be stored.\n",
            "  raw = mne.io.read_raw_edf(edf_path, preload=False, verbose=False)\n",
            "/tmp/ipython-input-8-1077296292.py:33: RuntimeWarning: Channel names are not unique, found duplicates for: {'Flow Patient'}. Applying running numbers for duplicates.\n",
            "  raw = mne.io.read_raw_edf(edf_path, preload=False, verbose=False)\n",
            "/tmp/ipython-input-8-1077296292.py:33: RuntimeWarning: Channels contain different highpass filters. Highest filter setting will be stored.\n",
            "  raw = mne.io.read_raw_edf(edf_path, preload=False, verbose=False)\n",
            "/tmp/ipython-input-8-1077296292.py:33: RuntimeWarning: Channels contain different lowpass filters. Lowest filter setting will be stored.\n",
            "  raw = mne.io.read_raw_edf(edf_path, preload=False, verbose=False)\n",
            "/tmp/ipython-input-8-1077296292.py:33: RuntimeWarning: Channel names are not unique, found duplicates for: {'Flow Patient'}. Applying running numbers for duplicates.\n",
            "  raw = mne.io.read_raw_edf(edf_path, preload=False, verbose=False)\n",
            "/tmp/ipython-input-8-1077296292.py:33: RuntimeWarning: Channels contain different highpass filters. Highest filter setting will be stored.\n",
            "  raw = mne.io.read_raw_edf(edf_path, preload=False, verbose=False)\n",
            "/tmp/ipython-input-8-1077296292.py:33: RuntimeWarning: Channels contain different lowpass filters. Lowest filter setting will be stored.\n",
            "  raw = mne.io.read_raw_edf(edf_path, preload=False, verbose=False)\n",
            "/tmp/ipython-input-8-1077296292.py:33: RuntimeWarning: Channel names are not unique, found duplicates for: {'Flow Patient'}. Applying running numbers for duplicates.\n",
            "  raw = mne.io.read_raw_edf(edf_path, preload=False, verbose=False)\n",
            "/tmp/ipython-input-8-1077296292.py:33: RuntimeWarning: Channels contain different highpass filters. Highest filter setting will be stored.\n",
            "  raw = mne.io.read_raw_edf(edf_path, preload=False, verbose=False)\n",
            "/tmp/ipython-input-8-1077296292.py:33: RuntimeWarning: Channels contain different lowpass filters. Lowest filter setting will be stored.\n",
            "  raw = mne.io.read_raw_edf(edf_path, preload=False, verbose=False)\n",
            "/tmp/ipython-input-8-1077296292.py:33: RuntimeWarning: Channel names are not unique, found duplicates for: {'Flow Patient'}. Applying running numbers for duplicates.\n",
            "  raw = mne.io.read_raw_edf(edf_path, preload=False, verbose=False)\n",
            "/tmp/ipython-input-8-1077296292.py:33: RuntimeWarning: Channels contain different highpass filters. Highest filter setting will be stored.\n",
            "  raw = mne.io.read_raw_edf(edf_path, preload=False, verbose=False)\n",
            "/tmp/ipython-input-8-1077296292.py:33: RuntimeWarning: Channels contain different lowpass filters. Lowest filter setting will be stored.\n",
            "  raw = mne.io.read_raw_edf(edf_path, preload=False, verbose=False)\n",
            "/tmp/ipython-input-8-1077296292.py:55: RuntimeWarning: Channel names are not unique, found duplicates for: {'Flow Patient'}. Applying running numbers for duplicates.\n",
            "  raw = mne.io.read_raw_edf(edf_path, preload=False, verbose=False)\n",
            "/tmp/ipython-input-8-1077296292.py:55: RuntimeWarning: Channels contain different highpass filters. Highest filter setting will be stored.\n",
            "  raw = mne.io.read_raw_edf(edf_path, preload=False, verbose=False)\n",
            "/tmp/ipython-input-8-1077296292.py:55: RuntimeWarning: Channels contain different lowpass filters. Lowest filter setting will be stored.\n",
            "  raw = mne.io.read_raw_edf(edf_path, preload=False, verbose=False)\n"
          ]
        },
        {
          "output_type": "stream",
          "name": "stdout",
          "text": [
            "Processing in chunks: patient_10_part_2.edf\n"
          ]
        },
        {
          "output_type": "stream",
          "name": "stderr",
          "text": [
            "/tmp/ipython-input-8-1077296292.py:55: RuntimeWarning: Channel names are not unique, found duplicates for: {'Flow Patient'}. Applying running numbers for duplicates.\n",
            "  raw = mne.io.read_raw_edf(edf_path, preload=False, verbose=False)\n",
            "/tmp/ipython-input-8-1077296292.py:55: RuntimeWarning: Channels contain different highpass filters. Highest filter setting will be stored.\n",
            "  raw = mne.io.read_raw_edf(edf_path, preload=False, verbose=False)\n",
            "/tmp/ipython-input-8-1077296292.py:55: RuntimeWarning: Channels contain different lowpass filters. Lowest filter setting will be stored.\n",
            "  raw = mne.io.read_raw_edf(edf_path, preload=False, verbose=False)\n"
          ]
        },
        {
          "output_type": "stream",
          "name": "stdout",
          "text": [
            "Processing in chunks: patient_10_part_3.edf\n"
          ]
        },
        {
          "output_type": "stream",
          "name": "stderr",
          "text": [
            "/tmp/ipython-input-8-1077296292.py:55: RuntimeWarning: Channel names are not unique, found duplicates for: {'Flow Patient'}. Applying running numbers for duplicates.\n",
            "  raw = mne.io.read_raw_edf(edf_path, preload=False, verbose=False)\n",
            "/tmp/ipython-input-8-1077296292.py:55: RuntimeWarning: Channels contain different highpass filters. Highest filter setting will be stored.\n",
            "  raw = mne.io.read_raw_edf(edf_path, preload=False, verbose=False)\n",
            "/tmp/ipython-input-8-1077296292.py:55: RuntimeWarning: Channels contain different lowpass filters. Lowest filter setting will be stored.\n",
            "  raw = mne.io.read_raw_edf(edf_path, preload=False, verbose=False)\n"
          ]
        },
        {
          "output_type": "stream",
          "name": "stdout",
          "text": [
            "Processing in chunks: patient_10_part_4.edf\n"
          ]
        },
        {
          "output_type": "stream",
          "name": "stderr",
          "text": [
            "/tmp/ipython-input-8-1077296292.py:55: RuntimeWarning: Channel names are not unique, found duplicates for: {'Flow Patient'}. Applying running numbers for duplicates.\n",
            "  raw = mne.io.read_raw_edf(edf_path, preload=False, verbose=False)\n",
            "/tmp/ipython-input-8-1077296292.py:55: RuntimeWarning: Channels contain different highpass filters. Highest filter setting will be stored.\n",
            "  raw = mne.io.read_raw_edf(edf_path, preload=False, verbose=False)\n",
            "/tmp/ipython-input-8-1077296292.py:55: RuntimeWarning: Channels contain different lowpass filters. Lowest filter setting will be stored.\n",
            "  raw = mne.io.read_raw_edf(edf_path, preload=False, verbose=False)\n"
          ]
        },
        {
          "output_type": "stream",
          "name": "stdout",
          "text": [
            "Processing in chunks: patient_10_part_5.edf\n"
          ]
        },
        {
          "output_type": "stream",
          "name": "stderr",
          "text": [
            "/tmp/ipython-input-8-1077296292.py:55: RuntimeWarning: Channel names are not unique, found duplicates for: {'Flow Patient'}. Applying running numbers for duplicates.\n",
            "  raw = mne.io.read_raw_edf(edf_path, preload=False, verbose=False)\n",
            "/tmp/ipython-input-8-1077296292.py:55: RuntimeWarning: Channels contain different highpass filters. Highest filter setting will be stored.\n",
            "  raw = mne.io.read_raw_edf(edf_path, preload=False, verbose=False)\n",
            "/tmp/ipython-input-8-1077296292.py:55: RuntimeWarning: Channels contain different lowpass filters. Lowest filter setting will be stored.\n",
            "  raw = mne.io.read_raw_edf(edf_path, preload=False, verbose=False)\n"
          ]
        },
        {
          "output_type": "stream",
          "name": "stdout",
          "text": [
            "✅ Successfully created downsampled WAV: patient_10_full_mic.wav\n",
            "\n",
            "--- Step 3: Extracting Features and Labels ---\n",
            "Extracted 268 apnea events from patient_10.rml\n",
            "✅ Appended 16517 frames from patient_10 to master CSV.\n",
            "\n",
            "==================== Processing patient_11 ====================\n",
            "\n",
            "--- Step 1: Downloading Files ---\n",
            "Downloading https://china.scidb.cn/download?fileId=6436722e7869a339f571d641&traceId=0ec4c131-82e0-4d7c-8183-b572a57f0957...\n",
            "Successfully downloaded to /content/apnea_data/patient_11/patient_11.rml\n",
            "Downloading https://china.scidb.cn/download?fileId=61a0ca3f89f14b48842cf1b9&traceId=0ec4c131-82e0-4d7c-8183-b572a57f0957...\n",
            "Successfully downloaded to /content/apnea_data/patient_11/patient_11_part_1.edf\n",
            "Downloading https://china.scidb.cn/download?fileId=61a0ca3f89f14b48842cf1b8&traceId=0ec4c131-82e0-4d7c-8183-b572a57f0957...\n",
            "Successfully downloaded to /content/apnea_data/patient_11/patient_11_part_2.edf\n",
            "Downloading https://china.scidb.cn/download?fileId=61a0ca3f89f14b48842cf1b7&traceId=0ec4c131-82e0-4d7c-8183-b572a57f0957...\n",
            "Successfully downloaded to /content/apnea_data/patient_11/patient_11_part_3.edf\n",
            "Downloading https://china.scidb.cn/download?fileId=61a0ca3f89f14b48842cf1b6&traceId=0ec4c131-82e0-4d7c-8183-b572a57f0957...\n",
            "Successfully downloaded to /content/apnea_data/patient_11/patient_11_part_4.edf\n",
            "Downloading https://china.scidb.cn/download?fileId=61a0ca3f89f14b48842cf1b6&traceId=0ec4c131-82e0-4d7c-8183-b572a57f0957...\n",
            "Successfully downloaded to /content/apnea_data/patient_11/patient_11_part_5.edf\n",
            "\n",
            "--- Step 2: Concatenating Audio to 256 Hz (Memory-Safe)---\n",
            "Processing in chunks: patient_11_part_1.edf\n"
          ]
        },
        {
          "output_type": "stream",
          "name": "stderr",
          "text": [
            "/tmp/ipython-input-8-1077296292.py:33: RuntimeWarning: Channel names are not unique, found duplicates for: {'Flow Patient'}. Applying running numbers for duplicates.\n",
            "  raw = mne.io.read_raw_edf(edf_path, preload=False, verbose=False)\n",
            "/tmp/ipython-input-8-1077296292.py:33: RuntimeWarning: Channels contain different highpass filters. Highest filter setting will be stored.\n",
            "  raw = mne.io.read_raw_edf(edf_path, preload=False, verbose=False)\n",
            "/tmp/ipython-input-8-1077296292.py:33: RuntimeWarning: Channels contain different lowpass filters. Lowest filter setting will be stored.\n",
            "  raw = mne.io.read_raw_edf(edf_path, preload=False, verbose=False)\n",
            "/tmp/ipython-input-8-1077296292.py:33: RuntimeWarning: Channel names are not unique, found duplicates for: {'Flow Patient'}. Applying running numbers for duplicates.\n",
            "  raw = mne.io.read_raw_edf(edf_path, preload=False, verbose=False)\n",
            "/tmp/ipython-input-8-1077296292.py:33: RuntimeWarning: Channels contain different highpass filters. Highest filter setting will be stored.\n",
            "  raw = mne.io.read_raw_edf(edf_path, preload=False, verbose=False)\n",
            "/tmp/ipython-input-8-1077296292.py:33: RuntimeWarning: Channels contain different lowpass filters. Lowest filter setting will be stored.\n",
            "  raw = mne.io.read_raw_edf(edf_path, preload=False, verbose=False)\n",
            "/tmp/ipython-input-8-1077296292.py:33: RuntimeWarning: Channel names are not unique, found duplicates for: {'Flow Patient'}. Applying running numbers for duplicates.\n",
            "  raw = mne.io.read_raw_edf(edf_path, preload=False, verbose=False)\n",
            "/tmp/ipython-input-8-1077296292.py:33: RuntimeWarning: Channels contain different highpass filters. Highest filter setting will be stored.\n",
            "  raw = mne.io.read_raw_edf(edf_path, preload=False, verbose=False)\n",
            "/tmp/ipython-input-8-1077296292.py:33: RuntimeWarning: Channels contain different lowpass filters. Lowest filter setting will be stored.\n",
            "  raw = mne.io.read_raw_edf(edf_path, preload=False, verbose=False)\n",
            "/tmp/ipython-input-8-1077296292.py:33: RuntimeWarning: Channel names are not unique, found duplicates for: {'Flow Patient'}. Applying running numbers for duplicates.\n",
            "  raw = mne.io.read_raw_edf(edf_path, preload=False, verbose=False)\n",
            "/tmp/ipython-input-8-1077296292.py:33: RuntimeWarning: Channels contain different highpass filters. Highest filter setting will be stored.\n",
            "  raw = mne.io.read_raw_edf(edf_path, preload=False, verbose=False)\n",
            "/tmp/ipython-input-8-1077296292.py:33: RuntimeWarning: Channels contain different lowpass filters. Lowest filter setting will be stored.\n",
            "  raw = mne.io.read_raw_edf(edf_path, preload=False, verbose=False)\n",
            "/tmp/ipython-input-8-1077296292.py:33: RuntimeWarning: Channel names are not unique, found duplicates for: {'Flow Patient'}. Applying running numbers for duplicates.\n",
            "  raw = mne.io.read_raw_edf(edf_path, preload=False, verbose=False)\n",
            "/tmp/ipython-input-8-1077296292.py:33: RuntimeWarning: Channels contain different highpass filters. Highest filter setting will be stored.\n",
            "  raw = mne.io.read_raw_edf(edf_path, preload=False, verbose=False)\n",
            "/tmp/ipython-input-8-1077296292.py:33: RuntimeWarning: Channels contain different lowpass filters. Lowest filter setting will be stored.\n",
            "  raw = mne.io.read_raw_edf(edf_path, preload=False, verbose=False)\n",
            "/tmp/ipython-input-8-1077296292.py:55: RuntimeWarning: Channel names are not unique, found duplicates for: {'Flow Patient'}. Applying running numbers for duplicates.\n",
            "  raw = mne.io.read_raw_edf(edf_path, preload=False, verbose=False)\n",
            "/tmp/ipython-input-8-1077296292.py:55: RuntimeWarning: Channels contain different highpass filters. Highest filter setting will be stored.\n",
            "  raw = mne.io.read_raw_edf(edf_path, preload=False, verbose=False)\n",
            "/tmp/ipython-input-8-1077296292.py:55: RuntimeWarning: Channels contain different lowpass filters. Lowest filter setting will be stored.\n",
            "  raw = mne.io.read_raw_edf(edf_path, preload=False, verbose=False)\n"
          ]
        },
        {
          "output_type": "stream",
          "name": "stdout",
          "text": [
            "Processing in chunks: patient_11_part_2.edf\n"
          ]
        },
        {
          "output_type": "stream",
          "name": "stderr",
          "text": [
            "/tmp/ipython-input-8-1077296292.py:55: RuntimeWarning: Channel names are not unique, found duplicates for: {'Flow Patient'}. Applying running numbers for duplicates.\n",
            "  raw = mne.io.read_raw_edf(edf_path, preload=False, verbose=False)\n",
            "/tmp/ipython-input-8-1077296292.py:55: RuntimeWarning: Channels contain different highpass filters. Highest filter setting will be stored.\n",
            "  raw = mne.io.read_raw_edf(edf_path, preload=False, verbose=False)\n",
            "/tmp/ipython-input-8-1077296292.py:55: RuntimeWarning: Channels contain different lowpass filters. Lowest filter setting will be stored.\n",
            "  raw = mne.io.read_raw_edf(edf_path, preload=False, verbose=False)\n"
          ]
        },
        {
          "output_type": "stream",
          "name": "stdout",
          "text": [
            "Processing in chunks: patient_11_part_3.edf\n"
          ]
        },
        {
          "output_type": "stream",
          "name": "stderr",
          "text": [
            "/tmp/ipython-input-8-1077296292.py:55: RuntimeWarning: Channel names are not unique, found duplicates for: {'Flow Patient'}. Applying running numbers for duplicates.\n",
            "  raw = mne.io.read_raw_edf(edf_path, preload=False, verbose=False)\n",
            "/tmp/ipython-input-8-1077296292.py:55: RuntimeWarning: Channels contain different highpass filters. Highest filter setting will be stored.\n",
            "  raw = mne.io.read_raw_edf(edf_path, preload=False, verbose=False)\n",
            "/tmp/ipython-input-8-1077296292.py:55: RuntimeWarning: Channels contain different lowpass filters. Lowest filter setting will be stored.\n",
            "  raw = mne.io.read_raw_edf(edf_path, preload=False, verbose=False)\n"
          ]
        },
        {
          "output_type": "stream",
          "name": "stdout",
          "text": [
            "Processing in chunks: patient_11_part_4.edf\n"
          ]
        },
        {
          "output_type": "stream",
          "name": "stderr",
          "text": [
            "/tmp/ipython-input-8-1077296292.py:55: RuntimeWarning: Channel names are not unique, found duplicates for: {'Flow Patient'}. Applying running numbers for duplicates.\n",
            "  raw = mne.io.read_raw_edf(edf_path, preload=False, verbose=False)\n",
            "/tmp/ipython-input-8-1077296292.py:55: RuntimeWarning: Channels contain different highpass filters. Highest filter setting will be stored.\n",
            "  raw = mne.io.read_raw_edf(edf_path, preload=False, verbose=False)\n",
            "/tmp/ipython-input-8-1077296292.py:55: RuntimeWarning: Channels contain different lowpass filters. Lowest filter setting will be stored.\n",
            "  raw = mne.io.read_raw_edf(edf_path, preload=False, verbose=False)\n"
          ]
        },
        {
          "output_type": "stream",
          "name": "stdout",
          "text": [
            "Processing in chunks: patient_11_part_5.edf\n"
          ]
        },
        {
          "output_type": "stream",
          "name": "stderr",
          "text": [
            "/tmp/ipython-input-8-1077296292.py:55: RuntimeWarning: Channel names are not unique, found duplicates for: {'Flow Patient'}. Applying running numbers for duplicates.\n",
            "  raw = mne.io.read_raw_edf(edf_path, preload=False, verbose=False)\n",
            "/tmp/ipython-input-8-1077296292.py:55: RuntimeWarning: Channels contain different highpass filters. Highest filter setting will be stored.\n",
            "  raw = mne.io.read_raw_edf(edf_path, preload=False, verbose=False)\n",
            "/tmp/ipython-input-8-1077296292.py:55: RuntimeWarning: Channels contain different lowpass filters. Lowest filter setting will be stored.\n",
            "  raw = mne.io.read_raw_edf(edf_path, preload=False, verbose=False)\n"
          ]
        },
        {
          "output_type": "stream",
          "name": "stdout",
          "text": [
            "✅ Successfully created downsampled WAV: patient_11_full_mic.wav\n",
            "\n",
            "--- Step 3: Extracting Features and Labels ---\n",
            "Extracted 109 apnea events from patient_11.rml\n",
            "✅ Appended 18000 frames from patient_11 to master CSV.\n",
            "\n",
            "==================== Processing patient_12 ====================\n",
            "\n",
            "--- Step 1: Downloading Files ---\n",
            "Downloading https://china.scidb.cn/download?fileId=6436722f9870236416bbf6a4&traceId=0ec4c131-82e0-4d7c-8183-b572a57f0957...\n",
            "Successfully downloaded to /content/apnea_data/patient_12/patient_12.rml\n",
            "Downloading https://china.scidb.cn/download?fileId=61a0ca3f89f14b48842cf1b4&traceId=0ec4c131-82e0-4d7c-8183-b572a57f0957...\n",
            "Successfully downloaded to /content/apnea_data/patient_12/patient_12_part_1.edf\n",
            "Downloading https://china.scidb.cn/download?fileId=61a0ca3f89f14b48842cf1b3&traceId=0ec4c131-82e0-4d7c-8183-b572a57f0957...\n",
            "Successfully downloaded to /content/apnea_data/patient_12/patient_12_part_2.edf\n",
            "Downloading https://china.scidb.cn/download?fileId=61a0ca3f89f14b48842cf1b2&traceId=0ec4c131-82e0-4d7c-8183-b572a57f0957...\n",
            "Successfully downloaded to /content/apnea_data/patient_12/patient_12_part_3.edf\n",
            "Downloading https://china.scidb.cn/download?fileId=61a0ca3f89f14b48842cf1b1&traceId=0ec4c131-82e0-4d7c-8183-b572a57f0957...\n",
            "Successfully downloaded to /content/apnea_data/patient_12/patient_12_part_4.edf\n",
            "Downloading https://china.scidb.cn/download?fileId=61a0ca3f89f14b48842cf1b0&traceId=0ec4c131-82e0-4d7c-8183-b572a57f0957...\n",
            "Successfully downloaded to /content/apnea_data/patient_12/patient_12_part_5.edf\n",
            "\n",
            "--- Step 2: Concatenating Audio to 256 Hz (Memory-Safe)---\n",
            "Processing in chunks: patient_12_part_1.edf\n"
          ]
        },
        {
          "output_type": "stream",
          "name": "stderr",
          "text": [
            "/tmp/ipython-input-8-1077296292.py:33: RuntimeWarning: Channel names are not unique, found duplicates for: {'Flow Patient'}. Applying running numbers for duplicates.\n",
            "  raw = mne.io.read_raw_edf(edf_path, preload=False, verbose=False)\n",
            "/tmp/ipython-input-8-1077296292.py:33: RuntimeWarning: Channels contain different highpass filters. Highest filter setting will be stored.\n",
            "  raw = mne.io.read_raw_edf(edf_path, preload=False, verbose=False)\n",
            "/tmp/ipython-input-8-1077296292.py:33: RuntimeWarning: Channels contain different lowpass filters. Lowest filter setting will be stored.\n",
            "  raw = mne.io.read_raw_edf(edf_path, preload=False, verbose=False)\n",
            "/tmp/ipython-input-8-1077296292.py:33: RuntimeWarning: Channel names are not unique, found duplicates for: {'Flow Patient'}. Applying running numbers for duplicates.\n",
            "  raw = mne.io.read_raw_edf(edf_path, preload=False, verbose=False)\n",
            "/tmp/ipython-input-8-1077296292.py:33: RuntimeWarning: Channels contain different highpass filters. Highest filter setting will be stored.\n",
            "  raw = mne.io.read_raw_edf(edf_path, preload=False, verbose=False)\n",
            "/tmp/ipython-input-8-1077296292.py:33: RuntimeWarning: Channels contain different lowpass filters. Lowest filter setting will be stored.\n",
            "  raw = mne.io.read_raw_edf(edf_path, preload=False, verbose=False)\n",
            "/tmp/ipython-input-8-1077296292.py:33: RuntimeWarning: Channel names are not unique, found duplicates for: {'Flow Patient'}. Applying running numbers for duplicates.\n",
            "  raw = mne.io.read_raw_edf(edf_path, preload=False, verbose=False)\n",
            "/tmp/ipython-input-8-1077296292.py:33: RuntimeWarning: Channels contain different highpass filters. Highest filter setting will be stored.\n",
            "  raw = mne.io.read_raw_edf(edf_path, preload=False, verbose=False)\n",
            "/tmp/ipython-input-8-1077296292.py:33: RuntimeWarning: Channels contain different lowpass filters. Lowest filter setting will be stored.\n",
            "  raw = mne.io.read_raw_edf(edf_path, preload=False, verbose=False)\n",
            "/tmp/ipython-input-8-1077296292.py:33: RuntimeWarning: Channel names are not unique, found duplicates for: {'Flow Patient'}. Applying running numbers for duplicates.\n",
            "  raw = mne.io.read_raw_edf(edf_path, preload=False, verbose=False)\n",
            "/tmp/ipython-input-8-1077296292.py:33: RuntimeWarning: Channels contain different highpass filters. Highest filter setting will be stored.\n",
            "  raw = mne.io.read_raw_edf(edf_path, preload=False, verbose=False)\n",
            "/tmp/ipython-input-8-1077296292.py:33: RuntimeWarning: Channels contain different lowpass filters. Lowest filter setting will be stored.\n",
            "  raw = mne.io.read_raw_edf(edf_path, preload=False, verbose=False)\n",
            "/tmp/ipython-input-8-1077296292.py:33: RuntimeWarning: Channel names are not unique, found duplicates for: {'Flow Patient'}. Applying running numbers for duplicates.\n",
            "  raw = mne.io.read_raw_edf(edf_path, preload=False, verbose=False)\n",
            "/tmp/ipython-input-8-1077296292.py:33: RuntimeWarning: Channels contain different highpass filters. Highest filter setting will be stored.\n",
            "  raw = mne.io.read_raw_edf(edf_path, preload=False, verbose=False)\n",
            "/tmp/ipython-input-8-1077296292.py:33: RuntimeWarning: Channels contain different lowpass filters. Lowest filter setting will be stored.\n",
            "  raw = mne.io.read_raw_edf(edf_path, preload=False, verbose=False)\n",
            "/tmp/ipython-input-8-1077296292.py:55: RuntimeWarning: Channel names are not unique, found duplicates for: {'Flow Patient'}. Applying running numbers for duplicates.\n",
            "  raw = mne.io.read_raw_edf(edf_path, preload=False, verbose=False)\n",
            "/tmp/ipython-input-8-1077296292.py:55: RuntimeWarning: Channels contain different highpass filters. Highest filter setting will be stored.\n",
            "  raw = mne.io.read_raw_edf(edf_path, preload=False, verbose=False)\n",
            "/tmp/ipython-input-8-1077296292.py:55: RuntimeWarning: Channels contain different lowpass filters. Lowest filter setting will be stored.\n",
            "  raw = mne.io.read_raw_edf(edf_path, preload=False, verbose=False)\n"
          ]
        },
        {
          "output_type": "stream",
          "name": "stdout",
          "text": [
            "Processing in chunks: patient_12_part_2.edf\n"
          ]
        },
        {
          "output_type": "stream",
          "name": "stderr",
          "text": [
            "/tmp/ipython-input-8-1077296292.py:55: RuntimeWarning: Channel names are not unique, found duplicates for: {'Flow Patient'}. Applying running numbers for duplicates.\n",
            "  raw = mne.io.read_raw_edf(edf_path, preload=False, verbose=False)\n",
            "/tmp/ipython-input-8-1077296292.py:55: RuntimeWarning: Channels contain different highpass filters. Highest filter setting will be stored.\n",
            "  raw = mne.io.read_raw_edf(edf_path, preload=False, verbose=False)\n",
            "/tmp/ipython-input-8-1077296292.py:55: RuntimeWarning: Channels contain different lowpass filters. Lowest filter setting will be stored.\n",
            "  raw = mne.io.read_raw_edf(edf_path, preload=False, verbose=False)\n"
          ]
        },
        {
          "output_type": "stream",
          "name": "stdout",
          "text": [
            "Processing in chunks: patient_12_part_3.edf\n"
          ]
        },
        {
          "output_type": "stream",
          "name": "stderr",
          "text": [
            "/tmp/ipython-input-8-1077296292.py:55: RuntimeWarning: Channel names are not unique, found duplicates for: {'Flow Patient'}. Applying running numbers for duplicates.\n",
            "  raw = mne.io.read_raw_edf(edf_path, preload=False, verbose=False)\n",
            "/tmp/ipython-input-8-1077296292.py:55: RuntimeWarning: Channels contain different highpass filters. Highest filter setting will be stored.\n",
            "  raw = mne.io.read_raw_edf(edf_path, preload=False, verbose=False)\n",
            "/tmp/ipython-input-8-1077296292.py:55: RuntimeWarning: Channels contain different lowpass filters. Lowest filter setting will be stored.\n",
            "  raw = mne.io.read_raw_edf(edf_path, preload=False, verbose=False)\n"
          ]
        },
        {
          "output_type": "stream",
          "name": "stdout",
          "text": [
            "Processing in chunks: patient_12_part_4.edf\n"
          ]
        },
        {
          "output_type": "stream",
          "name": "stderr",
          "text": [
            "/tmp/ipython-input-8-1077296292.py:55: RuntimeWarning: Channel names are not unique, found duplicates for: {'Flow Patient'}. Applying running numbers for duplicates.\n",
            "  raw = mne.io.read_raw_edf(edf_path, preload=False, verbose=False)\n",
            "/tmp/ipython-input-8-1077296292.py:55: RuntimeWarning: Channels contain different highpass filters. Highest filter setting will be stored.\n",
            "  raw = mne.io.read_raw_edf(edf_path, preload=False, verbose=False)\n",
            "/tmp/ipython-input-8-1077296292.py:55: RuntimeWarning: Channels contain different lowpass filters. Lowest filter setting will be stored.\n",
            "  raw = mne.io.read_raw_edf(edf_path, preload=False, verbose=False)\n"
          ]
        },
        {
          "output_type": "stream",
          "name": "stdout",
          "text": [
            "Processing in chunks: patient_12_part_5.edf\n"
          ]
        },
        {
          "output_type": "stream",
          "name": "stderr",
          "text": [
            "/tmp/ipython-input-8-1077296292.py:55: RuntimeWarning: Channel names are not unique, found duplicates for: {'Flow Patient'}. Applying running numbers for duplicates.\n",
            "  raw = mne.io.read_raw_edf(edf_path, preload=False, verbose=False)\n",
            "/tmp/ipython-input-8-1077296292.py:55: RuntimeWarning: Channels contain different highpass filters. Highest filter setting will be stored.\n",
            "  raw = mne.io.read_raw_edf(edf_path, preload=False, verbose=False)\n",
            "/tmp/ipython-input-8-1077296292.py:55: RuntimeWarning: Channels contain different lowpass filters. Lowest filter setting will be stored.\n",
            "  raw = mne.io.read_raw_edf(edf_path, preload=False, verbose=False)\n"
          ]
        },
        {
          "output_type": "stream",
          "name": "stdout",
          "text": [
            "✅ Successfully created downsampled WAV: patient_12_full_mic.wav\n",
            "\n",
            "--- Step 3: Extracting Features and Labels ---\n",
            "Extracted 51 apnea events from patient_12.rml\n",
            "✅ Appended 16276 frames from patient_12 to master CSV.\n",
            "\n",
            "==================== Processing patient_13 ====================\n",
            "\n",
            "--- Step 1: Downloading Files ---\n",
            "Downloading https://china.scidb.cn/download?fileId=6436722f7869a339f571d643&traceId=0ec4c131-82e0-4d7c-8183-b572a57f0957...\n",
            "Successfully downloaded to /content/apnea_data/patient_13/patient_13.rml\n",
            "Downloading https://china.scidb.cn/download?fileId=61a0ca3f89f14b48842cf1af&traceId=0ec4c131-82e0-4d7c-8183-b572a57f0957...\n",
            "Successfully downloaded to /content/apnea_data/patient_13/patient_13_part_1.edf\n",
            "Downloading https://china.scidb.cn/download?fileId=61a0ca3f89f14b48842cf1ae&traceId=0ec4c131-82e0-4d7c-8183-b572a57f0957...\n",
            "Successfully downloaded to /content/apnea_data/patient_13/patient_13_part_2.edf\n",
            "Downloading https://china.scidb.cn/download?fileId=61a0ca3f89f14b48842cf1ad&traceId=0ec4c131-82e0-4d7c-8183-b572a57f0957...\n",
            "Successfully downloaded to /content/apnea_data/patient_13/patient_13_part_3.edf\n",
            "Downloading https://china.scidb.cn/download?fileId=61a0ca3f89f14b48842cf1ac&traceId=0ec4c131-82e0-4d7c-8183-b572a57f0957...\n",
            "Successfully downloaded to /content/apnea_data/patient_13/patient_13_part_4.edf\n",
            "\n",
            "--- Step 2: Concatenating Audio to 256 Hz (Memory-Safe)---\n",
            "Processing in chunks: patient_13_part_1.edf\n"
          ]
        },
        {
          "output_type": "stream",
          "name": "stderr",
          "text": [
            "/tmp/ipython-input-8-1077296292.py:33: RuntimeWarning: Channel names are not unique, found duplicates for: {'Flow Patient'}. Applying running numbers for duplicates.\n",
            "  raw = mne.io.read_raw_edf(edf_path, preload=False, verbose=False)\n",
            "/tmp/ipython-input-8-1077296292.py:33: RuntimeWarning: Channels contain different highpass filters. Highest filter setting will be stored.\n",
            "  raw = mne.io.read_raw_edf(edf_path, preload=False, verbose=False)\n",
            "/tmp/ipython-input-8-1077296292.py:33: RuntimeWarning: Channels contain different lowpass filters. Lowest filter setting will be stored.\n",
            "  raw = mne.io.read_raw_edf(edf_path, preload=False, verbose=False)\n",
            "/tmp/ipython-input-8-1077296292.py:33: RuntimeWarning: Channel names are not unique, found duplicates for: {'Flow Patient'}. Applying running numbers for duplicates.\n",
            "  raw = mne.io.read_raw_edf(edf_path, preload=False, verbose=False)\n",
            "/tmp/ipython-input-8-1077296292.py:33: RuntimeWarning: Channels contain different highpass filters. Highest filter setting will be stored.\n",
            "  raw = mne.io.read_raw_edf(edf_path, preload=False, verbose=False)\n",
            "/tmp/ipython-input-8-1077296292.py:33: RuntimeWarning: Channels contain different lowpass filters. Lowest filter setting will be stored.\n",
            "  raw = mne.io.read_raw_edf(edf_path, preload=False, verbose=False)\n",
            "/tmp/ipython-input-8-1077296292.py:33: RuntimeWarning: Channel names are not unique, found duplicates for: {'Flow Patient'}. Applying running numbers for duplicates.\n",
            "  raw = mne.io.read_raw_edf(edf_path, preload=False, verbose=False)\n",
            "/tmp/ipython-input-8-1077296292.py:33: RuntimeWarning: Channels contain different highpass filters. Highest filter setting will be stored.\n",
            "  raw = mne.io.read_raw_edf(edf_path, preload=False, verbose=False)\n",
            "/tmp/ipython-input-8-1077296292.py:33: RuntimeWarning: Channels contain different lowpass filters. Lowest filter setting will be stored.\n",
            "  raw = mne.io.read_raw_edf(edf_path, preload=False, verbose=False)\n",
            "/tmp/ipython-input-8-1077296292.py:33: RuntimeWarning: Channel names are not unique, found duplicates for: {'Flow Patient'}. Applying running numbers for duplicates.\n",
            "  raw = mne.io.read_raw_edf(edf_path, preload=False, verbose=False)\n",
            "/tmp/ipython-input-8-1077296292.py:33: RuntimeWarning: Channels contain different highpass filters. Highest filter setting will be stored.\n",
            "  raw = mne.io.read_raw_edf(edf_path, preload=False, verbose=False)\n",
            "/tmp/ipython-input-8-1077296292.py:33: RuntimeWarning: Channels contain different lowpass filters. Lowest filter setting will be stored.\n",
            "  raw = mne.io.read_raw_edf(edf_path, preload=False, verbose=False)\n",
            "/tmp/ipython-input-8-1077296292.py:55: RuntimeWarning: Channel names are not unique, found duplicates for: {'Flow Patient'}. Applying running numbers for duplicates.\n",
            "  raw = mne.io.read_raw_edf(edf_path, preload=False, verbose=False)\n",
            "/tmp/ipython-input-8-1077296292.py:55: RuntimeWarning: Channels contain different highpass filters. Highest filter setting will be stored.\n",
            "  raw = mne.io.read_raw_edf(edf_path, preload=False, verbose=False)\n",
            "/tmp/ipython-input-8-1077296292.py:55: RuntimeWarning: Channels contain different lowpass filters. Lowest filter setting will be stored.\n",
            "  raw = mne.io.read_raw_edf(edf_path, preload=False, verbose=False)\n"
          ]
        },
        {
          "output_type": "stream",
          "name": "stdout",
          "text": [
            "Processing in chunks: patient_13_part_2.edf\n"
          ]
        },
        {
          "output_type": "stream",
          "name": "stderr",
          "text": [
            "/tmp/ipython-input-8-1077296292.py:55: RuntimeWarning: Channel names are not unique, found duplicates for: {'Flow Patient'}. Applying running numbers for duplicates.\n",
            "  raw = mne.io.read_raw_edf(edf_path, preload=False, verbose=False)\n",
            "/tmp/ipython-input-8-1077296292.py:55: RuntimeWarning: Channels contain different highpass filters. Highest filter setting will be stored.\n",
            "  raw = mne.io.read_raw_edf(edf_path, preload=False, verbose=False)\n",
            "/tmp/ipython-input-8-1077296292.py:55: RuntimeWarning: Channels contain different lowpass filters. Lowest filter setting will be stored.\n",
            "  raw = mne.io.read_raw_edf(edf_path, preload=False, verbose=False)\n"
          ]
        },
        {
          "output_type": "stream",
          "name": "stdout",
          "text": [
            "Processing in chunks: patient_13_part_3.edf\n"
          ]
        },
        {
          "output_type": "stream",
          "name": "stderr",
          "text": [
            "/tmp/ipython-input-8-1077296292.py:55: RuntimeWarning: Channel names are not unique, found duplicates for: {'Flow Patient'}. Applying running numbers for duplicates.\n",
            "  raw = mne.io.read_raw_edf(edf_path, preload=False, verbose=False)\n",
            "/tmp/ipython-input-8-1077296292.py:55: RuntimeWarning: Channels contain different highpass filters. Highest filter setting will be stored.\n",
            "  raw = mne.io.read_raw_edf(edf_path, preload=False, verbose=False)\n",
            "/tmp/ipython-input-8-1077296292.py:55: RuntimeWarning: Channels contain different lowpass filters. Lowest filter setting will be stored.\n",
            "  raw = mne.io.read_raw_edf(edf_path, preload=False, verbose=False)\n"
          ]
        },
        {
          "output_type": "stream",
          "name": "stdout",
          "text": [
            "Processing in chunks: patient_13_part_4.edf\n"
          ]
        },
        {
          "output_type": "stream",
          "name": "stderr",
          "text": [
            "/tmp/ipython-input-8-1077296292.py:55: RuntimeWarning: Channel names are not unique, found duplicates for: {'Flow Patient'}. Applying running numbers for duplicates.\n",
            "  raw = mne.io.read_raw_edf(edf_path, preload=False, verbose=False)\n",
            "/tmp/ipython-input-8-1077296292.py:55: RuntimeWarning: Channels contain different highpass filters. Highest filter setting will be stored.\n",
            "  raw = mne.io.read_raw_edf(edf_path, preload=False, verbose=False)\n",
            "/tmp/ipython-input-8-1077296292.py:55: RuntimeWarning: Channels contain different lowpass filters. Lowest filter setting will be stored.\n",
            "  raw = mne.io.read_raw_edf(edf_path, preload=False, verbose=False)\n"
          ]
        },
        {
          "output_type": "stream",
          "name": "stdout",
          "text": [
            "✅ Successfully created downsampled WAV: patient_13_full_mic.wav\n",
            "\n",
            "--- Step 3: Extracting Features and Labels ---\n",
            "Extracted 286 apnea events from patient_13.rml\n",
            "✅ Appended 13376 frames from patient_13 to master CSV.\n",
            "\n",
            "==================== Processing patient_14 ====================\n",
            "\n",
            "--- Step 1: Downloading Files ---\n",
            "Downloading https://china.scidb.cn/download?fileId=6436722f9870236416bbf6a6&traceId=0ec4c131-82e0-4d7c-8183-b572a57f0957...\n",
            "Successfully downloaded to /content/apnea_data/patient_14/patient_14.rml\n",
            "Downloading https://china.scidb.cn/download?fileId=61a0ca3f89f14b48842cf1a5&traceId=0ec4c131-82e0-4d7c-8183-b572a57f0957...\n",
            "Successfully downloaded to /content/apnea_data/patient_14/patient_14_part_1.edf\n",
            "Downloading https://china.scidb.cn/download?fileId=61a0ca3f89f14b48842cf1a6&traceId=0ec4c131-82e0-4d7c-8183-b572a57f0957...\n",
            "Successfully downloaded to /content/apnea_data/patient_14/patient_14_part_2.edf\n",
            "Downloading https://china.scidb.cn/download?fileId=61a0ca3f89f14b48842cf1a7&traceId=0ec4c131-82e0-4d7c-8183-b572a57f0957...\n",
            "Successfully downloaded to /content/apnea_data/patient_14/patient_14_part_3.edf\n",
            "Downloading https://china.scidb.cn/download?fileId=61a0ca3f89f14b48842cf1a8&traceId=0ec4c131-82e0-4d7c-8183-b572a57f0957...\n",
            "Successfully downloaded to /content/apnea_data/patient_14/patient_14_part_4.edf\n",
            "Downloading https://china.scidb.cn/download?fileId=61a0ca3f89f14b48842cf1a9&traceId=0ec4c131-82e0-4d7c-8183-b572a57f0957...\n",
            "Successfully downloaded to /content/apnea_data/patient_14/patient_14_part_5.edf\n",
            "Downloading https://china.scidb.cn/download?fileId=61a0ca3f89f14b48842cf1aa&traceId=0ec4c131-82e0-4d7c-8183-b572a57f0957...\n",
            "Successfully downloaded to /content/apnea_data/patient_14/patient_14_part_6.edf\n",
            "Downloading https://china.scidb.cn/download?fileId=61a0ca3f89f14b48842cf1ab&traceId=0ec4c131-82e0-4d7c-8183-b572a57f0957...\n",
            "Successfully downloaded to /content/apnea_data/patient_14/patient_14_part_7.edf\n",
            "\n",
            "--- Step 2: Concatenating Audio to 256 Hz (Memory-Safe)---\n",
            "Processing in chunks: patient_14_part_1.edf\n"
          ]
        },
        {
          "output_type": "stream",
          "name": "stderr",
          "text": [
            "/tmp/ipython-input-8-1077296292.py:33: RuntimeWarning: Channel names are not unique, found duplicates for: {'Flow Patient'}. Applying running numbers for duplicates.\n",
            "  raw = mne.io.read_raw_edf(edf_path, preload=False, verbose=False)\n",
            "/tmp/ipython-input-8-1077296292.py:33: RuntimeWarning: Channels contain different highpass filters. Highest filter setting will be stored.\n",
            "  raw = mne.io.read_raw_edf(edf_path, preload=False, verbose=False)\n",
            "/tmp/ipython-input-8-1077296292.py:33: RuntimeWarning: Channels contain different lowpass filters. Lowest filter setting will be stored.\n",
            "  raw = mne.io.read_raw_edf(edf_path, preload=False, verbose=False)\n",
            "/tmp/ipython-input-8-1077296292.py:33: RuntimeWarning: Channel names are not unique, found duplicates for: {'Flow Patient'}. Applying running numbers for duplicates.\n",
            "  raw = mne.io.read_raw_edf(edf_path, preload=False, verbose=False)\n",
            "/tmp/ipython-input-8-1077296292.py:33: RuntimeWarning: Channels contain different highpass filters. Highest filter setting will be stored.\n",
            "  raw = mne.io.read_raw_edf(edf_path, preload=False, verbose=False)\n",
            "/tmp/ipython-input-8-1077296292.py:33: RuntimeWarning: Channels contain different lowpass filters. Lowest filter setting will be stored.\n",
            "  raw = mne.io.read_raw_edf(edf_path, preload=False, verbose=False)\n",
            "/tmp/ipython-input-8-1077296292.py:33: RuntimeWarning: Channel names are not unique, found duplicates for: {'Flow Patient'}. Applying running numbers for duplicates.\n",
            "  raw = mne.io.read_raw_edf(edf_path, preload=False, verbose=False)\n",
            "/tmp/ipython-input-8-1077296292.py:33: RuntimeWarning: Channels contain different highpass filters. Highest filter setting will be stored.\n",
            "  raw = mne.io.read_raw_edf(edf_path, preload=False, verbose=False)\n",
            "/tmp/ipython-input-8-1077296292.py:33: RuntimeWarning: Channels contain different lowpass filters. Lowest filter setting will be stored.\n",
            "  raw = mne.io.read_raw_edf(edf_path, preload=False, verbose=False)\n",
            "/tmp/ipython-input-8-1077296292.py:33: RuntimeWarning: Channel names are not unique, found duplicates for: {'Flow Patient'}. Applying running numbers for duplicates.\n",
            "  raw = mne.io.read_raw_edf(edf_path, preload=False, verbose=False)\n",
            "/tmp/ipython-input-8-1077296292.py:33: RuntimeWarning: Channels contain different highpass filters. Highest filter setting will be stored.\n",
            "  raw = mne.io.read_raw_edf(edf_path, preload=False, verbose=False)\n",
            "/tmp/ipython-input-8-1077296292.py:33: RuntimeWarning: Channels contain different lowpass filters. Lowest filter setting will be stored.\n",
            "  raw = mne.io.read_raw_edf(edf_path, preload=False, verbose=False)\n",
            "/tmp/ipython-input-8-1077296292.py:33: RuntimeWarning: Channel names are not unique, found duplicates for: {'Flow Patient'}. Applying running numbers for duplicates.\n",
            "  raw = mne.io.read_raw_edf(edf_path, preload=False, verbose=False)\n",
            "/tmp/ipython-input-8-1077296292.py:33: RuntimeWarning: Channels contain different highpass filters. Highest filter setting will be stored.\n",
            "  raw = mne.io.read_raw_edf(edf_path, preload=False, verbose=False)\n",
            "/tmp/ipython-input-8-1077296292.py:33: RuntimeWarning: Channels contain different lowpass filters. Lowest filter setting will be stored.\n",
            "  raw = mne.io.read_raw_edf(edf_path, preload=False, verbose=False)\n",
            "/tmp/ipython-input-8-1077296292.py:33: RuntimeWarning: Channel names are not unique, found duplicates for: {'Flow Patient'}. Applying running numbers for duplicates.\n",
            "  raw = mne.io.read_raw_edf(edf_path, preload=False, verbose=False)\n",
            "/tmp/ipython-input-8-1077296292.py:33: RuntimeWarning: Channels contain different highpass filters. Highest filter setting will be stored.\n",
            "  raw = mne.io.read_raw_edf(edf_path, preload=False, verbose=False)\n",
            "/tmp/ipython-input-8-1077296292.py:33: RuntimeWarning: Channels contain different lowpass filters. Lowest filter setting will be stored.\n",
            "  raw = mne.io.read_raw_edf(edf_path, preload=False, verbose=False)\n",
            "/tmp/ipython-input-8-1077296292.py:33: RuntimeWarning: Channel names are not unique, found duplicates for: {'Flow Patient'}. Applying running numbers for duplicates.\n",
            "  raw = mne.io.read_raw_edf(edf_path, preload=False, verbose=False)\n",
            "/tmp/ipython-input-8-1077296292.py:33: RuntimeWarning: Channels contain different highpass filters. Highest filter setting will be stored.\n",
            "  raw = mne.io.read_raw_edf(edf_path, preload=False, verbose=False)\n",
            "/tmp/ipython-input-8-1077296292.py:33: RuntimeWarning: Channels contain different lowpass filters. Lowest filter setting will be stored.\n",
            "  raw = mne.io.read_raw_edf(edf_path, preload=False, verbose=False)\n",
            "/tmp/ipython-input-8-1077296292.py:55: RuntimeWarning: Channel names are not unique, found duplicates for: {'Flow Patient'}. Applying running numbers for duplicates.\n",
            "  raw = mne.io.read_raw_edf(edf_path, preload=False, verbose=False)\n",
            "/tmp/ipython-input-8-1077296292.py:55: RuntimeWarning: Channels contain different highpass filters. Highest filter setting will be stored.\n",
            "  raw = mne.io.read_raw_edf(edf_path, preload=False, verbose=False)\n",
            "/tmp/ipython-input-8-1077296292.py:55: RuntimeWarning: Channels contain different lowpass filters. Lowest filter setting will be stored.\n",
            "  raw = mne.io.read_raw_edf(edf_path, preload=False, verbose=False)\n"
          ]
        },
        {
          "output_type": "stream",
          "name": "stdout",
          "text": [
            "Processing in chunks: patient_14_part_2.edf\n"
          ]
        },
        {
          "output_type": "stream",
          "name": "stderr",
          "text": [
            "/tmp/ipython-input-8-1077296292.py:55: RuntimeWarning: Channel names are not unique, found duplicates for: {'Flow Patient'}. Applying running numbers for duplicates.\n",
            "  raw = mne.io.read_raw_edf(edf_path, preload=False, verbose=False)\n",
            "/tmp/ipython-input-8-1077296292.py:55: RuntimeWarning: Channels contain different highpass filters. Highest filter setting will be stored.\n",
            "  raw = mne.io.read_raw_edf(edf_path, preload=False, verbose=False)\n",
            "/tmp/ipython-input-8-1077296292.py:55: RuntimeWarning: Channels contain different lowpass filters. Lowest filter setting will be stored.\n",
            "  raw = mne.io.read_raw_edf(edf_path, preload=False, verbose=False)\n"
          ]
        },
        {
          "output_type": "stream",
          "name": "stdout",
          "text": [
            "Processing in chunks: patient_14_part_3.edf\n"
          ]
        },
        {
          "output_type": "stream",
          "name": "stderr",
          "text": [
            "/tmp/ipython-input-8-1077296292.py:55: RuntimeWarning: Channel names are not unique, found duplicates for: {'Flow Patient'}. Applying running numbers for duplicates.\n",
            "  raw = mne.io.read_raw_edf(edf_path, preload=False, verbose=False)\n",
            "/tmp/ipython-input-8-1077296292.py:55: RuntimeWarning: Channels contain different highpass filters. Highest filter setting will be stored.\n",
            "  raw = mne.io.read_raw_edf(edf_path, preload=False, verbose=False)\n",
            "/tmp/ipython-input-8-1077296292.py:55: RuntimeWarning: Channels contain different lowpass filters. Lowest filter setting will be stored.\n",
            "  raw = mne.io.read_raw_edf(edf_path, preload=False, verbose=False)\n"
          ]
        },
        {
          "output_type": "stream",
          "name": "stdout",
          "text": [
            "Processing in chunks: patient_14_part_4.edf\n"
          ]
        },
        {
          "output_type": "stream",
          "name": "stderr",
          "text": [
            "/tmp/ipython-input-8-1077296292.py:55: RuntimeWarning: Channel names are not unique, found duplicates for: {'Flow Patient'}. Applying running numbers for duplicates.\n",
            "  raw = mne.io.read_raw_edf(edf_path, preload=False, verbose=False)\n",
            "/tmp/ipython-input-8-1077296292.py:55: RuntimeWarning: Channels contain different highpass filters. Highest filter setting will be stored.\n",
            "  raw = mne.io.read_raw_edf(edf_path, preload=False, verbose=False)\n",
            "/tmp/ipython-input-8-1077296292.py:55: RuntimeWarning: Channels contain different lowpass filters. Lowest filter setting will be stored.\n",
            "  raw = mne.io.read_raw_edf(edf_path, preload=False, verbose=False)\n"
          ]
        },
        {
          "output_type": "stream",
          "name": "stdout",
          "text": [
            "Processing in chunks: patient_14_part_5.edf\n"
          ]
        },
        {
          "output_type": "stream",
          "name": "stderr",
          "text": [
            "/tmp/ipython-input-8-1077296292.py:55: RuntimeWarning: Channel names are not unique, found duplicates for: {'Flow Patient'}. Applying running numbers for duplicates.\n",
            "  raw = mne.io.read_raw_edf(edf_path, preload=False, verbose=False)\n",
            "/tmp/ipython-input-8-1077296292.py:55: RuntimeWarning: Channels contain different highpass filters. Highest filter setting will be stored.\n",
            "  raw = mne.io.read_raw_edf(edf_path, preload=False, verbose=False)\n",
            "/tmp/ipython-input-8-1077296292.py:55: RuntimeWarning: Channels contain different lowpass filters. Lowest filter setting will be stored.\n",
            "  raw = mne.io.read_raw_edf(edf_path, preload=False, verbose=False)\n"
          ]
        },
        {
          "output_type": "stream",
          "name": "stdout",
          "text": [
            "Processing in chunks: patient_14_part_6.edf\n"
          ]
        },
        {
          "output_type": "stream",
          "name": "stderr",
          "text": [
            "/tmp/ipython-input-8-1077296292.py:55: RuntimeWarning: Channel names are not unique, found duplicates for: {'Flow Patient'}. Applying running numbers for duplicates.\n",
            "  raw = mne.io.read_raw_edf(edf_path, preload=False, verbose=False)\n",
            "/tmp/ipython-input-8-1077296292.py:55: RuntimeWarning: Channels contain different highpass filters. Highest filter setting will be stored.\n",
            "  raw = mne.io.read_raw_edf(edf_path, preload=False, verbose=False)\n",
            "/tmp/ipython-input-8-1077296292.py:55: RuntimeWarning: Channels contain different lowpass filters. Lowest filter setting will be stored.\n",
            "  raw = mne.io.read_raw_edf(edf_path, preload=False, verbose=False)\n"
          ]
        },
        {
          "output_type": "stream",
          "name": "stdout",
          "text": [
            "Processing in chunks: patient_14_part_7.edf\n"
          ]
        },
        {
          "output_type": "stream",
          "name": "stderr",
          "text": [
            "/tmp/ipython-input-8-1077296292.py:55: RuntimeWarning: Channel names are not unique, found duplicates for: {'Flow Patient'}. Applying running numbers for duplicates.\n",
            "  raw = mne.io.read_raw_edf(edf_path, preload=False, verbose=False)\n",
            "/tmp/ipython-input-8-1077296292.py:55: RuntimeWarning: Channels contain different highpass filters. Highest filter setting will be stored.\n",
            "  raw = mne.io.read_raw_edf(edf_path, preload=False, verbose=False)\n",
            "/tmp/ipython-input-8-1077296292.py:55: RuntimeWarning: Channels contain different lowpass filters. Lowest filter setting will be stored.\n",
            "  raw = mne.io.read_raw_edf(edf_path, preload=False, verbose=False)\n"
          ]
        },
        {
          "output_type": "stream",
          "name": "stdout",
          "text": [
            "✅ Successfully created downsampled WAV: patient_14_full_mic.wav\n",
            "\n",
            "--- Step 3: Extracting Features and Labels ---\n",
            "Extracted 52 apnea events from patient_14.rml\n",
            "✅ Appended 22084 frames from patient_14 to master CSV.\n",
            "\n",
            "==================== Processing patient_15 ====================\n",
            "\n",
            "--- Step 1: Downloading Files ---\n",
            "Downloading https://china.scidb.cn/download?fileId=6436722f7869a339f571d645&traceId=0ec4c131-82e0-4d7c-8183-b572a57f0957...\n",
            "Successfully downloaded to /content/apnea_data/patient_15/patient_15.rml\n",
            "Downloading https://china.scidb.cn/download?fileId=61a0ca3f89f14b48842cf199&traceId=0ec4c131-82e0-4d7c-8183-b572a57f0957...\n",
            "Successfully downloaded to /content/apnea_data/patient_15/patient_15_part_1.edf\n",
            "Downloading https://china.scidb.cn/download?fileId=61a0ca3f89f14b48842cf198&traceId=0ec4c131-82e0-4d7c-8183-b572a57f0957...\n",
            "Successfully downloaded to /content/apnea_data/patient_15/patient_15_part_2.edf\n",
            "Downloading https://china.scidb.cn/download?fileId=61a0ca3f89f14b48842cf197&traceId=0ec4c131-82e0-4d7c-8183-b572a57f0957...\n",
            "Successfully downloaded to /content/apnea_data/patient_15/patient_15_part_3.edf\n",
            "Downloading https://china.scidb.cn/download?fileId=61a0ca3f89f14b48842cf196&traceId=0ec4c131-82e0-4d7c-8183-b572a57f0957...\n",
            "Successfully downloaded to /content/apnea_data/patient_15/patient_15_part_4.edf\n",
            "\n",
            "--- Step 2: Concatenating Audio to 256 Hz (Memory-Safe)---\n",
            "Processing in chunks: patient_15_part_1.edf\n"
          ]
        },
        {
          "output_type": "stream",
          "name": "stderr",
          "text": [
            "/tmp/ipython-input-8-1077296292.py:33: RuntimeWarning: Channel names are not unique, found duplicates for: {'Flow Patient'}. Applying running numbers for duplicates.\n",
            "  raw = mne.io.read_raw_edf(edf_path, preload=False, verbose=False)\n",
            "/tmp/ipython-input-8-1077296292.py:33: RuntimeWarning: Channels contain different highpass filters. Highest filter setting will be stored.\n",
            "  raw = mne.io.read_raw_edf(edf_path, preload=False, verbose=False)\n",
            "/tmp/ipython-input-8-1077296292.py:33: RuntimeWarning: Channels contain different lowpass filters. Lowest filter setting will be stored.\n",
            "  raw = mne.io.read_raw_edf(edf_path, preload=False, verbose=False)\n",
            "/tmp/ipython-input-8-1077296292.py:33: RuntimeWarning: Channel names are not unique, found duplicates for: {'Flow Patient'}. Applying running numbers for duplicates.\n",
            "  raw = mne.io.read_raw_edf(edf_path, preload=False, verbose=False)\n",
            "/tmp/ipython-input-8-1077296292.py:33: RuntimeWarning: Channels contain different highpass filters. Highest filter setting will be stored.\n",
            "  raw = mne.io.read_raw_edf(edf_path, preload=False, verbose=False)\n",
            "/tmp/ipython-input-8-1077296292.py:33: RuntimeWarning: Channels contain different lowpass filters. Lowest filter setting will be stored.\n",
            "  raw = mne.io.read_raw_edf(edf_path, preload=False, verbose=False)\n",
            "/tmp/ipython-input-8-1077296292.py:33: RuntimeWarning: Channel names are not unique, found duplicates for: {'Flow Patient'}. Applying running numbers for duplicates.\n",
            "  raw = mne.io.read_raw_edf(edf_path, preload=False, verbose=False)\n",
            "/tmp/ipython-input-8-1077296292.py:33: RuntimeWarning: Channels contain different highpass filters. Highest filter setting will be stored.\n",
            "  raw = mne.io.read_raw_edf(edf_path, preload=False, verbose=False)\n",
            "/tmp/ipython-input-8-1077296292.py:33: RuntimeWarning: Channels contain different lowpass filters. Lowest filter setting will be stored.\n",
            "  raw = mne.io.read_raw_edf(edf_path, preload=False, verbose=False)\n",
            "/tmp/ipython-input-8-1077296292.py:33: RuntimeWarning: Channel names are not unique, found duplicates for: {'Flow Patient'}. Applying running numbers for duplicates.\n",
            "  raw = mne.io.read_raw_edf(edf_path, preload=False, verbose=False)\n",
            "/tmp/ipython-input-8-1077296292.py:33: RuntimeWarning: Channels contain different highpass filters. Highest filter setting will be stored.\n",
            "  raw = mne.io.read_raw_edf(edf_path, preload=False, verbose=False)\n",
            "/tmp/ipython-input-8-1077296292.py:33: RuntimeWarning: Channels contain different lowpass filters. Lowest filter setting will be stored.\n",
            "  raw = mne.io.read_raw_edf(edf_path, preload=False, verbose=False)\n",
            "/tmp/ipython-input-8-1077296292.py:55: RuntimeWarning: Channel names are not unique, found duplicates for: {'Flow Patient'}. Applying running numbers for duplicates.\n",
            "  raw = mne.io.read_raw_edf(edf_path, preload=False, verbose=False)\n",
            "/tmp/ipython-input-8-1077296292.py:55: RuntimeWarning: Channels contain different highpass filters. Highest filter setting will be stored.\n",
            "  raw = mne.io.read_raw_edf(edf_path, preload=False, verbose=False)\n",
            "/tmp/ipython-input-8-1077296292.py:55: RuntimeWarning: Channels contain different lowpass filters. Lowest filter setting will be stored.\n",
            "  raw = mne.io.read_raw_edf(edf_path, preload=False, verbose=False)\n"
          ]
        },
        {
          "output_type": "stream",
          "name": "stdout",
          "text": [
            "Processing in chunks: patient_15_part_2.edf\n"
          ]
        },
        {
          "output_type": "stream",
          "name": "stderr",
          "text": [
            "/tmp/ipython-input-8-1077296292.py:55: RuntimeWarning: Channel names are not unique, found duplicates for: {'Flow Patient'}. Applying running numbers for duplicates.\n",
            "  raw = mne.io.read_raw_edf(edf_path, preload=False, verbose=False)\n",
            "/tmp/ipython-input-8-1077296292.py:55: RuntimeWarning: Channels contain different highpass filters. Highest filter setting will be stored.\n",
            "  raw = mne.io.read_raw_edf(edf_path, preload=False, verbose=False)\n",
            "/tmp/ipython-input-8-1077296292.py:55: RuntimeWarning: Channels contain different lowpass filters. Lowest filter setting will be stored.\n",
            "  raw = mne.io.read_raw_edf(edf_path, preload=False, verbose=False)\n"
          ]
        },
        {
          "output_type": "stream",
          "name": "stdout",
          "text": [
            "Processing in chunks: patient_15_part_3.edf\n"
          ]
        },
        {
          "output_type": "stream",
          "name": "stderr",
          "text": [
            "/tmp/ipython-input-8-1077296292.py:55: RuntimeWarning: Channel names are not unique, found duplicates for: {'Flow Patient'}. Applying running numbers for duplicates.\n",
            "  raw = mne.io.read_raw_edf(edf_path, preload=False, verbose=False)\n",
            "/tmp/ipython-input-8-1077296292.py:55: RuntimeWarning: Channels contain different highpass filters. Highest filter setting will be stored.\n",
            "  raw = mne.io.read_raw_edf(edf_path, preload=False, verbose=False)\n",
            "/tmp/ipython-input-8-1077296292.py:55: RuntimeWarning: Channels contain different lowpass filters. Lowest filter setting will be stored.\n",
            "  raw = mne.io.read_raw_edf(edf_path, preload=False, verbose=False)\n"
          ]
        },
        {
          "output_type": "stream",
          "name": "stdout",
          "text": [
            "Processing in chunks: patient_15_part_4.edf\n"
          ]
        },
        {
          "output_type": "stream",
          "name": "stderr",
          "text": [
            "/tmp/ipython-input-8-1077296292.py:55: RuntimeWarning: Channel names are not unique, found duplicates for: {'Flow Patient'}. Applying running numbers for duplicates.\n",
            "  raw = mne.io.read_raw_edf(edf_path, preload=False, verbose=False)\n",
            "/tmp/ipython-input-8-1077296292.py:55: RuntimeWarning: Channels contain different highpass filters. Highest filter setting will be stored.\n",
            "  raw = mne.io.read_raw_edf(edf_path, preload=False, verbose=False)\n",
            "/tmp/ipython-input-8-1077296292.py:55: RuntimeWarning: Channels contain different lowpass filters. Lowest filter setting will be stored.\n",
            "  raw = mne.io.read_raw_edf(edf_path, preload=False, verbose=False)\n"
          ]
        },
        {
          "output_type": "stream",
          "name": "stdout",
          "text": [
            "✅ Successfully created downsampled WAV: patient_15_full_mic.wav\n",
            "\n",
            "--- Step 3: Extracting Features and Labels ---\n",
            "Extracted 189 apnea events from patient_15.rml\n",
            "✅ Appended 11867 frames from patient_15 to master CSV.\n",
            "\n",
            "==================== Processing patient_16 ====================\n",
            "\n",
            "--- Step 1: Downloading Files ---\n",
            "Downloading https://china.scidb.cn/download?fileId=6436722f9870236416bbf6a8&traceId=0ec4c131-82e0-4d7c-8183-b572a57f0957...\n",
            "Successfully downloaded to /content/apnea_data/patient_16/patient_16.rml\n",
            "Downloading https://china.scidb.cn/download?fileId=61a0ca3f89f14b48842cf195&traceId=0ec4c131-82e0-4d7c-8183-b572a57f0957...\n",
            "Successfully downloaded to /content/apnea_data/patient_16/patient_16_part_1.edf\n",
            "Downloading https://china.scidb.cn/download?fileId=61a0ca3f89f14b48842cf194&traceId=0ec4c131-82e0-4d7c-8183-b572a57f0957...\n",
            "Successfully downloaded to /content/apnea_data/patient_16/patient_16_part_2.edf\n",
            "Downloading https://china.scidb.cn/download?fileId=61a0ca3f89f14b48842cf193&traceId=0ec4c131-82e0-4d7c-8183-b572a57f0957...\n",
            "Successfully downloaded to /content/apnea_data/patient_16/patient_16_part_3.edf\n",
            "Downloading https://china.scidb.cn/download?fileId=61a0ca3f89f14b48842cf192&traceId=0ec4c131-82e0-4d7c-8183-b572a57f0957...\n",
            "Successfully downloaded to /content/apnea_data/patient_16/patient_16_part_4.edf\n",
            "\n",
            "--- Step 2: Concatenating Audio to 256 Hz (Memory-Safe)---\n",
            "Processing in chunks: patient_16_part_1.edf\n"
          ]
        },
        {
          "output_type": "stream",
          "name": "stderr",
          "text": [
            "/tmp/ipython-input-8-1077296292.py:33: RuntimeWarning: Channel names are not unique, found duplicates for: {'Flow Patient'}. Applying running numbers for duplicates.\n",
            "  raw = mne.io.read_raw_edf(edf_path, preload=False, verbose=False)\n",
            "/tmp/ipython-input-8-1077296292.py:33: RuntimeWarning: Channels contain different highpass filters. Highest filter setting will be stored.\n",
            "  raw = mne.io.read_raw_edf(edf_path, preload=False, verbose=False)\n",
            "/tmp/ipython-input-8-1077296292.py:33: RuntimeWarning: Channels contain different lowpass filters. Lowest filter setting will be stored.\n",
            "  raw = mne.io.read_raw_edf(edf_path, preload=False, verbose=False)\n",
            "/tmp/ipython-input-8-1077296292.py:33: RuntimeWarning: Channel names are not unique, found duplicates for: {'Flow Patient'}. Applying running numbers for duplicates.\n",
            "  raw = mne.io.read_raw_edf(edf_path, preload=False, verbose=False)\n",
            "/tmp/ipython-input-8-1077296292.py:33: RuntimeWarning: Channels contain different highpass filters. Highest filter setting will be stored.\n",
            "  raw = mne.io.read_raw_edf(edf_path, preload=False, verbose=False)\n",
            "/tmp/ipython-input-8-1077296292.py:33: RuntimeWarning: Channels contain different lowpass filters. Lowest filter setting will be stored.\n",
            "  raw = mne.io.read_raw_edf(edf_path, preload=False, verbose=False)\n",
            "/tmp/ipython-input-8-1077296292.py:33: RuntimeWarning: Channel names are not unique, found duplicates for: {'Flow Patient'}. Applying running numbers for duplicates.\n",
            "  raw = mne.io.read_raw_edf(edf_path, preload=False, verbose=False)\n",
            "/tmp/ipython-input-8-1077296292.py:33: RuntimeWarning: Channels contain different highpass filters. Highest filter setting will be stored.\n",
            "  raw = mne.io.read_raw_edf(edf_path, preload=False, verbose=False)\n",
            "/tmp/ipython-input-8-1077296292.py:33: RuntimeWarning: Channels contain different lowpass filters. Lowest filter setting will be stored.\n",
            "  raw = mne.io.read_raw_edf(edf_path, preload=False, verbose=False)\n",
            "/tmp/ipython-input-8-1077296292.py:33: RuntimeWarning: Channel names are not unique, found duplicates for: {'Flow Patient'}. Applying running numbers for duplicates.\n",
            "  raw = mne.io.read_raw_edf(edf_path, preload=False, verbose=False)\n",
            "/tmp/ipython-input-8-1077296292.py:33: RuntimeWarning: Channels contain different highpass filters. Highest filter setting will be stored.\n",
            "  raw = mne.io.read_raw_edf(edf_path, preload=False, verbose=False)\n",
            "/tmp/ipython-input-8-1077296292.py:33: RuntimeWarning: Channels contain different lowpass filters. Lowest filter setting will be stored.\n",
            "  raw = mne.io.read_raw_edf(edf_path, preload=False, verbose=False)\n",
            "/tmp/ipython-input-8-1077296292.py:55: RuntimeWarning: Channel names are not unique, found duplicates for: {'Flow Patient'}. Applying running numbers for duplicates.\n",
            "  raw = mne.io.read_raw_edf(edf_path, preload=False, verbose=False)\n",
            "/tmp/ipython-input-8-1077296292.py:55: RuntimeWarning: Channels contain different highpass filters. Highest filter setting will be stored.\n",
            "  raw = mne.io.read_raw_edf(edf_path, preload=False, verbose=False)\n",
            "/tmp/ipython-input-8-1077296292.py:55: RuntimeWarning: Channels contain different lowpass filters. Lowest filter setting will be stored.\n",
            "  raw = mne.io.read_raw_edf(edf_path, preload=False, verbose=False)\n"
          ]
        },
        {
          "output_type": "stream",
          "name": "stdout",
          "text": [
            "Processing in chunks: patient_16_part_2.edf\n"
          ]
        },
        {
          "output_type": "stream",
          "name": "stderr",
          "text": [
            "/tmp/ipython-input-8-1077296292.py:55: RuntimeWarning: Channel names are not unique, found duplicates for: {'Flow Patient'}. Applying running numbers for duplicates.\n",
            "  raw = mne.io.read_raw_edf(edf_path, preload=False, verbose=False)\n",
            "/tmp/ipython-input-8-1077296292.py:55: RuntimeWarning: Channels contain different highpass filters. Highest filter setting will be stored.\n",
            "  raw = mne.io.read_raw_edf(edf_path, preload=False, verbose=False)\n",
            "/tmp/ipython-input-8-1077296292.py:55: RuntimeWarning: Channels contain different lowpass filters. Lowest filter setting will be stored.\n",
            "  raw = mne.io.read_raw_edf(edf_path, preload=False, verbose=False)\n"
          ]
        },
        {
          "output_type": "stream",
          "name": "stdout",
          "text": [
            "Processing in chunks: patient_16_part_3.edf\n"
          ]
        },
        {
          "output_type": "stream",
          "name": "stderr",
          "text": [
            "/tmp/ipython-input-8-1077296292.py:55: RuntimeWarning: Channel names are not unique, found duplicates for: {'Flow Patient'}. Applying running numbers for duplicates.\n",
            "  raw = mne.io.read_raw_edf(edf_path, preload=False, verbose=False)\n",
            "/tmp/ipython-input-8-1077296292.py:55: RuntimeWarning: Channels contain different highpass filters. Highest filter setting will be stored.\n",
            "  raw = mne.io.read_raw_edf(edf_path, preload=False, verbose=False)\n",
            "/tmp/ipython-input-8-1077296292.py:55: RuntimeWarning: Channels contain different lowpass filters. Lowest filter setting will be stored.\n",
            "  raw = mne.io.read_raw_edf(edf_path, preload=False, verbose=False)\n"
          ]
        },
        {
          "output_type": "stream",
          "name": "stdout",
          "text": [
            "Processing in chunks: patient_16_part_4.edf\n"
          ]
        },
        {
          "output_type": "stream",
          "name": "stderr",
          "text": [
            "/tmp/ipython-input-8-1077296292.py:55: RuntimeWarning: Channel names are not unique, found duplicates for: {'Flow Patient'}. Applying running numbers for duplicates.\n",
            "  raw = mne.io.read_raw_edf(edf_path, preload=False, verbose=False)\n",
            "/tmp/ipython-input-8-1077296292.py:55: RuntimeWarning: Channels contain different highpass filters. Highest filter setting will be stored.\n",
            "  raw = mne.io.read_raw_edf(edf_path, preload=False, verbose=False)\n",
            "/tmp/ipython-input-8-1077296292.py:55: RuntimeWarning: Channels contain different lowpass filters. Lowest filter setting will be stored.\n",
            "  raw = mne.io.read_raw_edf(edf_path, preload=False, verbose=False)\n"
          ]
        },
        {
          "output_type": "stream",
          "name": "stdout",
          "text": [
            "✅ Successfully created downsampled WAV: patient_16_full_mic.wav\n",
            "\n",
            "--- Step 3: Extracting Features and Labels ---\n",
            "Extracted 85 apnea events from patient_16.rml\n",
            "✅ Appended 13363 frames from patient_16 to master CSV.\n",
            "\n",
            "==================== Processing patient_17 ====================\n",
            "\n",
            "--- Step 1: Downloading Files ---\n",
            "Downloading https://china.scidb.cn/download?fileId=6436722f7869a339f571d647&traceId=0ec4c131-82e0-4d7c-8183-b572a57f0957...\n",
            "Successfully downloaded to /content/apnea_data/patient_17/patient_17.rml\n",
            "Downloading https://china.scidb.cn/download?fileId=61a0ca3f89f14b48842cf191&traceId=0ec4c131-82e0-4d7c-8183-b572a57f0957...\n",
            "Successfully downloaded to /content/apnea_data/patient_17/patient_17_part_1.edf\n",
            "Downloading https://china.scidb.cn/download?fileId=61a0ca3f89f14b48842cf190&traceId=0ec4c131-82e0-4d7c-8183-b572a57f0957...\n",
            "Successfully downloaded to /content/apnea_data/patient_17/patient_17_part_2.edf\n",
            "Downloading https://china.scidb.cn/download?fileId=61a0ca3f89f14b48842cf18f&traceId=0ec4c131-82e0-4d7c-8183-b572a57f0957...\n",
            "Successfully downloaded to /content/apnea_data/patient_17/patient_17_part_3.edf\n",
            "Downloading https://china.scidb.cn/download?fileId=61a0ca3f89f14b48842cf18e&traceId=0ec4c131-82e0-4d7c-8183-b572a57f0957...\n",
            "Successfully downloaded to /content/apnea_data/patient_17/patient_17_part_4.edf\n",
            "Downloading https://china.scidb.cn/download?fileId=61a0ca3f89f14b48842cf18d&traceId=0ec4c131-82e0-4d7c-8183-b572a57f0957...\n",
            "Successfully downloaded to /content/apnea_data/patient_17/patient_17_part_5.edf\n",
            "\n",
            "--- Step 2: Concatenating Audio to 256 Hz (Memory-Safe)---\n",
            "Processing in chunks: patient_17_part_1.edf\n"
          ]
        },
        {
          "output_type": "stream",
          "name": "stderr",
          "text": [
            "/tmp/ipython-input-8-1077296292.py:33: RuntimeWarning: Channel names are not unique, found duplicates for: {'Flow Patient'}. Applying running numbers for duplicates.\n",
            "  raw = mne.io.read_raw_edf(edf_path, preload=False, verbose=False)\n",
            "/tmp/ipython-input-8-1077296292.py:33: RuntimeWarning: Channels contain different highpass filters. Highest filter setting will be stored.\n",
            "  raw = mne.io.read_raw_edf(edf_path, preload=False, verbose=False)\n",
            "/tmp/ipython-input-8-1077296292.py:33: RuntimeWarning: Channels contain different lowpass filters. Lowest filter setting will be stored.\n",
            "  raw = mne.io.read_raw_edf(edf_path, preload=False, verbose=False)\n",
            "/tmp/ipython-input-8-1077296292.py:33: RuntimeWarning: Channel names are not unique, found duplicates for: {'Flow Patient'}. Applying running numbers for duplicates.\n",
            "  raw = mne.io.read_raw_edf(edf_path, preload=False, verbose=False)\n",
            "/tmp/ipython-input-8-1077296292.py:33: RuntimeWarning: Channels contain different highpass filters. Highest filter setting will be stored.\n",
            "  raw = mne.io.read_raw_edf(edf_path, preload=False, verbose=False)\n",
            "/tmp/ipython-input-8-1077296292.py:33: RuntimeWarning: Channels contain different lowpass filters. Lowest filter setting will be stored.\n",
            "  raw = mne.io.read_raw_edf(edf_path, preload=False, verbose=False)\n",
            "/tmp/ipython-input-8-1077296292.py:33: RuntimeWarning: Channel names are not unique, found duplicates for: {'Flow Patient'}. Applying running numbers for duplicates.\n",
            "  raw = mne.io.read_raw_edf(edf_path, preload=False, verbose=False)\n",
            "/tmp/ipython-input-8-1077296292.py:33: RuntimeWarning: Channels contain different highpass filters. Highest filter setting will be stored.\n",
            "  raw = mne.io.read_raw_edf(edf_path, preload=False, verbose=False)\n",
            "/tmp/ipython-input-8-1077296292.py:33: RuntimeWarning: Channels contain different lowpass filters. Lowest filter setting will be stored.\n",
            "  raw = mne.io.read_raw_edf(edf_path, preload=False, verbose=False)\n",
            "/tmp/ipython-input-8-1077296292.py:33: RuntimeWarning: Channel names are not unique, found duplicates for: {'Flow Patient'}. Applying running numbers for duplicates.\n",
            "  raw = mne.io.read_raw_edf(edf_path, preload=False, verbose=False)\n",
            "/tmp/ipython-input-8-1077296292.py:33: RuntimeWarning: Channels contain different highpass filters. Highest filter setting will be stored.\n",
            "  raw = mne.io.read_raw_edf(edf_path, preload=False, verbose=False)\n",
            "/tmp/ipython-input-8-1077296292.py:33: RuntimeWarning: Channels contain different lowpass filters. Lowest filter setting will be stored.\n",
            "  raw = mne.io.read_raw_edf(edf_path, preload=False, verbose=False)\n",
            "/tmp/ipython-input-8-1077296292.py:33: RuntimeWarning: Channel names are not unique, found duplicates for: {'Flow Patient'}. Applying running numbers for duplicates.\n",
            "  raw = mne.io.read_raw_edf(edf_path, preload=False, verbose=False)\n",
            "/tmp/ipython-input-8-1077296292.py:33: RuntimeWarning: Channels contain different highpass filters. Highest filter setting will be stored.\n",
            "  raw = mne.io.read_raw_edf(edf_path, preload=False, verbose=False)\n",
            "/tmp/ipython-input-8-1077296292.py:33: RuntimeWarning: Channels contain different lowpass filters. Lowest filter setting will be stored.\n",
            "  raw = mne.io.read_raw_edf(edf_path, preload=False, verbose=False)\n",
            "/tmp/ipython-input-8-1077296292.py:55: RuntimeWarning: Channel names are not unique, found duplicates for: {'Flow Patient'}. Applying running numbers for duplicates.\n",
            "  raw = mne.io.read_raw_edf(edf_path, preload=False, verbose=False)\n",
            "/tmp/ipython-input-8-1077296292.py:55: RuntimeWarning: Channels contain different highpass filters. Highest filter setting will be stored.\n",
            "  raw = mne.io.read_raw_edf(edf_path, preload=False, verbose=False)\n",
            "/tmp/ipython-input-8-1077296292.py:55: RuntimeWarning: Channels contain different lowpass filters. Lowest filter setting will be stored.\n",
            "  raw = mne.io.read_raw_edf(edf_path, preload=False, verbose=False)\n"
          ]
        },
        {
          "output_type": "stream",
          "name": "stdout",
          "text": [
            "Processing in chunks: patient_17_part_2.edf\n"
          ]
        },
        {
          "output_type": "stream",
          "name": "stderr",
          "text": [
            "/tmp/ipython-input-8-1077296292.py:55: RuntimeWarning: Channel names are not unique, found duplicates for: {'Flow Patient'}. Applying running numbers for duplicates.\n",
            "  raw = mne.io.read_raw_edf(edf_path, preload=False, verbose=False)\n",
            "/tmp/ipython-input-8-1077296292.py:55: RuntimeWarning: Channels contain different highpass filters. Highest filter setting will be stored.\n",
            "  raw = mne.io.read_raw_edf(edf_path, preload=False, verbose=False)\n",
            "/tmp/ipython-input-8-1077296292.py:55: RuntimeWarning: Channels contain different lowpass filters. Lowest filter setting will be stored.\n",
            "  raw = mne.io.read_raw_edf(edf_path, preload=False, verbose=False)\n"
          ]
        },
        {
          "output_type": "stream",
          "name": "stdout",
          "text": [
            "Processing in chunks: patient_17_part_3.edf\n"
          ]
        },
        {
          "output_type": "stream",
          "name": "stderr",
          "text": [
            "/tmp/ipython-input-8-1077296292.py:55: RuntimeWarning: Channel names are not unique, found duplicates for: {'Flow Patient'}. Applying running numbers for duplicates.\n",
            "  raw = mne.io.read_raw_edf(edf_path, preload=False, verbose=False)\n",
            "/tmp/ipython-input-8-1077296292.py:55: RuntimeWarning: Channels contain different highpass filters. Highest filter setting will be stored.\n",
            "  raw = mne.io.read_raw_edf(edf_path, preload=False, verbose=False)\n",
            "/tmp/ipython-input-8-1077296292.py:55: RuntimeWarning: Channels contain different lowpass filters. Lowest filter setting will be stored.\n",
            "  raw = mne.io.read_raw_edf(edf_path, preload=False, verbose=False)\n"
          ]
        },
        {
          "output_type": "stream",
          "name": "stdout",
          "text": [
            "Processing in chunks: patient_17_part_4.edf\n"
          ]
        },
        {
          "output_type": "stream",
          "name": "stderr",
          "text": [
            "/tmp/ipython-input-8-1077296292.py:55: RuntimeWarning: Channel names are not unique, found duplicates for: {'Flow Patient'}. Applying running numbers for duplicates.\n",
            "  raw = mne.io.read_raw_edf(edf_path, preload=False, verbose=False)\n",
            "/tmp/ipython-input-8-1077296292.py:55: RuntimeWarning: Channels contain different highpass filters. Highest filter setting will be stored.\n",
            "  raw = mne.io.read_raw_edf(edf_path, preload=False, verbose=False)\n",
            "/tmp/ipython-input-8-1077296292.py:55: RuntimeWarning: Channels contain different lowpass filters. Lowest filter setting will be stored.\n",
            "  raw = mne.io.read_raw_edf(edf_path, preload=False, verbose=False)\n"
          ]
        },
        {
          "output_type": "stream",
          "name": "stdout",
          "text": [
            "Processing in chunks: patient_17_part_5.edf\n"
          ]
        },
        {
          "output_type": "stream",
          "name": "stderr",
          "text": [
            "/tmp/ipython-input-8-1077296292.py:55: RuntimeWarning: Channel names are not unique, found duplicates for: {'Flow Patient'}. Applying running numbers for duplicates.\n",
            "  raw = mne.io.read_raw_edf(edf_path, preload=False, verbose=False)\n",
            "/tmp/ipython-input-8-1077296292.py:55: RuntimeWarning: Channels contain different highpass filters. Highest filter setting will be stored.\n",
            "  raw = mne.io.read_raw_edf(edf_path, preload=False, verbose=False)\n",
            "/tmp/ipython-input-8-1077296292.py:55: RuntimeWarning: Channels contain different lowpass filters. Lowest filter setting will be stored.\n",
            "  raw = mne.io.read_raw_edf(edf_path, preload=False, verbose=False)\n"
          ]
        },
        {
          "output_type": "stream",
          "name": "stdout",
          "text": [
            "✅ Successfully created downsampled WAV: patient_17_full_mic.wav\n",
            "\n",
            "--- Step 3: Extracting Features and Labels ---\n",
            "Extracted 159 apnea events from patient_17.rml\n",
            "✅ Appended 15000 frames from patient_17 to master CSV.\n",
            "\n",
            "==================== Processing patient_18 ====================\n",
            "\n",
            "--- Step 1: Downloading Files ---\n",
            "Downloading https://china.scidb.cn/download?fileId=643672309870236416bbf6aa&traceId=0ec4c131-82e0-4d7c-8183-b572a57f0957...\n",
            "Successfully downloaded to /content/apnea_data/patient_18/patient_18.rml\n",
            "Downloading https://china.scidb.cn/download?fileId=61a0ca3f89f14b48842cf18c&traceId=0ec4c131-82e0-4d7c-8183-b572a57f0957...\n",
            "Successfully downloaded to /content/apnea_data/patient_18/patient_18_part_1.edf\n",
            "Downloading https://china.scidb.cn/download?fileId=61a0ca3f89f14b48842cf18b&traceId=0ec4c131-82e0-4d7c-8183-b572a57f0957...\n",
            "Successfully downloaded to /content/apnea_data/patient_18/patient_18_part_2.edf\n",
            "Downloading https://china.scidb.cn/download?fileId=61a0ca3f89f14b48842cf18a&traceId=0ec4c131-82e0-4d7c-8183-b572a57f0957...\n",
            "Successfully downloaded to /content/apnea_data/patient_18/patient_18_part_3.edf\n",
            "Downloading https://china.scidb.cn/download?fileId=61a0ca3f89f14b48842cf189&traceId=0ec4c131-82e0-4d7c-8183-b572a57f0957...\n",
            "Successfully downloaded to /content/apnea_data/patient_18/patient_18_part_4.edf\n",
            "Downloading https://china.scidb.cn/download?fileId=61a0ca3f89f14b48842cf188&traceId=0ec4c131-82e0-4d7c-8183-b572a57f0957...\n",
            "Successfully downloaded to /content/apnea_data/patient_18/patient_18_part_5.edf\n",
            "\n",
            "--- Step 2: Concatenating Audio to 256 Hz (Memory-Safe)---\n",
            "Processing in chunks: patient_18_part_1.edf\n"
          ]
        },
        {
          "output_type": "stream",
          "name": "stderr",
          "text": [
            "/tmp/ipython-input-8-1077296292.py:33: RuntimeWarning: Channel names are not unique, found duplicates for: {'Flow Patient'}. Applying running numbers for duplicates.\n",
            "  raw = mne.io.read_raw_edf(edf_path, preload=False, verbose=False)\n",
            "/tmp/ipython-input-8-1077296292.py:33: RuntimeWarning: Channels contain different highpass filters. Highest filter setting will be stored.\n",
            "  raw = mne.io.read_raw_edf(edf_path, preload=False, verbose=False)\n",
            "/tmp/ipython-input-8-1077296292.py:33: RuntimeWarning: Channels contain different lowpass filters. Lowest filter setting will be stored.\n",
            "  raw = mne.io.read_raw_edf(edf_path, preload=False, verbose=False)\n",
            "/tmp/ipython-input-8-1077296292.py:33: RuntimeWarning: Channel names are not unique, found duplicates for: {'Flow Patient'}. Applying running numbers for duplicates.\n",
            "  raw = mne.io.read_raw_edf(edf_path, preload=False, verbose=False)\n",
            "/tmp/ipython-input-8-1077296292.py:33: RuntimeWarning: Channels contain different highpass filters. Highest filter setting will be stored.\n",
            "  raw = mne.io.read_raw_edf(edf_path, preload=False, verbose=False)\n",
            "/tmp/ipython-input-8-1077296292.py:33: RuntimeWarning: Channels contain different lowpass filters. Lowest filter setting will be stored.\n",
            "  raw = mne.io.read_raw_edf(edf_path, preload=False, verbose=False)\n",
            "/tmp/ipython-input-8-1077296292.py:33: RuntimeWarning: Channel names are not unique, found duplicates for: {'Flow Patient'}. Applying running numbers for duplicates.\n",
            "  raw = mne.io.read_raw_edf(edf_path, preload=False, verbose=False)\n",
            "/tmp/ipython-input-8-1077296292.py:33: RuntimeWarning: Channels contain different highpass filters. Highest filter setting will be stored.\n",
            "  raw = mne.io.read_raw_edf(edf_path, preload=False, verbose=False)\n",
            "/tmp/ipython-input-8-1077296292.py:33: RuntimeWarning: Channels contain different lowpass filters. Lowest filter setting will be stored.\n",
            "  raw = mne.io.read_raw_edf(edf_path, preload=False, verbose=False)\n",
            "/tmp/ipython-input-8-1077296292.py:33: RuntimeWarning: Channel names are not unique, found duplicates for: {'Flow Patient'}. Applying running numbers for duplicates.\n",
            "  raw = mne.io.read_raw_edf(edf_path, preload=False, verbose=False)\n",
            "/tmp/ipython-input-8-1077296292.py:33: RuntimeWarning: Channels contain different highpass filters. Highest filter setting will be stored.\n",
            "  raw = mne.io.read_raw_edf(edf_path, preload=False, verbose=False)\n",
            "/tmp/ipython-input-8-1077296292.py:33: RuntimeWarning: Channels contain different lowpass filters. Lowest filter setting will be stored.\n",
            "  raw = mne.io.read_raw_edf(edf_path, preload=False, verbose=False)\n",
            "/tmp/ipython-input-8-1077296292.py:33: RuntimeWarning: Channel names are not unique, found duplicates for: {'Flow Patient'}. Applying running numbers for duplicates.\n",
            "  raw = mne.io.read_raw_edf(edf_path, preload=False, verbose=False)\n",
            "/tmp/ipython-input-8-1077296292.py:33: RuntimeWarning: Channels contain different highpass filters. Highest filter setting will be stored.\n",
            "  raw = mne.io.read_raw_edf(edf_path, preload=False, verbose=False)\n",
            "/tmp/ipython-input-8-1077296292.py:33: RuntimeWarning: Channels contain different lowpass filters. Lowest filter setting will be stored.\n",
            "  raw = mne.io.read_raw_edf(edf_path, preload=False, verbose=False)\n",
            "/tmp/ipython-input-8-1077296292.py:55: RuntimeWarning: Channel names are not unique, found duplicates for: {'Flow Patient'}. Applying running numbers for duplicates.\n",
            "  raw = mne.io.read_raw_edf(edf_path, preload=False, verbose=False)\n",
            "/tmp/ipython-input-8-1077296292.py:55: RuntimeWarning: Channels contain different highpass filters. Highest filter setting will be stored.\n",
            "  raw = mne.io.read_raw_edf(edf_path, preload=False, verbose=False)\n",
            "/tmp/ipython-input-8-1077296292.py:55: RuntimeWarning: Channels contain different lowpass filters. Lowest filter setting will be stored.\n",
            "  raw = mne.io.read_raw_edf(edf_path, preload=False, verbose=False)\n"
          ]
        },
        {
          "output_type": "stream",
          "name": "stdout",
          "text": [
            "Processing in chunks: patient_18_part_2.edf\n"
          ]
        },
        {
          "output_type": "stream",
          "name": "stderr",
          "text": [
            "/tmp/ipython-input-8-1077296292.py:55: RuntimeWarning: Channel names are not unique, found duplicates for: {'Flow Patient'}. Applying running numbers for duplicates.\n",
            "  raw = mne.io.read_raw_edf(edf_path, preload=False, verbose=False)\n",
            "/tmp/ipython-input-8-1077296292.py:55: RuntimeWarning: Channels contain different highpass filters. Highest filter setting will be stored.\n",
            "  raw = mne.io.read_raw_edf(edf_path, preload=False, verbose=False)\n",
            "/tmp/ipython-input-8-1077296292.py:55: RuntimeWarning: Channels contain different lowpass filters. Lowest filter setting will be stored.\n",
            "  raw = mne.io.read_raw_edf(edf_path, preload=False, verbose=False)\n"
          ]
        },
        {
          "output_type": "stream",
          "name": "stdout",
          "text": [
            "Processing in chunks: patient_18_part_3.edf\n"
          ]
        },
        {
          "output_type": "stream",
          "name": "stderr",
          "text": [
            "/tmp/ipython-input-8-1077296292.py:55: RuntimeWarning: Channel names are not unique, found duplicates for: {'Flow Patient'}. Applying running numbers for duplicates.\n",
            "  raw = mne.io.read_raw_edf(edf_path, preload=False, verbose=False)\n",
            "/tmp/ipython-input-8-1077296292.py:55: RuntimeWarning: Channels contain different highpass filters. Highest filter setting will be stored.\n",
            "  raw = mne.io.read_raw_edf(edf_path, preload=False, verbose=False)\n",
            "/tmp/ipython-input-8-1077296292.py:55: RuntimeWarning: Channels contain different lowpass filters. Lowest filter setting will be stored.\n",
            "  raw = mne.io.read_raw_edf(edf_path, preload=False, verbose=False)\n"
          ]
        },
        {
          "output_type": "stream",
          "name": "stdout",
          "text": [
            "Processing in chunks: patient_18_part_4.edf\n"
          ]
        },
        {
          "output_type": "stream",
          "name": "stderr",
          "text": [
            "/tmp/ipython-input-8-1077296292.py:55: RuntimeWarning: Channel names are not unique, found duplicates for: {'Flow Patient'}. Applying running numbers for duplicates.\n",
            "  raw = mne.io.read_raw_edf(edf_path, preload=False, verbose=False)\n",
            "/tmp/ipython-input-8-1077296292.py:55: RuntimeWarning: Channels contain different highpass filters. Highest filter setting will be stored.\n",
            "  raw = mne.io.read_raw_edf(edf_path, preload=False, verbose=False)\n",
            "/tmp/ipython-input-8-1077296292.py:55: RuntimeWarning: Channels contain different lowpass filters. Lowest filter setting will be stored.\n",
            "  raw = mne.io.read_raw_edf(edf_path, preload=False, verbose=False)\n"
          ]
        },
        {
          "output_type": "stream",
          "name": "stdout",
          "text": [
            "Processing in chunks: patient_18_part_5.edf\n"
          ]
        },
        {
          "output_type": "stream",
          "name": "stderr",
          "text": [
            "/tmp/ipython-input-8-1077296292.py:55: RuntimeWarning: Channel names are not unique, found duplicates for: {'Flow Patient'}. Applying running numbers for duplicates.\n",
            "  raw = mne.io.read_raw_edf(edf_path, preload=False, verbose=False)\n",
            "/tmp/ipython-input-8-1077296292.py:55: RuntimeWarning: Channels contain different highpass filters. Highest filter setting will be stored.\n",
            "  raw = mne.io.read_raw_edf(edf_path, preload=False, verbose=False)\n",
            "/tmp/ipython-input-8-1077296292.py:55: RuntimeWarning: Channels contain different lowpass filters. Lowest filter setting will be stored.\n",
            "  raw = mne.io.read_raw_edf(edf_path, preload=False, verbose=False)\n"
          ]
        },
        {
          "output_type": "stream",
          "name": "stdout",
          "text": [
            "✅ Successfully created downsampled WAV: patient_18_full_mic.wav\n",
            "\n",
            "--- Step 3: Extracting Features and Labels ---\n",
            "Extracted 62 apnea events from patient_18.rml\n",
            "✅ Appended 15313 frames from patient_18 to master CSV.\n",
            "\n",
            "==================== Processing patient_19 ====================\n",
            "\n",
            "--- Step 1: Downloading Files ---\n",
            "Downloading https://china.scidb.cn/download?fileId=6436722f7869a339f571d649&traceId=0ec4c131-82e0-4d7c-8183-b572a57f0957...\n",
            "Successfully downloaded to /content/apnea_data/patient_19/patient_19.rml\n",
            "Downloading https://china.scidb.cn/download?fileId=61a0ca3f89f14b48842cf187&traceId=0ec4c131-82e0-4d7c-8183-b572a57f0957...\n",
            "Successfully downloaded to /content/apnea_data/patient_19/patient_19_part_1.edf\n",
            "Downloading https://china.scidb.cn/download?fileId=61a0ca3f89f14b48842cf186&traceId=0ec4c131-82e0-4d7c-8183-b572a57f0957...\n",
            "Successfully downloaded to /content/apnea_data/patient_19/patient_19_part_2.edf\n",
            "Downloading https://china.scidb.cn/download?fileId=61a0ca3f89f14b48842cf185&traceId=0ec4c131-82e0-4d7c-8183-b572a57f0957...\n",
            "Successfully downloaded to /content/apnea_data/patient_19/patient_19_part_3.edf\n",
            "Downloading https://china.scidb.cn/download?fileId=61a0ca3f89f14b48842cf184&traceId=0ec4c131-82e0-4d7c-8183-b572a57f0957...\n",
            "Successfully downloaded to /content/apnea_data/patient_19/patient_19_part_4.edf\n",
            "Downloading https://china.scidb.cn/download?fileId=61a0ca3f89f14b48842cf183&traceId=0ec4c131-82e0-4d7c-8183-b572a57f0957...\n",
            "Successfully downloaded to /content/apnea_data/patient_19/patient_19_part_5.edf\n",
            "\n",
            "--- Step 2: Concatenating Audio to 256 Hz (Memory-Safe)---\n",
            "Processing in chunks: patient_19_part_1.edf\n"
          ]
        },
        {
          "output_type": "stream",
          "name": "stderr",
          "text": [
            "/tmp/ipython-input-8-1077296292.py:33: RuntimeWarning: Channel names are not unique, found duplicates for: {'Flow Patient'}. Applying running numbers for duplicates.\n",
            "  raw = mne.io.read_raw_edf(edf_path, preload=False, verbose=False)\n",
            "/tmp/ipython-input-8-1077296292.py:33: RuntimeWarning: Channels contain different highpass filters. Highest filter setting will be stored.\n",
            "  raw = mne.io.read_raw_edf(edf_path, preload=False, verbose=False)\n",
            "/tmp/ipython-input-8-1077296292.py:33: RuntimeWarning: Channels contain different lowpass filters. Lowest filter setting will be stored.\n",
            "  raw = mne.io.read_raw_edf(edf_path, preload=False, verbose=False)\n",
            "/tmp/ipython-input-8-1077296292.py:33: RuntimeWarning: Channel names are not unique, found duplicates for: {'Flow Patient'}. Applying running numbers for duplicates.\n",
            "  raw = mne.io.read_raw_edf(edf_path, preload=False, verbose=False)\n",
            "/tmp/ipython-input-8-1077296292.py:33: RuntimeWarning: Channels contain different highpass filters. Highest filter setting will be stored.\n",
            "  raw = mne.io.read_raw_edf(edf_path, preload=False, verbose=False)\n",
            "/tmp/ipython-input-8-1077296292.py:33: RuntimeWarning: Channels contain different lowpass filters. Lowest filter setting will be stored.\n",
            "  raw = mne.io.read_raw_edf(edf_path, preload=False, verbose=False)\n",
            "/tmp/ipython-input-8-1077296292.py:33: RuntimeWarning: Channel names are not unique, found duplicates for: {'Flow Patient'}. Applying running numbers for duplicates.\n",
            "  raw = mne.io.read_raw_edf(edf_path, preload=False, verbose=False)\n",
            "/tmp/ipython-input-8-1077296292.py:33: RuntimeWarning: Channels contain different highpass filters. Highest filter setting will be stored.\n",
            "  raw = mne.io.read_raw_edf(edf_path, preload=False, verbose=False)\n",
            "/tmp/ipython-input-8-1077296292.py:33: RuntimeWarning: Channels contain different lowpass filters. Lowest filter setting will be stored.\n",
            "  raw = mne.io.read_raw_edf(edf_path, preload=False, verbose=False)\n",
            "/tmp/ipython-input-8-1077296292.py:33: RuntimeWarning: Channel names are not unique, found duplicates for: {'Flow Patient'}. Applying running numbers for duplicates.\n",
            "  raw = mne.io.read_raw_edf(edf_path, preload=False, verbose=False)\n",
            "/tmp/ipython-input-8-1077296292.py:33: RuntimeWarning: Channels contain different highpass filters. Highest filter setting will be stored.\n",
            "  raw = mne.io.read_raw_edf(edf_path, preload=False, verbose=False)\n",
            "/tmp/ipython-input-8-1077296292.py:33: RuntimeWarning: Channels contain different lowpass filters. Lowest filter setting will be stored.\n",
            "  raw = mne.io.read_raw_edf(edf_path, preload=False, verbose=False)\n",
            "/tmp/ipython-input-8-1077296292.py:33: RuntimeWarning: Channel names are not unique, found duplicates for: {'Flow Patient'}. Applying running numbers for duplicates.\n",
            "  raw = mne.io.read_raw_edf(edf_path, preload=False, verbose=False)\n",
            "/tmp/ipython-input-8-1077296292.py:33: RuntimeWarning: Channels contain different highpass filters. Highest filter setting will be stored.\n",
            "  raw = mne.io.read_raw_edf(edf_path, preload=False, verbose=False)\n",
            "/tmp/ipython-input-8-1077296292.py:33: RuntimeWarning: Channels contain different lowpass filters. Lowest filter setting will be stored.\n",
            "  raw = mne.io.read_raw_edf(edf_path, preload=False, verbose=False)\n",
            "/tmp/ipython-input-8-1077296292.py:55: RuntimeWarning: Channel names are not unique, found duplicates for: {'Flow Patient'}. Applying running numbers for duplicates.\n",
            "  raw = mne.io.read_raw_edf(edf_path, preload=False, verbose=False)\n",
            "/tmp/ipython-input-8-1077296292.py:55: RuntimeWarning: Channels contain different highpass filters. Highest filter setting will be stored.\n",
            "  raw = mne.io.read_raw_edf(edf_path, preload=False, verbose=False)\n",
            "/tmp/ipython-input-8-1077296292.py:55: RuntimeWarning: Channels contain different lowpass filters. Lowest filter setting will be stored.\n",
            "  raw = mne.io.read_raw_edf(edf_path, preload=False, verbose=False)\n"
          ]
        },
        {
          "output_type": "stream",
          "name": "stdout",
          "text": [
            "Processing in chunks: patient_19_part_2.edf\n"
          ]
        },
        {
          "output_type": "stream",
          "name": "stderr",
          "text": [
            "/tmp/ipython-input-8-1077296292.py:55: RuntimeWarning: Channel names are not unique, found duplicates for: {'Flow Patient'}. Applying running numbers for duplicates.\n",
            "  raw = mne.io.read_raw_edf(edf_path, preload=False, verbose=False)\n",
            "/tmp/ipython-input-8-1077296292.py:55: RuntimeWarning: Channels contain different highpass filters. Highest filter setting will be stored.\n",
            "  raw = mne.io.read_raw_edf(edf_path, preload=False, verbose=False)\n",
            "/tmp/ipython-input-8-1077296292.py:55: RuntimeWarning: Channels contain different lowpass filters. Lowest filter setting will be stored.\n",
            "  raw = mne.io.read_raw_edf(edf_path, preload=False, verbose=False)\n"
          ]
        },
        {
          "output_type": "stream",
          "name": "stdout",
          "text": [
            "Processing in chunks: patient_19_part_3.edf\n"
          ]
        },
        {
          "output_type": "stream",
          "name": "stderr",
          "text": [
            "/tmp/ipython-input-8-1077296292.py:55: RuntimeWarning: Channel names are not unique, found duplicates for: {'Flow Patient'}. Applying running numbers for duplicates.\n",
            "  raw = mne.io.read_raw_edf(edf_path, preload=False, verbose=False)\n",
            "/tmp/ipython-input-8-1077296292.py:55: RuntimeWarning: Channels contain different highpass filters. Highest filter setting will be stored.\n",
            "  raw = mne.io.read_raw_edf(edf_path, preload=False, verbose=False)\n",
            "/tmp/ipython-input-8-1077296292.py:55: RuntimeWarning: Channels contain different lowpass filters. Lowest filter setting will be stored.\n",
            "  raw = mne.io.read_raw_edf(edf_path, preload=False, verbose=False)\n"
          ]
        },
        {
          "output_type": "stream",
          "name": "stdout",
          "text": [
            "Processing in chunks: patient_19_part_4.edf\n"
          ]
        },
        {
          "output_type": "stream",
          "name": "stderr",
          "text": [
            "/tmp/ipython-input-8-1077296292.py:55: RuntimeWarning: Channel names are not unique, found duplicates for: {'Flow Patient'}. Applying running numbers for duplicates.\n",
            "  raw = mne.io.read_raw_edf(edf_path, preload=False, verbose=False)\n",
            "/tmp/ipython-input-8-1077296292.py:55: RuntimeWarning: Channels contain different highpass filters. Highest filter setting will be stored.\n",
            "  raw = mne.io.read_raw_edf(edf_path, preload=False, verbose=False)\n",
            "/tmp/ipython-input-8-1077296292.py:55: RuntimeWarning: Channels contain different lowpass filters. Lowest filter setting will be stored.\n",
            "  raw = mne.io.read_raw_edf(edf_path, preload=False, verbose=False)\n"
          ]
        },
        {
          "output_type": "stream",
          "name": "stdout",
          "text": [
            "Processing in chunks: patient_19_part_5.edf\n"
          ]
        },
        {
          "output_type": "stream",
          "name": "stderr",
          "text": [
            "/tmp/ipython-input-8-1077296292.py:55: RuntimeWarning: Channel names are not unique, found duplicates for: {'Flow Patient'}. Applying running numbers for duplicates.\n",
            "  raw = mne.io.read_raw_edf(edf_path, preload=False, verbose=False)\n",
            "/tmp/ipython-input-8-1077296292.py:55: RuntimeWarning: Channels contain different highpass filters. Highest filter setting will be stored.\n",
            "  raw = mne.io.read_raw_edf(edf_path, preload=False, verbose=False)\n",
            "/tmp/ipython-input-8-1077296292.py:55: RuntimeWarning: Channels contain different lowpass filters. Lowest filter setting will be stored.\n",
            "  raw = mne.io.read_raw_edf(edf_path, preload=False, verbose=False)\n"
          ]
        },
        {
          "output_type": "stream",
          "name": "stdout",
          "text": [
            "✅ Successfully created downsampled WAV: patient_19_full_mic.wav\n",
            "\n",
            "--- Step 3: Extracting Features and Labels ---\n",
            "Extracted 58 apnea events from patient_19.rml\n",
            "✅ Appended 15863 frames from patient_19 to master CSV.\n",
            "\n",
            "==================== Processing patient_20 ====================\n",
            "\n",
            "--- Step 1: Downloading Files ---\n",
            "Downloading https://china.scidb.cn/download?fileId=6437f9c27869a339f571d95e&traceId=0ec4c131-82e0-4d7c-8183-b572a57f0957...\n",
            "Successfully downloaded to /content/apnea_data/patient_20/patient_20.rml\n",
            "Downloading https://china.scidb.cn/download?fileId=61a0ca3f89f14b48842cf16b&traceId=0ec4c131-82e0-4d7c-8183-b572a57f0957...\n",
            "Successfully downloaded to /content/apnea_data/patient_20/patient_20_part_1.edf\n",
            "Downloading https://china.scidb.cn/download?fileId=61a0ca3f89f14b48842cf16a&traceId=0ec4c131-82e0-4d7c-8183-b572a57f0957...\n",
            "Successfully downloaded to /content/apnea_data/patient_20/patient_20_part_2.edf\n",
            "Downloading https://china.scidb.cn/download?fileId=61a0ca3f89f14b48842cf169&traceId=0ec4c131-82e0-4d7c-8183-b572a57f0957...\n",
            "Successfully downloaded to /content/apnea_data/patient_20/patient_20_part_3.edf\n",
            "Downloading https://china.scidb.cn/download?fileId=61a0ca3f89f14b48842cf168&traceId=0ec4c131-82e0-4d7c-8183-b572a57f0957...\n",
            "Successfully downloaded to /content/apnea_data/patient_20/patient_20_part_4.edf\n",
            "\n",
            "--- Step 2: Concatenating Audio to 256 Hz (Memory-Safe)---\n",
            "Processing in chunks: patient_20_part_1.edf\n"
          ]
        },
        {
          "output_type": "stream",
          "name": "stderr",
          "text": [
            "/tmp/ipython-input-8-1077296292.py:33: RuntimeWarning: Channel names are not unique, found duplicates for: {'Flow Patient'}. Applying running numbers for duplicates.\n",
            "  raw = mne.io.read_raw_edf(edf_path, preload=False, verbose=False)\n",
            "/tmp/ipython-input-8-1077296292.py:33: RuntimeWarning: Channels contain different highpass filters. Highest filter setting will be stored.\n",
            "  raw = mne.io.read_raw_edf(edf_path, preload=False, verbose=False)\n",
            "/tmp/ipython-input-8-1077296292.py:33: RuntimeWarning: Channels contain different lowpass filters. Lowest filter setting will be stored.\n",
            "  raw = mne.io.read_raw_edf(edf_path, preload=False, verbose=False)\n",
            "/tmp/ipython-input-8-1077296292.py:33: RuntimeWarning: Channel names are not unique, found duplicates for: {'Flow Patient'}. Applying running numbers for duplicates.\n",
            "  raw = mne.io.read_raw_edf(edf_path, preload=False, verbose=False)\n",
            "/tmp/ipython-input-8-1077296292.py:33: RuntimeWarning: Channels contain different highpass filters. Highest filter setting will be stored.\n",
            "  raw = mne.io.read_raw_edf(edf_path, preload=False, verbose=False)\n",
            "/tmp/ipython-input-8-1077296292.py:33: RuntimeWarning: Channels contain different lowpass filters. Lowest filter setting will be stored.\n",
            "  raw = mne.io.read_raw_edf(edf_path, preload=False, verbose=False)\n",
            "/tmp/ipython-input-8-1077296292.py:33: RuntimeWarning: Channel names are not unique, found duplicates for: {'Flow Patient'}. Applying running numbers for duplicates.\n",
            "  raw = mne.io.read_raw_edf(edf_path, preload=False, verbose=False)\n",
            "/tmp/ipython-input-8-1077296292.py:33: RuntimeWarning: Channels contain different highpass filters. Highest filter setting will be stored.\n",
            "  raw = mne.io.read_raw_edf(edf_path, preload=False, verbose=False)\n",
            "/tmp/ipython-input-8-1077296292.py:33: RuntimeWarning: Channels contain different lowpass filters. Lowest filter setting will be stored.\n",
            "  raw = mne.io.read_raw_edf(edf_path, preload=False, verbose=False)\n",
            "/tmp/ipython-input-8-1077296292.py:33: RuntimeWarning: Channel names are not unique, found duplicates for: {'Flow Patient'}. Applying running numbers for duplicates.\n",
            "  raw = mne.io.read_raw_edf(edf_path, preload=False, verbose=False)\n",
            "/tmp/ipython-input-8-1077296292.py:33: RuntimeWarning: Channels contain different highpass filters. Highest filter setting will be stored.\n",
            "  raw = mne.io.read_raw_edf(edf_path, preload=False, verbose=False)\n",
            "/tmp/ipython-input-8-1077296292.py:33: RuntimeWarning: Channels contain different lowpass filters. Lowest filter setting will be stored.\n",
            "  raw = mne.io.read_raw_edf(edf_path, preload=False, verbose=False)\n",
            "/tmp/ipython-input-8-1077296292.py:55: RuntimeWarning: Channel names are not unique, found duplicates for: {'Flow Patient'}. Applying running numbers for duplicates.\n",
            "  raw = mne.io.read_raw_edf(edf_path, preload=False, verbose=False)\n",
            "/tmp/ipython-input-8-1077296292.py:55: RuntimeWarning: Channels contain different highpass filters. Highest filter setting will be stored.\n",
            "  raw = mne.io.read_raw_edf(edf_path, preload=False, verbose=False)\n",
            "/tmp/ipython-input-8-1077296292.py:55: RuntimeWarning: Channels contain different lowpass filters. Lowest filter setting will be stored.\n",
            "  raw = mne.io.read_raw_edf(edf_path, preload=False, verbose=False)\n"
          ]
        },
        {
          "output_type": "stream",
          "name": "stdout",
          "text": [
            "Processing in chunks: patient_20_part_2.edf\n"
          ]
        },
        {
          "output_type": "stream",
          "name": "stderr",
          "text": [
            "/tmp/ipython-input-8-1077296292.py:55: RuntimeWarning: Channel names are not unique, found duplicates for: {'Flow Patient'}. Applying running numbers for duplicates.\n",
            "  raw = mne.io.read_raw_edf(edf_path, preload=False, verbose=False)\n",
            "/tmp/ipython-input-8-1077296292.py:55: RuntimeWarning: Channels contain different highpass filters. Highest filter setting will be stored.\n",
            "  raw = mne.io.read_raw_edf(edf_path, preload=False, verbose=False)\n",
            "/tmp/ipython-input-8-1077296292.py:55: RuntimeWarning: Channels contain different lowpass filters. Lowest filter setting will be stored.\n",
            "  raw = mne.io.read_raw_edf(edf_path, preload=False, verbose=False)\n"
          ]
        },
        {
          "output_type": "stream",
          "name": "stdout",
          "text": [
            "Processing in chunks: patient_20_part_3.edf\n"
          ]
        },
        {
          "output_type": "stream",
          "name": "stderr",
          "text": [
            "/tmp/ipython-input-8-1077296292.py:55: RuntimeWarning: Channel names are not unique, found duplicates for: {'Flow Patient'}. Applying running numbers for duplicates.\n",
            "  raw = mne.io.read_raw_edf(edf_path, preload=False, verbose=False)\n",
            "/tmp/ipython-input-8-1077296292.py:55: RuntimeWarning: Channels contain different highpass filters. Highest filter setting will be stored.\n",
            "  raw = mne.io.read_raw_edf(edf_path, preload=False, verbose=False)\n",
            "/tmp/ipython-input-8-1077296292.py:55: RuntimeWarning: Channels contain different lowpass filters. Lowest filter setting will be stored.\n",
            "  raw = mne.io.read_raw_edf(edf_path, preload=False, verbose=False)\n"
          ]
        },
        {
          "output_type": "stream",
          "name": "stdout",
          "text": [
            "Processing in chunks: patient_20_part_4.edf\n"
          ]
        },
        {
          "output_type": "stream",
          "name": "stderr",
          "text": [
            "/tmp/ipython-input-8-1077296292.py:55: RuntimeWarning: Channel names are not unique, found duplicates for: {'Flow Patient'}. Applying running numbers for duplicates.\n",
            "  raw = mne.io.read_raw_edf(edf_path, preload=False, verbose=False)\n",
            "/tmp/ipython-input-8-1077296292.py:55: RuntimeWarning: Channels contain different highpass filters. Highest filter setting will be stored.\n",
            "  raw = mne.io.read_raw_edf(edf_path, preload=False, verbose=False)\n",
            "/tmp/ipython-input-8-1077296292.py:55: RuntimeWarning: Channels contain different lowpass filters. Lowest filter setting will be stored.\n",
            "  raw = mne.io.read_raw_edf(edf_path, preload=False, verbose=False)\n"
          ]
        },
        {
          "output_type": "stream",
          "name": "stdout",
          "text": [
            "✅ Successfully created downsampled WAV: patient_20_full_mic.wav\n",
            "\n",
            "--- Step 3: Extracting Features and Labels ---\n",
            "Extracted 201 apnea events from patient_20.rml\n",
            "✅ Appended 12802 frames from patient_20 to master CSV.\n",
            "\n",
            "==================== PIPELINE COMPLETE ====================\n",
            "Master dataset saved to: /content/apnea_data/master_apnea_dataset.csv\n"
          ]
        }
      ],
      "source": [
        "# === 5. MAIN EXECUTION LOOP ===\n",
        "# This cell runs the entire pipeline for all patients defined in the configuration.\n",
        "\n",
        "master_csv_file = os.path.join(base_dir, \"master_apnea_dataset.csv\")\n",
        "\n",
        "# Ensure the base directory exists\n",
        "os.makedirs(base_dir, exist_ok=True)\n",
        "\n",
        "for i, group in enumerate(patient_groups, 1):\n",
        "    p_id = f\"patient_{i}\"\n",
        "    process_patient(p_id, group, base_dir, master_csv_file)\n",
        "\n",
        "print(f\"\\n{'='*20} PIPELINE COMPLETE {'='*20}\")\n",
        "print(f\"Master dataset saved to: {master_csv_file}\")"
      ]
    }
  ],
  "metadata": {
    "language_info": {
      "name": "python"
    },
    "colab": {
      "provenance": []
    },
    "kernelspec": {
      "name": "python3",
      "display_name": "Python 3"
    }
  },
  "nbformat": 4,
  "nbformat_minor": 5
}