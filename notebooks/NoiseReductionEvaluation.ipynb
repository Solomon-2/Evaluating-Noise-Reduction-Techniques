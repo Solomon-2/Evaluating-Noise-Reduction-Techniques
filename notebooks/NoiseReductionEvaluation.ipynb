{
 "cells": [
  {
   "cell_type": "markdown",
   "id": "03b0f586",
   "metadata": {},
   "source": [
    "# Evaluating Noise Reduction Techniques for Sleep Audio Analysis\n",
    "\n",
    "This notebook demonstrates a batch-processing workflow for evaluating various noise reduction techniques on biomedical sleep audio data. It includes audio preparation, denoising, apnea event detection, and quantitative evaluation (sensitivity, precision, F1 score)."
   ]
  },
  {
   "cell_type": "markdown",
   "id": "3922c178",
   "metadata": {},
   "source": [
    "## 1. Setup & Requirements\n",
    "Install and import all required libraries."
   ]
  },
  {
   "cell_type": "code",
   "execution_count": null,
   "id": "70ee211b",
   "metadata": {},
   "outputs": [],
   "source": [
    "# Install required packages\n",
    "# !pip install numpy pandas librosa soundfile matplotlib torchaudio speechbrain df-enhnace\n",
    "import os\n",
    "import numpy as np\n",
    "import pandas as pd\n",
    "import librosa\n",
    "import soundfile as sf\n",
    "import matplotlib.pyplot as plt\n",
    "from IPython.display import Audio, display"
   ]
  },
  {
   "cell_type": "markdown",
   "id": "c6f64ed8",
   "metadata": {},
   "source": [
    "## 2. Data Overview\n",
    "Describe and visualize the available clean, noisy, and real-world sleep audio data."
   ]
  },
  {
   "cell_type": "code",
   "execution_count": null,
   "id": "0c0d615e",
   "metadata": {},
   "outputs": [],
   "source": [
    "# Example: List available clean and noisy audio files\n",
    "clean_dir = 'data/clean_voice_audio/wav'\n",
    "noisy_dir = 'tests/noisy'\n",
    "clean_files = sorted([f for f in os.listdir(clean_dir) if f.endswith('.wav')])\n",
    "noisy_files = sorted([f for f in os.listdir(noisy_dir) if f.endswith('.wav')])\n",
    "print('Clean files:', clean_files[:3])\n",
    "print('Noisy files:', noisy_files[:3])"
   ]
  },
  {
   "cell_type": "code",
   "execution_count": null,
   "id": "d3716204",
   "metadata": {},
   "outputs": [],
   "source": [
    "# Visualize and play a sample clean and noisy audio\n",
    "sample_clean = os.path.join(clean_dir, clean_files[0])\n",
    "sample_noisy = os.path.join(noisy_dir, noisy_files[0])\n",
    "y_clean, sr = librosa.load(sample_clean, sr=None)\n",
    "y_noisy, _ = librosa.load(sample_noisy, sr=sr)\n",
    "plt.figure(figsize=(12, 4))\n",
    "plt.plot(y_clean, label='Clean')\n",
    "plt.plot(y_noisy, alpha=0.6, label='Noisy')\n",
    "plt.legend(); plt.title('Waveforms'); plt.show()\n",
    "display(Audio(y_clean, rate=sr))\n",
    "display(Audio(y_noisy, rate=sr))"
   ]
  },
  {
   "cell_type": "markdown",
   "id": "595d66af",
   "metadata": {},
   "source": [
    "## 3. Audio Preparation\n",
    "Replicate, augment, and inject noise/apnea events in batch."
   ]
  },
  {
   "cell_type": "code",
   "execution_count": null,
   "id": "33433351",
   "metadata": {},
   "outputs": [],
   "source": [
    "# Example: Replicate and mix audio in batch (using your scripts)\n",
    "# !python src/replicate_audio.py --input <input.wav> --output <output.wav> --factor 2\n",
    "# !python src/combining_audio.py -cl <clean.wav> -n <noise.wav> -out <mixed.wav> -nl 0.2\n",
    "# !python src/apnea_injector.py --input <in.wav> --output <out.wav> --apnea_duration 10 --event_starts 5,30"
   ]
  },
  {
   "cell_type": "markdown",
   "id": "9cb5e18a",
   "metadata": {},
   "source": [
    "## 4. Noise Reduction Techniques\n",
    "Apply each denoising method in batch. Visualize and play before/after."
   ]
  },
  {
   "cell_type": "code",
   "execution_count": null,
   "id": "79ed6ddb",
   "metadata": {},
   "outputs": [],
   "source": [
    "# Example: Spectral Subtraction (batch)\n",
    "# !python src/spec_subtraction_same_file.py --input tests/noisy --output tests/denoised/spectral_subtraction\n",
    "# Example: Wiener Filtering (batch)\n",
    "# !python src/wiener_filtering.py --input tests/noisy --output tests/denoised/wiener\n",
    "# Example: LogMMSE (batch)\n",
    "# !python src/log_mmse.py --input tests/noisy --output tests/denoised/logmmse\n",
    "# Example: DeepFilterNet (batch)\n",
    "# !python src/denoise_with_deepfilternet.py\n",
    "# Example: SpeechBrain/MetricGAN (single file)\n",
    "# !python src/neural_1_speechbrain.py"
   ]
  },
  {
   "cell_type": "code",
   "execution_count": null,
   "id": "942eb67a",
   "metadata": {},
   "outputs": [],
   "source": [
    "# Visualize and play denoised audio\n",
    "denoised_dir = 'tests/denoised/spectral_subtraction'\n",
    "denoised_files = sorted([f for f in os.listdir(denoised_dir) if f.endswith('.wav')])\n",
    "sample_denoised = os.path.join(denoised_dir, denoised_files[0])\n",
    "y_denoised, _ = librosa.load(sample_denoised, sr=sr)\n",
    "plt.figure(figsize=(12, 4))\n",
    "plt.plot(y_noisy, label='Noisy')\n",
    "plt.plot(y_denoised, alpha=0.7, label='Denoised')\n",
    "plt.legend(); plt.title('Denoising Result'); plt.show()\n",
    "display(Audio(y_denoised, rate=sr))"
   ]
  },
  {
   "cell_type": "markdown",
   "id": "9ff49083",
   "metadata": {},
   "source": [
    "## 5. Apnea Event Detection\n",
    "Detect apnea events in denoised audio (batch)."
   ]
  },
  {
   "cell_type": "code",
   "execution_count": null,
   "id": "4d91c68e",
   "metadata": {},
   "outputs": [],
   "source": [
    "# Example: Run apnea detection in batch\n",
    "# !python src/apnea_detector.py --dir tests/denoised/spectral_subtraction --output_csv results/apnea_events_spectral_subtraction.csv"
   ]
  },
  {
   "cell_type": "markdown",
   "id": "d1a1873e",
   "metadata": {},
   "source": [
    "## 6. Evaluation Metrics\n",
    "Compute sensitivity, precision, and F1 score for each method."
   ]
  },
  {
   "cell_type": "code",
   "execution_count": null,
   "id": "de2943f1",
   "metadata": {},
   "outputs": [],
   "source": [
    "# Example: Compute metrics\n",
    "# !python src/compare_sensitivity.py --ground_csv <ground_truth.csv> --detected_csv <detected.csv>\n",
    "# !python src/compute_precision.py --ground_csv <ground_truth.csv> --detected_csv <detected.csv>\n",
    "# !python src/compute_f1_score.py --ground_csv <ground_truth.csv> --detected_csv <detected.csv>"
   ]
  },
  {
   "cell_type": "markdown",
   "id": "22f2d8f6",
   "metadata": {},
   "source": [
    "## 7. Visualization & Comparison\n",
    "Visualize and compare results (metrics, waveforms, spectrograms, audio)."
   ]
  },
  {
   "cell_type": "code",
   "execution_count": null,
   "id": "0c5d64b2",
   "metadata": {},
   "outputs": [],
   "source": [
    "# Example: Plot F1 scores for each method\n",
    "# import pandas as pd\n",
    "# df = pd.read_csv('results/f1_scores.csv')\n",
    "# df.plot(x='method', y='F1', kind='bar', legend=False)\n",
    "# plt.ylabel('F1 Score')\n",
    "# plt.title('Comparison of Noise Reduction Methods')\n",
    "# plt.show()"
   ]
  },
  {
   "cell_type": "markdown",
   "id": "c9dc87a3",
   "metadata": {},
   "source": [
    "## 8. Summary & Discussion\n",
    "Summarize findings, compare methods, and discuss strengths/weaknesses."
   ]
  }
 ],
 "metadata": {
  "language_info": {
   "name": "python"
  }
 },
 "nbformat": 4,
 "nbformat_minor": 5
}
